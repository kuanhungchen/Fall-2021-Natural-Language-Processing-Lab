{
  "nbformat": 4,
  "nbformat_minor": 5,
  "metadata": {
    "interpreter": {
      "hash": "90bd059e05f79fb9b7cf5d2b1dae6ea26ca779772e058f49dd8fbe1978749df0"
    },
    "kernelspec": {
      "display_name": "Python 3.9 [tf2.6]",
      "language": "python",
      "name": "tf26"
    },
    "language_info": {
      "codemirror_mode": {
        "name": "ipython",
        "version": 3
      },
      "file_extension": ".py",
      "mimetype": "text/x-python",
      "name": "python",
      "nbconvert_exporter": "python",
      "pygments_lexer": "ipython3",
      "version": "3.9.7"
    },
    "colab": {
      "name": "109061539.ipynb",
      "provenance": [],
      "collapsed_sections": []
    }
  },
  "cells": [
    {
      "cell_type": "markdown",
      "metadata": {
        "id": "lyric-pricing"
      },
      "source": [
        "# Week 09: Word Sense Disambiguation\n",
        "\n",
        "This week, we introduced a hot topic in Natural Language Proccessing: *Word Sense Disambiguation (WSD)* .  \n",
        "Many words in natural languages have ambiguous meanings. For example, the word *[party](https://dictionary.cambridge.org/dictionary/english/party)* can refer to 1) a social gathering (派對), 2) a political organization (政黨), or 3) an entity in law (當事人；⋯⋯方).  \n",
        "As a human, we can distinguish different meanings easily, but can a machine do the same? This is what WSD aims for.  "
      ],
      "id": "lyric-pricing"
    },
    {
      "cell_type": "markdown",
      "metadata": {
        "id": "mysterious-injury"
      },
      "source": [
        "## Introduction\n",
        "\n",
        "### tl; dr\n",
        "You have to \n",
        "1. preprocess the data\n",
        "2. (stage 1) generate a small training dataset from the given collocation seed,\n",
        "3. (stage 1) train a weak model on that small dataset,\n",
        "4. (stage 2) use the weak model to generate more labeled data, and\n",
        "5. (stage 2) train your final model\n",
        "6. Evaluate your model on testing data (requirement: accuracy > 0.7)\n",
        "\n",
        "### Concept\n",
        "\n",
        "In [Lesk's assumption](https://en.wikipedia.org/wiki/Lesk_algorithm), each word has only one sense when it appears in the same collocation.  \n",
        "For example, if *party* shows up with the word *court* (法庭), most likely the sense of this *party* is the 3rd one: an entity in law (當事人；⋯⋯方).  \n",
        "However, we are not implementing Lesk's algorithm this week. Instead, we will combine his assumption with [Yarowsky's](https://en.wikipedia.org/wiki/Yarowsky_algorithm) *bootstrap technique* .  \n",
        "\n",
        "You are given some pre-defined collocations, or called *seeds*, of the word *party*, along with which sense each collocation belongs to.  \n",
        "With the given seeds, you can generate a small set of labeled data by rule. Then with this small set, we can train a small model with limited accuracy.  \n",
        "The current classifier might not perform well on the whole dataset, sure, but it's already enough to generate more reliable labeled data. With the newly labeled training data, we can now train another sense-classification model with more robustness, which aims for the real WSD task.  \n",
        "This process, about training on smaller dataset, generating more data, and then improving the model itself, is called *[bootstrapping](https://www.mastersindatascience.org/learning/introduction-to-machine-learning-algorithms/bootstrapping/)* .  \n"
      ],
      "id": "mysterious-injury"
    },
    {
      "cell_type": "code",
      "metadata": {
        "colab": {
          "base_uri": "https://localhost:8080/"
        },
        "id": "6CvpmHYKEsL_",
        "outputId": "208d8707-1804-4dbe-d14f-75cdef30d786"
      },
      "source": [
        "\"\"\"mount Google Drive to Colab directory\n",
        "\"\"\"\n",
        "from google.colab import drive\n",
        "drive.mount('/content/drive')\n",
        "%cd /content/drive/MyDrive/Colab\\ Notebooks/week09/"
      ],
      "id": "6CvpmHYKEsL_",
      "execution_count": 1,
      "outputs": [
        {
          "output_type": "stream",
          "name": "stdout",
          "text": [
            "Drive already mounted at /content/drive; to attempt to forcibly remount, call drive.mount(\"/content/drive\", force_remount=True).\n",
            "/content/drive/MyDrive/Colab Notebooks/week09\n"
          ]
        }
      ]
    },
    {
      "cell_type": "markdown",
      "metadata": {
        "id": "resident-smart"
      },
      "source": [
        "<a name=\"I.-Data-preparation\"></a>\n",
        "## I. Data preparation\n",
        "\n",
        "First thing first. To make natural language understandable for machines, we have to transform sentences into embeddings.  \n",
        "So here are four things to do:\n",
        "\n",
        "1. load data\n",
        "2. preprocess the sentences\n",
        "3. transform sentences into embeddings\n",
        "4. pad the sentences to the same length\n",
        "\n",
        "To make the task simple and easy to understand, we will only work on a single word *party* .  \n",
        "Three senses of *party* is defined as below with their corresponding `sense id`s. "
      ],
      "id": "resident-smart"
    },
    {
      "cell_type": "code",
      "metadata": {
        "id": "involved-cooper"
      },
      "source": [
        "SENSE = {\n",
        "    1: 'a social event at which a group of people meet to talk, eat, drink, dance, etc.', # 派對\n",
        "    2: 'an organization of people with particular political beliefs', # 政黨\n",
        "    3: 'a single entity which can be identified as one for the purposes of the law' # （法庭）當事人；⋯⋯方\n",
        "}"
      ],
      "id": "involved-cooper",
      "execution_count": 2,
      "outputs": []
    },
    {
      "cell_type": "markdown",
      "metadata": {
        "id": "premier-missouri"
      },
      "source": [
        "### 1. Load data\n",
        "\n",
        "The data is a set of sentences containing the word *party*, all extracted from wikipedia. The uniqueness of each sentence is guaranteed. "
      ],
      "id": "premier-missouri"
    },
    {
      "cell_type": "code",
      "metadata": {
        "id": "polish-damages"
      },
      "source": [
        "import os"
      ],
      "id": "polish-damages",
      "execution_count": 3,
      "outputs": []
    },
    {
      "cell_type": "code",
      "metadata": {
        "id": "available-skiing"
      },
      "source": [
        "with open(os.path.join('data', 'party.train.txt'), 'r') as f:\n",
        "    data = f.read().strip().split('\\n')\n",
        "\n",
        "# this dict maps sentence_id to the sentence itself\n",
        "pure_data = { sent_id: text for sent_id, text in [line.split('\\t', 1) \n",
        "                                                 for line in data] }"
      ],
      "id": "available-skiing",
      "execution_count": 4,
      "outputs": []
    },
    {
      "cell_type": "markdown",
      "metadata": {
        "id": "functional-stage"
      },
      "source": [
        "Let's see what the data looks like."
      ],
      "id": "functional-stage"
    },
    {
      "cell_type": "code",
      "metadata": {
        "colab": {
          "base_uri": "https://localhost:8080/"
        },
        "id": "missing-replacement",
        "outputId": "05b3352e-8e61-44ac-9776-cea9f328296d"
      },
      "source": [
        "for sent_id, sentence in pure_data.items():\n",
        "    if int(sent_id) > 1003: break\n",
        "        \n",
        "    print(f'{sent_id}: {sentence}')"
      ],
      "id": "missing-replacement",
      "execution_count": 5,
      "outputs": [
        {
          "output_type": "stream",
          "name": "stdout",
          "text": [
            "1001: A naked party, also known as nude party, is a party where the participants are required to be nude.\n",
            "1002: The town center bears the hallmarks of a typical migration-accepting Turkish rural town, with traditional structures coexisting with a collection of concrete apartment blocks providing public housing, as well as amenities such as basic shopping and fast-food restaurants, and essential infrastructure but little in the way of culture except for cinemas and large rooms hired out for wedding parties.\n",
            "1003: Elections Alberta oversees the creation of political parties and riding associations, compiles election statistics on ridings, and collects financial statements from party candidates and riding associations.\n"
          ]
        }
      ]
    },
    {
      "cell_type": "code",
      "metadata": {
        "id": "sufficient-atmosphere"
      },
      "source": [
        "# a look up table from sentence to id\n",
        "id_mapper = {v: k for k, v in pure_data.items()}\n",
        "# a table for id to embedding; we will deal with this later\n",
        "processed_data = {}"
      ],
      "id": "sufficient-atmosphere",
      "execution_count": 6,
      "outputs": []
    },
    {
      "cell_type": "markdown",
      "metadata": {
        "id": "respiratory-homeless"
      },
      "source": [
        "We define 2 samples here to validate the preprocess during our coding."
      ],
      "id": "respiratory-homeless"
    },
    {
      "cell_type": "code",
      "metadata": {
        "id": "portable-scenario"
      },
      "source": [
        "samples = [\n",
        "    'Adnan Al-Hakim (died May 26, 1990) was the leader of the Najjadeh Party, an Arab nationalist party in Lebanon, for more than 30 years.',\n",
        "    'A block party or street party is a party in which many members of a single community congregate, either to observe an event of some importance or simply for mutual enjoyment.'\n",
        "]"
      ],
      "id": "portable-scenario",
      "execution_count": 7,
      "outputs": []
    },
    {
      "cell_type": "markdown",
      "metadata": {
        "id": "revolutionary-haven"
      },
      "source": [
        "### 2. Preprocess the sentences \n",
        "\n",
        "<font color=\"red\">[TODO]</font> Define your preprocessing function to transform a sentence into tokens here.  \n",
        "\n",
        "\\-\n",
        "\n",
        "<small>\n",
        "*hint: If you can't get a high accuracy in the final result, you may want to come back and modify your preprocessing here.<br/>\n",
        "*hint: Think about what words are useful and what are useless when distinguishing a sense.\n",
        "</small>"
      ],
      "id": "revolutionary-haven"
    },
    {
      "cell_type": "code",
      "metadata": {
        "id": "arranged-marijuana"
      },
      "source": [
        "def preprocess(text):\n",
        "    # [ TODO ]\n",
        "    import re\n",
        "    IGNORE = {\n",
        "        \"am\", \"is\", \"are\", \"was\", \"were\", \"the\", \"a\", \"an\",\n",
        "        \"for\", \"at\", \"in\", \"on\", \"of\"\n",
        "    }\n",
        "    \n",
        "    tokens = re.split('\\W+', text)\n",
        "    return [token for token in tokens if token and not token.isnumeric() and token not in IGNORE]"
      ],
      "id": "arranged-marijuana",
      "execution_count": 8,
      "outputs": []
    },
    {
      "cell_type": "code",
      "metadata": {
        "colab": {
          "base_uri": "https://localhost:8080/"
        },
        "id": "intense-notion",
        "outputId": "401b050b-669c-40ef-aa1a-4e68d822b94e"
      },
      "source": [
        "sent_tokens = [preprocess(sent) for sent in samples]\n",
        "sent_tokens[0][:5]"
      ],
      "id": "intense-notion",
      "execution_count": 9,
      "outputs": [
        {
          "output_type": "execute_result",
          "data": {
            "text/plain": [
              "['Adnan', 'Al', 'Hakim', 'died', 'May']"
            ]
          },
          "metadata": {},
          "execution_count": 9
        }
      ]
    },
    {
      "cell_type": "markdown",
      "metadata": {
        "id": "systematic-panel"
      },
      "source": [
        "### 3. Transform sentences into embeddings\n",
        "\n",
        "For the simplicity, we are still using word2vec here, so you can copy-paste your code from previous week.  \n",
        "This is not required; you don't have to use word2vec if you want to train a embedding model along with the classifier.  \n",
        "\n",
        "<small>\\*Download w2v: [Google Code Archive](https://code.google.com/archive/p/word2vec/#Pretrained-word-and-phrase-vectors)</small>"
      ],
      "id": "systematic-panel"
    },
    {
      "cell_type": "code",
      "metadata": {
        "id": "peripheral-above"
      },
      "source": [
        "import numpy as np\n",
        "from gensim.models import KeyedVectors"
      ],
      "id": "peripheral-above",
      "execution_count": 10,
      "outputs": []
    },
    {
      "cell_type": "code",
      "metadata": {
        "id": "united-desperate"
      },
      "source": [
        "w2v = KeyedVectors.load_word2vec_format(\n",
        "        os.path.join('data', 'GoogleNews-vectors-negative300.bin'), \n",
        "        binary = True\n",
        "      )"
      ],
      "id": "united-desperate",
      "execution_count": 13,
      "outputs": []
    },
    {
      "cell_type": "code",
      "metadata": {
        "id": "mexican-somerset"
      },
      "source": [
        "def to_embedding(tokens):\n",
        "    # [ TODO ]\n",
        "    embeddings = [w2v[token] if token in w2v else [0 for _ in range(300)] for token in tokens]\n",
        "    return embeddings"
      ],
      "id": "mexican-somerset",
      "execution_count": 11,
      "outputs": []
    },
    {
      "cell_type": "code",
      "metadata": {
        "scrolled": true,
        "colab": {
          "base_uri": "https://localhost:8080/"
        },
        "id": "oriented-married",
        "outputId": "eb35c78b-92bf-4a9c-a04a-23678425185d"
      },
      "source": [
        "embeddings = [to_embedding(tokens) for tokens in sent_tokens]\n",
        "\n",
        "print(embeddings[0])"
      ],
      "id": "oriented-married",
      "execution_count": 14,
      "outputs": [
        {
          "output_type": "stream",
          "name": "stdout",
          "text": [
            "[array([-1.40625000e-01,  2.07031250e-01, -1.29882812e-01, -2.38281250e-01,\n",
            "        1.68457031e-02,  1.53320312e-01, -1.29882812e-01, -3.82812500e-01,\n",
            "        2.02636719e-02,  2.40234375e-01, -2.65625000e-01, -1.13769531e-01,\n",
            "       -1.42578125e-01,  2.06298828e-02, -1.33789062e-01, -7.47070312e-02,\n",
            "       -4.66308594e-02, -3.53515625e-01,  4.07714844e-02,  2.59765625e-01,\n",
            "       -1.20117188e-01, -3.22265625e-02, -3.14941406e-02,  1.25000000e-01,\n",
            "        3.12805176e-03,  3.83300781e-02,  2.15820312e-01, -3.88183594e-02,\n",
            "        4.83398438e-02, -2.77343750e-01, -2.89306641e-02,  1.24511719e-01,\n",
            "        2.96875000e-01,  1.66992188e-01, -6.29882812e-02, -5.79833984e-03,\n",
            "        1.69921875e-01,  1.27929688e-01, -6.03027344e-02, -1.12792969e-01,\n",
            "        7.51953125e-02,  2.09960938e-01,  2.36328125e-01,  3.66210938e-02,\n",
            "        1.34765625e-01, -1.49414062e-01, -8.39843750e-02, -1.73828125e-01,\n",
            "        1.58203125e-01, -6.07910156e-02,  5.88378906e-02, -4.93164062e-02,\n",
            "        2.42187500e-01, -7.59887695e-03, -1.61132812e-01,  1.94335938e-01,\n",
            "       -1.45507812e-01,  1.70898438e-01, -2.02148438e-01, -4.33593750e-01,\n",
            "        1.19140625e-01, -8.05664062e-02, -4.24804688e-02, -5.29785156e-02,\n",
            "       -9.22851562e-02, -1.56250000e-02,  3.12500000e-01, -2.00195312e-01,\n",
            "        5.46875000e-02, -2.47070312e-01, -3.18359375e-01,  5.49316406e-02,\n",
            "       -6.54296875e-02,  1.57226562e-01, -2.92968750e-01, -1.17675781e-01,\n",
            "       -3.90625000e-02, -2.42919922e-02,  1.34765625e-01, -1.85546875e-01,\n",
            "       -2.08984375e-01, -1.09863281e-02,  5.59082031e-02, -2.30468750e-01,\n",
            "       -2.74658203e-02,  1.83593750e-01,  7.76367188e-02,  2.61718750e-01,\n",
            "       -3.08593750e-01,  1.30859375e-01,  7.75146484e-03, -3.65234375e-01,\n",
            "       -3.45703125e-01, -1.12152100e-03, -2.77343750e-01, -8.48388672e-03,\n",
            "        5.22460938e-02,  1.71875000e-01, -1.87500000e-01,  9.57031250e-02,\n",
            "        1.01562500e-01, -2.55126953e-02,  2.22167969e-02,  1.25000000e-01,\n",
            "        2.73437500e-01,  2.19726562e-02,  3.47656250e-01, -1.69921875e-01,\n",
            "        2.08007812e-01,  2.03125000e-01,  1.32812500e-01, -2.77343750e-01,\n",
            "        1.84570312e-01, -5.12695312e-02, -4.51660156e-02,  8.30078125e-03,\n",
            "       -2.27539062e-01,  4.79125977e-03,  8.88671875e-02, -2.04101562e-01,\n",
            "       -6.54296875e-02,  2.37304688e-01, -2.92968750e-01, -2.53906250e-02,\n",
            "       -2.23388672e-02,  3.69140625e-01, -6.25000000e-02, -1.86523438e-01,\n",
            "        1.33789062e-01, -1.32812500e-01,  1.00097656e-01, -7.32421875e-02,\n",
            "       -1.67846680e-03, -3.24218750e-01,  1.27563477e-02, -2.28515625e-01,\n",
            "        2.08007812e-01, -1.54296875e-01,  1.49414062e-01,  1.81640625e-01,\n",
            "        1.67968750e-01, -1.67968750e-01, -1.29394531e-02,  5.24902344e-02,\n",
            "       -1.66015625e-01, -1.17187500e-01, -1.43554688e-01, -1.41601562e-01,\n",
            "       -6.59179688e-02,  7.91015625e-02,  2.40234375e-01,  5.44433594e-02,\n",
            "       -2.38281250e-01, -5.59082031e-02,  4.10156250e-02, -3.55468750e-01,\n",
            "       -2.71484375e-01, -2.89062500e-01, -3.78417969e-02, -2.08984375e-01,\n",
            "       -1.60156250e-01, -1.49536133e-02,  1.95312500e-01, -3.36914062e-02,\n",
            "       -1.50390625e-01, -4.90722656e-02,  3.73535156e-02,  2.40478516e-02,\n",
            "        5.85937500e-02,  1.21582031e-01, -2.98828125e-01,  1.15356445e-02,\n",
            "       -1.58203125e-01, -3.45703125e-01,  6.49414062e-02,  6.04248047e-03,\n",
            "        4.49218750e-01,  1.19140625e-01,  2.03125000e-01, -1.03027344e-01,\n",
            "        8.54492188e-02, -1.70898438e-01, -1.29882812e-01, -1.07910156e-01,\n",
            "       -1.75781250e-01,  1.65039062e-01,  2.11914062e-01,  6.54296875e-02,\n",
            "       -5.95703125e-02,  1.21093750e-01, -1.52343750e-01,  3.51562500e-01,\n",
            "        2.02636719e-02,  2.67578125e-01, -8.59375000e-02, -1.67236328e-02,\n",
            "       -2.65625000e-01, -1.26953125e-01, -1.99218750e-01, -1.97265625e-01,\n",
            "        1.47094727e-02,  1.03027344e-01, -1.35742188e-01, -2.96875000e-01,\n",
            "        1.89453125e-01, -2.06054688e-01,  2.69531250e-01,  1.63085938e-01,\n",
            "        1.10473633e-02,  2.21679688e-01,  2.96630859e-02, -1.26953125e-01,\n",
            "        2.71484375e-01, -1.79687500e-01, -2.00195312e-02,  1.11328125e-01,\n",
            "       -1.51367188e-01,  3.39843750e-01, -1.03027344e-01, -3.14453125e-01,\n",
            "       -2.20703125e-01, -1.33789062e-01, -2.18750000e-01, -6.59179688e-02,\n",
            "        6.49414062e-02, -1.76757812e-01,  1.47705078e-02, -6.20117188e-02,\n",
            "       -1.33056641e-02, -3.51562500e-01, -3.55529785e-03, -1.96533203e-02,\n",
            "        1.66992188e-01, -1.78710938e-01,  1.66015625e-01, -5.95092773e-03,\n",
            "        9.57031250e-02,  2.62451172e-02, -4.58984375e-02,  1.48437500e-01,\n",
            "        2.89062500e-01,  6.78710938e-02, -1.36718750e-01,  6.78710938e-02,\n",
            "        3.00292969e-02,  2.30468750e-01,  2.11914062e-01,  3.18359375e-01,\n",
            "        3.90625000e-02,  5.83496094e-02,  4.10156250e-01,  9.61914062e-02,\n",
            "       -2.21679688e-01,  2.18750000e-01,  2.15820312e-01,  1.97265625e-01,\n",
            "       -3.69140625e-01,  1.91650391e-02, -8.39843750e-02, -3.88183594e-02,\n",
            "       -1.63085938e-01,  1.15966797e-02, -1.53320312e-01, -3.00781250e-01,\n",
            "        4.41406250e-01, -2.68554688e-02, -2.75390625e-01, -1.07421875e-01,\n",
            "        2.43164062e-01,  1.43554688e-01,  2.01171875e-01, -1.27929688e-01,\n",
            "        2.29492188e-01,  2.51953125e-01,  2.08007812e-01, -7.01904297e-04,\n",
            "        6.39648438e-02, -2.67578125e-01, -7.47070312e-02, -7.61718750e-02,\n",
            "        1.82617188e-01, -3.41796875e-01, -2.55859375e-01,  7.22656250e-02,\n",
            "        1.49414062e-01, -1.93359375e-01,  1.20605469e-01,  2.77099609e-02,\n",
            "        2.46093750e-01, -5.05447388e-05, -1.04980469e-01,  1.09375000e-01,\n",
            "        1.86523438e-01, -2.20703125e-01, -3.73046875e-01,  2.25585938e-01,\n",
            "       -2.42187500e-01,  3.07617188e-02,  7.08007812e-02,  4.84375000e-01],\n",
            "      dtype=float32), array([-3.90625000e-02,  2.48046875e-01,  5.40161133e-03, -4.78515625e-02,\n",
            "        1.19628906e-01,  1.00708008e-02, -1.65039062e-01, -1.32812500e-01,\n",
            "        6.25000000e-02,  2.05078125e-01, -1.72851562e-01, -1.49414062e-01,\n",
            "       -2.86865234e-02,  1.78710938e-01, -1.29882812e-01, -8.23974609e-03,\n",
            "        1.47460938e-01, -2.85644531e-02,  2.08007812e-01,  1.70898438e-01,\n",
            "       -3.92578125e-01, -8.64257812e-02,  1.52343750e-01,  1.93359375e-01,\n",
            "       -4.73632812e-02, -7.91015625e-02,  2.00195312e-01,  1.12792969e-01,\n",
            "        2.46582031e-02, -2.19726562e-01, -2.81250000e-01,  1.00585938e-01,\n",
            "        2.50000000e-01,  5.95703125e-02, -1.54296875e-01,  9.13085938e-02,\n",
            "        3.30078125e-01,  2.63671875e-01, -1.47094727e-02, -1.94335938e-01,\n",
            "        3.24707031e-02,  1.73828125e-01, -1.88476562e-01, -3.41796875e-01,\n",
            "       -1.37695312e-01, -2.26020813e-04, -2.02148438e-01, -1.50390625e-01,\n",
            "       -8.59375000e-02,  3.32031250e-02, -1.49414062e-01,  9.66796875e-02,\n",
            "        2.73437500e-01,  1.67236328e-02, -8.05664062e-02,  3.20312500e-01,\n",
            "        3.78906250e-01,  2.19726562e-01,  3.49121094e-02, -2.67578125e-01,\n",
            "       -5.51757812e-02, -2.61230469e-02, -2.68554688e-02,  8.15429688e-02,\n",
            "        4.10156250e-02, -1.62109375e-01,  1.08886719e-01, -1.95312500e-01,\n",
            "       -3.14941406e-02, -2.85156250e-01, -8.30078125e-02, -2.44140625e-02,\n",
            "       -3.39355469e-02, -1.38671875e-01, -7.47070312e-02, -1.99218750e-01,\n",
            "       -3.68652344e-02,  2.18505859e-02,  5.21850586e-03,  3.44238281e-02,\n",
            "        5.68847656e-02, -2.31445312e-01, -8.44726562e-02, -3.32031250e-01,\n",
            "        8.74023438e-02, -4.61425781e-02, -2.96875000e-01,  4.00390625e-01,\n",
            "       -3.90625000e-02,  8.98437500e-02,  2.75390625e-01, -2.89062500e-01,\n",
            "       -2.67578125e-01, -4.41894531e-02,  6.44531250e-02,  1.26953125e-01,\n",
            "        1.53541565e-04,  1.60156250e-01, -1.29882812e-01, -2.37304688e-01,\n",
            "       -4.68750000e-02,  3.32031250e-02, -3.80859375e-01,  2.09960938e-01,\n",
            "       -6.25000000e-02, -1.65039062e-01,  1.18164062e-01, -1.81640625e-01,\n",
            "       -1.00585938e-01,  5.15136719e-02,  8.93554688e-02, -3.73535156e-02,\n",
            "        1.31835938e-01, -1.37695312e-01,  5.02929688e-02, -2.50000000e-01,\n",
            "       -1.25976562e-01,  2.25830078e-02, -3.17382812e-02, -2.96875000e-01,\n",
            "        4.44335938e-02,  2.19726562e-01, -1.87500000e-01, -1.61132812e-01,\n",
            "       -1.78710938e-01, -3.76953125e-01, -7.27539062e-02, -1.33789062e-01,\n",
            "        1.52587891e-02,  1.94335938e-01, -9.17968750e-02, -1.02539062e-01,\n",
            "        1.04980469e-01, -2.55859375e-01,  5.00488281e-02, -1.63085938e-01,\n",
            "        1.04492188e-01, -4.63867188e-02,  9.27734375e-02,  3.58581543e-03,\n",
            "        3.35937500e-01,  7.47070312e-02,  3.54003906e-02, -6.17675781e-02,\n",
            "        9.96093750e-02, -1.23046875e-01, -3.83300781e-02, -2.03125000e-01,\n",
            "        1.12304688e-02, -1.46484375e-02,  9.96093750e-02,  7.95898438e-02,\n",
            "       -2.26562500e-01,  1.81640625e-01,  1.65039062e-01, -5.59082031e-02,\n",
            "       -3.12500000e-02,  4.17480469e-02,  8.39843750e-02, -3.85742188e-02,\n",
            "       -2.05078125e-01,  2.66113281e-02,  2.63671875e-01, -1.22070312e-01,\n",
            "       -8.54492188e-02,  3.66210938e-02,  4.10156250e-02, -2.15530396e-04,\n",
            "        7.03125000e-02,  6.88476562e-02, -5.37109375e-02, -5.00488281e-02,\n",
            "       -1.18652344e-01, -2.92968750e-01,  2.16796875e-01, -1.92260742e-03,\n",
            "        3.26171875e-01, -2.91015625e-01,  1.43554688e-01, -2.11181641e-02,\n",
            "       -7.12890625e-02, -3.75000000e-01, -1.89453125e-01, -3.68652344e-02,\n",
            "       -3.69140625e-01, -2.14843750e-01, -4.10156250e-02, -3.02734375e-01,\n",
            "        5.61523438e-02,  2.57812500e-01, -3.39355469e-02,  3.39843750e-01,\n",
            "       -2.89306641e-02,  2.85156250e-01, -7.66601562e-02,  6.68334961e-03,\n",
            "        1.18164062e-01,  4.05273438e-02,  1.12304688e-01,  3.93676758e-03,\n",
            "       -1.43554688e-01, -5.95703125e-02,  3.51562500e-02, -2.43164062e-01,\n",
            "        2.79296875e-01,  2.07519531e-02,  1.39648438e-01,  1.29882812e-01,\n",
            "       -4.27246094e-02,  2.96875000e-01,  2.81250000e-01, -1.19018555e-02,\n",
            "        1.40380859e-03, -1.40625000e-01,  1.86523438e-01,  1.07910156e-01,\n",
            "       -1.45507812e-01,  1.63574219e-02, -1.59179688e-01, -1.76757812e-01,\n",
            "        2.81250000e-01, -4.79125977e-03,  4.76074219e-02, -3.30078125e-01,\n",
            "        7.72094727e-03, -3.56445312e-02,  7.66601562e-02,  3.90625000e-01,\n",
            "       -1.90429688e-01, -3.22265625e-01, -2.73437500e-02,  1.73339844e-02,\n",
            "       -2.87109375e-01, -3.78417969e-02, -2.91442871e-03, -1.79687500e-01,\n",
            "        2.71484375e-01, -2.57812500e-01,  9.22851562e-02,  2.91748047e-02,\n",
            "        6.54296875e-02,  1.74804688e-01,  8.83789062e-02, -1.97265625e-01,\n",
            "        1.02050781e-01,  2.57812500e-01,  1.71875000e-01,  7.03125000e-02,\n",
            "       -5.41992188e-02, -8.78906250e-02,  1.07421875e-01,  2.87109375e-01,\n",
            "       -3.63281250e-01,  2.94189453e-02,  2.43164062e-01, -1.08032227e-02,\n",
            "       -1.59179688e-01, -9.32617188e-02, -9.91210938e-02,  1.89453125e-01,\n",
            "        8.78906250e-02,  3.02734375e-01, -2.01171875e-01,  5.85937500e-02,\n",
            "        2.28515625e-01,  1.43432617e-02, -3.63769531e-02, -2.53906250e-01,\n",
            "        8.44726562e-02,  5.07812500e-01,  7.37304688e-02, -2.34375000e-01,\n",
            "       -1.98242188e-01,  3.14941406e-02, -1.84570312e-01,  1.75781250e-02,\n",
            "       -1.27929688e-01, -1.22070312e-01, -1.69677734e-02, -2.43164062e-01,\n",
            "        8.98437500e-02, -1.90429688e-01, -1.93359375e-01, -1.52343750e-01,\n",
            "        1.17187500e-01, -1.30859375e-01,  1.95312500e-01, -1.69921875e-01,\n",
            "        1.87500000e-01,  8.78906250e-02,  3.14941406e-02, -6.64062500e-02,\n",
            "       -2.49023438e-02, -1.04492188e-01, -2.41210938e-01,  9.37500000e-02,\n",
            "       -1.47460938e-01,  2.26562500e-01,  2.40478516e-02, -1.47705078e-02],\n",
            "      dtype=float32), array([ 5.54199219e-02,  3.16406250e-01,  2.79296875e-01,  1.39648438e-01,\n",
            "        8.98437500e-02,  1.06933594e-01, -1.18164062e-01, -2.83203125e-01,\n",
            "        1.12792969e-01,  5.46264648e-03, -2.33398438e-01,  3.73535156e-02,\n",
            "       -2.15820312e-01,  2.06054688e-01, -2.65625000e-01, -5.02929688e-02,\n",
            "        1.43554688e-01, -2.41210938e-01, -5.44433594e-02,  6.83593750e-02,\n",
            "       -2.04101562e-01,  3.39355469e-02, -4.80957031e-02,  2.71484375e-01,\n",
            "        2.48046875e-01,  3.06640625e-01, -8.10546875e-02, -1.40625000e-01,\n",
            "       -1.21116638e-04, -1.87988281e-02, -2.79296875e-01,  7.91015625e-02,\n",
            "        1.06445312e-01,  1.04003906e-01,  6.00585938e-02,  6.15234375e-02,\n",
            "        7.61718750e-02,  3.06640625e-01, -1.27929688e-01, -7.66601562e-02,\n",
            "        7.11059570e-03,  5.63964844e-02,  1.74804688e-01,  8.00781250e-02,\n",
            "       -2.23632812e-01,  1.04980469e-01, -6.00585938e-02,  1.81884766e-02,\n",
            "       -1.07910156e-01, -1.38671875e-01,  1.80664062e-01, -1.28906250e-01,\n",
            "       -6.73828125e-02, -1.17187500e-01, -2.23388672e-02,  1.66992188e-01,\n",
            "       -1.30859375e-01,  2.89062500e-01, -2.45666504e-03, -1.25976562e-01,\n",
            "        3.90625000e-02,  8.88671875e-02, -2.32421875e-01,  2.12890625e-01,\n",
            "        5.81054688e-02,  1.59179688e-01,  5.88378906e-02, -7.42187500e-02,\n",
            "        4.17480469e-02,  3.90625000e-02,  7.17773438e-02,  2.05078125e-01,\n",
            "       -2.32421875e-01,  1.44531250e-01, -3.28125000e-01, -8.20312500e-02,\n",
            "       -2.12890625e-01,  2.14843750e-01,  2.61718750e-01, -3.34472656e-02,\n",
            "        1.91406250e-01,  1.02050781e-01,  3.24707031e-02, -5.35156250e-01,\n",
            "       -2.32421875e-01, -2.12890625e-01, -1.29394531e-02, -1.47460938e-01,\n",
            "       -1.08886719e-01,  1.38671875e-01,  9.22851562e-02, -4.37500000e-01,\n",
            "       -2.50000000e-01, -1.90429688e-01, -1.02050781e-01,  6.05468750e-02,\n",
            "        6.34765625e-02,  2.31445312e-01,  1.26953125e-02, -1.00097656e-01,\n",
            "        1.21582031e-01, -8.93554688e-02,  2.01416016e-02,  8.93554688e-02,\n",
            "        9.37500000e-02, -1.84570312e-01,  1.66992188e-01, -2.75390625e-01,\n",
            "        5.68847656e-02,  2.10937500e-01, -1.15722656e-01,  2.23388672e-02,\n",
            "        1.77734375e-01,  5.17578125e-02,  5.78613281e-02, -1.30859375e-01,\n",
            "        1.27929688e-01,  1.15722656e-01,  2.38037109e-02, -1.55273438e-01,\n",
            "       -1.16699219e-01,  3.04687500e-01, -1.12792969e-01, -2.45117188e-01,\n",
            "       -2.49023438e-01, -1.70898438e-01, -3.47656250e-01, -3.78417969e-02,\n",
            "        2.49023438e-01,  1.66015625e-01, -1.20849609e-02, -8.34960938e-02,\n",
            "        8.72802734e-03, -1.01562500e-01,  1.70898438e-02, -1.19628906e-01,\n",
            "       -2.22656250e-01, -1.49414062e-01, -1.67968750e-01,  1.86523438e-01,\n",
            "       -1.45507812e-01,  5.59082031e-02, -2.27539062e-01,  1.84570312e-01,\n",
            "        8.69140625e-02,  2.69775391e-02,  2.69775391e-02, -2.75390625e-01,\n",
            "       -7.37304688e-02,  1.43554688e-01,  2.29492188e-01, -7.08007812e-02,\n",
            "       -1.43554688e-01,  1.41601562e-01,  1.75781250e-01, -1.67968750e-01,\n",
            "       -4.32128906e-02, -6.78710938e-02,  1.45507812e-01, -2.23632812e-01,\n",
            "       -2.65625000e-01, -1.55029297e-02,  4.41894531e-02,  1.43554688e-01,\n",
            "       -1.84570312e-01, -7.12890625e-02,  2.35351562e-01, -7.12890625e-02,\n",
            "        8.54492188e-02,  1.26953125e-01,  7.66601562e-02, -8.97216797e-03,\n",
            "       -3.37890625e-01, -1.78710938e-01, -2.34375000e-01,  1.55273438e-01,\n",
            "        6.05468750e-02, -1.28906250e-01,  3.75976562e-02, -4.78515625e-02,\n",
            "        1.71875000e-01, -6.68945312e-02,  2.31445312e-01,  3.17382812e-02,\n",
            "       -1.32812500e-01,  8.64257812e-02,  1.73828125e-01,  1.44531250e-01,\n",
            "        1.12304688e-01,  9.17968750e-02, -2.87109375e-01,  3.14453125e-01,\n",
            "       -1.32812500e-01, -4.71191406e-02, -1.31835938e-01, -1.15722656e-01,\n",
            "       -1.91406250e-01, -6.73828125e-02, -1.45263672e-02, -3.97949219e-02,\n",
            "       -2.65625000e-01, -7.86132812e-02, -7.61718750e-02, -1.31835938e-01,\n",
            "        5.07812500e-01, -1.68945312e-01,  4.25781250e-01,  4.60815430e-03,\n",
            "        1.65039062e-01, -3.00781250e-01,  3.26171875e-01,  6.98242188e-02,\n",
            "        3.34472656e-02, -2.25585938e-01,  6.13403320e-03,  5.85937500e-02,\n",
            "       -4.33593750e-01,  1.02539062e-01, -7.95898438e-02, -3.08593750e-01,\n",
            "       -1.76757812e-01, -8.88671875e-02, -2.26562500e-01, -3.45703125e-01,\n",
            "       -2.19726562e-01,  8.44726562e-02, -1.99218750e-01, -1.51367188e-01,\n",
            "       -2.63671875e-02, -5.20019531e-02, -3.75976562e-02, -9.91210938e-02,\n",
            "        1.46484375e-01, -1.37329102e-02, -1.62353516e-02,  1.35742188e-01,\n",
            "        3.75976562e-02,  2.55859375e-01, -1.61132812e-01, -1.32812500e-01,\n",
            "        6.25000000e-02, -1.64062500e-01, -3.85742188e-02,  5.05371094e-02,\n",
            "        3.82812500e-01, -2.48718262e-03, -1.20239258e-02,  4.12597656e-02,\n",
            "        1.63085938e-01, -7.51953125e-02, -6.29882812e-02, -1.19140625e-01,\n",
            "       -2.29492188e-02,  3.12805176e-04,  4.66796875e-01,  1.07910156e-01,\n",
            "       -4.88281250e-01, -1.51367188e-01, -2.71484375e-01,  2.31933594e-02,\n",
            "       -7.95898438e-02,  1.40625000e-01,  2.70080566e-03, -1.08398438e-01,\n",
            "        1.10839844e-01,  9.81445312e-02, -5.43212891e-03,  9.47265625e-02,\n",
            "        1.28906250e-01,  7.71484375e-02, -2.37304688e-01, -1.23535156e-01,\n",
            "       -1.77734375e-01,  1.48437500e-01,  2.35351562e-01,  9.86328125e-02,\n",
            "       -8.49609375e-02, -2.48046875e-01,  3.68652344e-02,  1.55639648e-03,\n",
            "       -6.40869141e-03,  1.32812500e-01, -3.30078125e-01, -2.57568359e-02,\n",
            "        1.58203125e-01, -2.22656250e-01,  1.18164062e-01,  2.14843750e-01,\n",
            "        2.67578125e-01, -1.94335938e-01,  3.24707031e-02,  1.33789062e-01,\n",
            "        1.66992188e-01,  1.47460938e-01, -2.69531250e-01,  1.25000000e-01,\n",
            "        6.98242188e-02, -6.68945312e-02,  3.41796875e-01,  2.79296875e-01],\n",
            "      dtype=float32), array([ 2.43164062e-01,  9.66796875e-02,  6.46972656e-03,  4.66308594e-02,\n",
            "       -1.22070312e-01, -3.06640625e-01,  2.83203125e-01, -2.89062500e-01,\n",
            "        1.04003906e-01,  6.12792969e-02,  3.59375000e-01, -1.96289062e-01,\n",
            "       -2.27539062e-01,  2.24609375e-01,  6.29882812e-02, -3.63769531e-02,\n",
            "       -1.39648438e-01,  4.74609375e-01,  1.65039062e-01,  1.71875000e-01,\n",
            "       -3.30078125e-01, -1.85546875e-02, -6.98242188e-02,  2.57568359e-02,\n",
            "        2.48046875e-01, -1.35742188e-01, -2.23388672e-02, -1.20117188e-01,\n",
            "        8.34960938e-02, -5.23437500e-01,  2.02148438e-01, -1.00585938e-01,\n",
            "       -1.17675781e-01, -1.81640625e-01,  1.29882812e-01,  3.00781250e-01,\n",
            "        1.77734375e-01, -8.97216797e-03, -6.25000000e-02,  2.77343750e-01,\n",
            "       -5.76171875e-02, -2.55859375e-01,  1.48437500e-01, -5.20019531e-02,\n",
            "        2.53906250e-01,  4.58984375e-02, -2.12097168e-03,  5.88378906e-02,\n",
            "       -5.22460938e-02, -5.00488281e-02, -1.38549805e-02,  1.58691406e-02,\n",
            "        1.88476562e-01,  1.07421875e-02, -2.62451172e-02, -2.73437500e-01,\n",
            "       -2.09960938e-01,  1.25976562e-01, -1.81640625e-01, -1.10351562e-01,\n",
            "        1.08398438e-01,  3.63281250e-01,  1.62109375e-01,  2.74658203e-02,\n",
            "        1.68457031e-02, -6.10351562e-02,  1.52343750e-01, -6.88476562e-02,\n",
            "       -2.59765625e-01, -4.98046875e-02,  1.14746094e-01,  4.15039062e-02,\n",
            "       -3.01513672e-02,  2.43164062e-01, -3.94531250e-01, -1.59912109e-02,\n",
            "       -1.25122070e-02, -4.10156250e-01,  7.81250000e-02,  5.46875000e-01,\n",
            "        5.31250000e-01, -6.93359375e-02, -3.85742188e-02,  1.10839844e-01,\n",
            "       -3.57421875e-01,  1.98242188e-01, -7.37304688e-02,  8.69140625e-02,\n",
            "        4.80957031e-02, -1.48437500e-01,  1.34765625e-01, -2.53906250e-01,\n",
            "        4.24804688e-02, -8.97216797e-03, -1.06445312e-01,  1.97265625e-01,\n",
            "        3.20312500e-01,  8.20312500e-02,  1.02050781e-01, -2.21679688e-01,\n",
            "       -1.78710938e-01,  3.55468750e-01, -1.42578125e-01, -7.03125000e-02,\n",
            "        6.12792969e-02, -3.67187500e-01, -5.37109375e-02, -1.51367188e-01,\n",
            "        1.21582031e-01, -1.89453125e-01, -2.91015625e-01,  2.42187500e-01,\n",
            "        3.27148438e-02, -2.53906250e-01,  2.22206116e-04,  8.74023438e-02,\n",
            "       -2.59765625e-01,  2.96630859e-02,  1.51367188e-01,  2.10937500e-01,\n",
            "       -7.91015625e-02,  3.61328125e-01,  1.68945312e-01, -1.06933594e-01,\n",
            "        1.54296875e-01, -1.04003906e-01,  2.36328125e-01, -3.33984375e-01,\n",
            "       -4.32128906e-02,  1.58203125e-01,  7.91015625e-02, -8.88671875e-02,\n",
            "       -9.08203125e-02,  4.44335938e-02,  6.73828125e-02,  1.20605469e-01,\n",
            "       -3.11279297e-02, -1.34765625e-01, -1.01562500e-01,  3.16406250e-01,\n",
            "       -1.07910156e-01,  5.54687500e-01,  4.27246094e-02, -4.83398438e-02,\n",
            "       -1.09375000e-01,  1.77734375e-01, -1.10351562e-01, -1.03515625e-01,\n",
            "       -1.82617188e-01, -5.31250000e-01,  1.05468750e-01, -2.16674805e-03,\n",
            "       -4.18090820e-03,  2.31445312e-01,  1.82617188e-01, -9.22851562e-02,\n",
            "        1.45507812e-01,  2.19726562e-02,  1.00097656e-01, -2.55859375e-01,\n",
            "        9.61914062e-02,  7.22656250e-02,  2.95410156e-02, -1.04980469e-01,\n",
            "       -1.26953125e-01, -1.82617188e-01, -1.95312500e-02, -4.07714844e-02,\n",
            "       -1.74560547e-02, -8.49609375e-02, -8.93554688e-02,  1.02050781e-01,\n",
            "       -2.71484375e-01, -2.73437500e-01, -9.91210938e-02, -1.14746094e-01,\n",
            "        1.45507812e-01,  3.63281250e-01,  5.66406250e-02, -2.00195312e-02,\n",
            "        1.29882812e-01,  2.08007812e-01, -2.15820312e-01,  3.84521484e-03,\n",
            "        3.47656250e-01,  1.25976562e-01,  8.05664062e-02,  6.12792969e-02,\n",
            "        4.61425781e-02,  4.76562500e-01,  1.82617188e-01,  6.12792969e-02,\n",
            "       -5.81054688e-02,  1.85546875e-01,  1.10839844e-01,  2.69531250e-01,\n",
            "        2.87109375e-01, -2.08007812e-01,  1.60156250e-01,  8.69140625e-02,\n",
            "       -1.28906250e-01, -5.27343750e-02, -1.22558594e-01,  2.50000000e-01,\n",
            "       -5.46875000e-02, -3.04687500e-01,  1.40625000e-01,  1.78710938e-01,\n",
            "        1.20605469e-01, -4.00390625e-01, -1.27929688e-01,  1.84570312e-01,\n",
            "        2.25830078e-02,  9.86328125e-02, -1.50390625e-01, -5.42968750e-01,\n",
            "       -1.71875000e-01, -1.50146484e-02, -2.49023438e-01, -3.87573242e-03,\n",
            "       -1.90429688e-01,  8.20312500e-02,  1.91406250e-01,  1.35498047e-02,\n",
            "        1.82617188e-01,  9.42382812e-02,  3.27148438e-02,  2.51953125e-01,\n",
            "       -2.41210938e-01,  5.63964844e-02,  1.31835938e-01, -1.79687500e-01,\n",
            "       -1.49414062e-01, -1.76757812e-01,  2.55126953e-02,  3.70788574e-03,\n",
            "        2.30468750e-01, -1.64062500e-01, -1.54418945e-02, -6.64062500e-02,\n",
            "       -1.34765625e-01,  2.28515625e-01, -4.98046875e-02, -1.97265625e-01,\n",
            "        5.56640625e-02,  4.23828125e-01,  1.54296875e-01,  1.17675781e-01,\n",
            "        6.88476562e-02, -5.70312500e-01,  2.45117188e-01,  1.29882812e-01,\n",
            "       -1.36718750e-01, -8.98437500e-02, -9.15527344e-03, -1.20117188e-01,\n",
            "       -7.47070312e-02,  8.66699219e-03, -3.59375000e-01, -1.84570312e-01,\n",
            "       -1.40625000e-01, -2.29492188e-01,  2.42187500e-01,  1.81640625e-01,\n",
            "        1.65039062e-01, -2.05078125e-02, -1.69921875e-01,  4.46777344e-02,\n",
            "       -1.49536133e-02,  8.83789062e-02,  2.20703125e-01, -2.35351562e-01,\n",
            "       -3.80859375e-01, -2.92968750e-01,  3.47656250e-01,  5.63964844e-02,\n",
            "       -1.33789062e-01,  2.31445312e-01, -5.85937500e-02, -3.10546875e-01,\n",
            "        1.26953125e-01,  2.65625000e-01, -4.58984375e-02, -8.93554688e-02,\n",
            "        7.03125000e-02,  1.03759766e-02, -1.39648438e-01,  2.96875000e-01,\n",
            "        3.27148438e-02,  8.34960938e-02,  2.45361328e-02, -4.21875000e-01,\n",
            "       -3.45703125e-01,  3.30078125e-01, -1.14746094e-01, -6.34765625e-02,\n",
            "       -1.63085938e-01, -9.76562500e-02,  3.41796875e-01,  1.17187500e-01],\n",
            "      dtype=float32), array([ 0.09423828,  0.00759888,  0.01721191, -0.15820312, -0.10253906,\n",
            "       -0.01196289,  0.07910156, -0.14453125,  0.10498047,  0.15917969,\n",
            "       -0.0005188 , -0.06591797, -0.04516602, -0.07080078, -0.03039551,\n",
            "       -0.2890625 ,  0.07763672, -0.05981445,  0.04248047, -0.03027344,\n",
            "        0.07666016, -0.05029297,  0.03442383, -0.24121094, -0.09472656,\n",
            "       -0.08203125,  0.19042969, -0.01367188,  0.04418945,  0.11035156,\n",
            "        0.08935547, -0.17578125, -0.08984375, -0.18652344, -0.03112793,\n",
            "        0.16699219, -0.09472656, -0.08154297, -0.25976562,  0.02893066,\n",
            "       -0.01782227, -0.14746094,  0.22851562,  0.03088379, -0.01312256,\n",
            "        0.05444336,  0.13964844,  0.18554688, -0.12353516,  0.0612793 ,\n",
            "       -0.15039062, -0.109375  , -0.03564453,  0.02783203, -0.03662109,\n",
            "        0.01239014, -0.1484375 , -0.30273438, -0.01342773, -0.0546875 ,\n",
            "       -0.16992188, -0.02832031, -0.12353516, -0.0859375 ,  0.09326172,\n",
            "        0.00994873, -0.02331543,  0.31054688,  0.33203125,  0.14453125,\n",
            "        0.14355469, -0.0534668 ,  0.01062012,  0.27539062,  0.2109375 ,\n",
            "        0.16308594, -0.01092529, -0.09472656,  0.16210938,  0.12988281,\n",
            "       -0.171875  , -0.20605469, -0.00866699,  0.08886719, -0.0324707 ,\n",
            "       -0.19824219, -0.12060547, -0.11376953,  0.06347656, -0.01373291,\n",
            "        0.14746094,  0.00314331, -0.10253906, -0.10791016, -0.18066406,\n",
            "       -0.12695312,  0.02001953,  0.03637695,  0.08740234, -0.16113281,\n",
            "        0.26757812, -0.25390625, -0.12695312,  0.05078125, -0.234375  ,\n",
            "       -0.07275391, -0.06396484, -0.06225586, -0.00915527, -0.13476562,\n",
            "        0.14453125,  0.00933838,  0.04467773, -0.27929688,  0.15917969,\n",
            "        0.02246094, -0.17480469, -0.0390625 ,  0.22949219,  0.13378906,\n",
            "        0.08007812, -0.09423828, -0.03881836,  0.09667969,  0.12304688,\n",
            "        0.01477051,  0.1015625 , -0.04907227,  0.08935547, -0.03295898,\n",
            "       -0.04516602, -0.00448608, -0.09814453, -0.16015625, -0.25      ,\n",
            "       -0.08837891, -0.0213623 , -0.20117188, -0.05566406,  0.13085938,\n",
            "       -0.0703125 ,  0.17871094, -0.00558472, -0.265625  , -0.36132812,\n",
            "        0.11132812,  0.07275391, -0.07421875, -0.04394531, -0.09521484,\n",
            "       -0.18066406,  0.03198242,  0.06591797, -0.04785156,  0.17285156,\n",
            "       -0.24121094,  0.16992188, -0.01531982,  0.0390625 ,  0.10400391,\n",
            "        0.15625   , -0.08496094, -0.07421875,  0.02490234,  0.08349609,\n",
            "        0.1328125 ,  0.11230469, -0.04418945, -0.01074219, -0.12890625,\n",
            "        0.08642578, -0.14746094,  0.0378418 , -0.11328125, -0.01855469,\n",
            "       -0.09375   ,  0.20996094, -0.02392578,  0.07617188,  0.01574707,\n",
            "       -0.44726562,  0.07714844, -0.15429688, -0.00564575, -0.04345703,\n",
            "        0.13378906,  0.13867188,  0.03662109,  0.33007812, -0.05175781,\n",
            "        0.046875  ,  0.22363281, -0.05957031,  0.06152344, -0.09082031,\n",
            "        0.02941895,  0.00350952,  0.09814453,  0.06787109, -0.06298828,\n",
            "       -0.03088379, -0.0625    , -0.04370117, -0.0480957 ,  0.14941406,\n",
            "       -0.14941406, -0.05737305,  0.13964844, -0.08154297,  0.09716797,\n",
            "       -0.09521484, -0.02282715,  0.00921631, -0.06542969, -0.31054688,\n",
            "       -0.08007812, -0.04052734,  0.05883789,  0.1171875 ,  0.00445557,\n",
            "       -0.02148438,  0.14941406, -0.00466919, -0.00075912, -0.17675781,\n",
            "       -0.07861328, -0.17089844,  0.18359375, -0.01483154, -0.10693359,\n",
            "        0.1328125 , -0.02819824, -0.09423828,  0.24023438, -0.1875    ,\n",
            "        0.04321289,  0.07324219, -0.04321289, -0.08447266, -0.04370117,\n",
            "       -0.02868652,  0.14257812, -0.16601562,  0.01287842, -0.12158203,\n",
            "        0.0213623 ,  0.03613281,  0.02929688,  0.18652344, -0.02111816,\n",
            "       -0.16601562, -0.11816406, -0.13085938,  0.02160645,  0.24023438,\n",
            "        0.10400391,  0.24414062, -0.00157928,  0.18945312,  0.00616455,\n",
            "        0.12011719, -0.16894531,  0.06542969,  0.05883789,  0.20996094,\n",
            "       -0.04248047, -0.25585938,  0.09228516,  0.12109375,  0.11181641,\n",
            "       -0.00823975,  0.06787109,  0.16503906,  0.07666016,  0.03491211,\n",
            "       -0.06884766, -0.17480469,  0.05029297,  0.06884766, -0.04394531,\n",
            "        0.01818848,  0.11132812, -0.04467773,  0.01177979, -0.01116943,\n",
            "       -0.25195312, -0.18847656,  0.0703125 , -0.03637695,  0.18164062,\n",
            "        0.06103516, -0.15820312, -0.14160156,  0.08349609,  0.08154297,\n",
            "       -0.31640625, -0.21289062,  0.03637695,  0.06835938, -0.11572266],\n",
            "      dtype=float32), array([ 1.19628906e-01, -6.04248047e-03,  1.25000000e-01, -1.25122070e-03,\n",
            "       -2.78320312e-02, -7.93457031e-04, -3.02734375e-01, -2.47070312e-01,\n",
            "        3.51562500e-01, -9.27734375e-02, -1.23046875e-01, -1.61132812e-01,\n",
            "       -2.23632812e-01, -1.22680664e-02,  1.52343750e-01, -1.03515625e-01,\n",
            "        8.69140625e-02, -2.04101562e-01, -9.81445312e-02, -1.57226562e-01,\n",
            "        1.53808594e-02,  1.96289062e-01, -9.64355469e-03, -3.90625000e-02,\n",
            "       -1.84326172e-02, -1.08886719e-01, -1.83593750e-01, -7.37304688e-02,\n",
            "       -1.69677734e-02, -2.18750000e-01,  1.38671875e-01, -3.33786011e-04,\n",
            "       -1.29882812e-01,  1.91406250e-01,  1.17187500e-01,  1.66015625e-01,\n",
            "       -1.97265625e-01,  3.02734375e-01,  7.42187500e-02, -3.01513672e-02,\n",
            "        6.62231445e-03, -4.10156250e-01,  1.10839844e-01,  1.52343750e-01,\n",
            "        4.12597656e-02, -3.00781250e-01, -3.65234375e-01,  9.07897949e-04,\n",
            "        1.21582031e-01,  9.17968750e-02, -1.02050781e-01,  1.07421875e-01,\n",
            "        7.22656250e-02,  1.15722656e-01, -3.14941406e-02, -5.88378906e-02,\n",
            "        2.61230469e-02,  6.05468750e-02,  5.98144531e-02, -1.10351562e-01,\n",
            "       -4.17480469e-02,  2.79296875e-01, -1.99218750e-01, -1.65039062e-01,\n",
            "       -5.39550781e-02,  1.04003906e-01, -1.12792969e-01,  1.66015625e-01,\n",
            "        1.96289062e-01,  2.79296875e-01, -6.93359375e-02,  1.38671875e-01,\n",
            "       -2.27050781e-02, -6.25000000e-02, -8.15429688e-02, -4.58984375e-02,\n",
            "       -6.68945312e-02, -7.75146484e-03,  2.61718750e-01, -1.49414062e-01,\n",
            "        1.62109375e-01,  1.98242188e-01,  8.30078125e-02,  1.80664062e-02,\n",
            "        1.25976562e-01, -3.53515625e-01, -4.63867188e-02, -1.51367188e-01,\n",
            "       -2.38037109e-02,  1.33789062e-01,  1.97265625e-01, -2.70996094e-02,\n",
            "        1.89453125e-01, -8.59375000e-02,  7.47070312e-02, -9.57031250e-02,\n",
            "       -8.10546875e-02, -4.95605469e-02, -1.20239258e-02, -3.58886719e-02,\n",
            "       -8.78906250e-02, -1.05468750e-01, -1.94335938e-01,  1.46484375e-01,\n",
            "       -2.06054688e-01, -2.97851562e-02,  4.88281250e-02,  3.61328125e-02,\n",
            "       -1.48437500e-01,  1.22558594e-01, -7.75146484e-03, -1.78222656e-02,\n",
            "       -1.39648438e-01,  1.26953125e-02, -1.53320312e-01, -9.46044922e-03,\n",
            "       -1.14746094e-01, -1.85546875e-01,  2.08007812e-01, -5.73730469e-02,\n",
            "        4.44335938e-02, -8.83789062e-02, -1.19628906e-01, -2.51953125e-01,\n",
            "       -1.86523438e-01, -2.12890625e-01,  1.14746094e-01, -1.11816406e-01,\n",
            "        2.24609375e-02,  8.20312500e-02,  3.46679688e-02, -2.78320312e-02,\n",
            "        1.59179688e-01,  5.29785156e-02,  7.81250000e-02,  6.73828125e-02,\n",
            "        1.93359375e-01,  1.18652344e-01, -4.00390625e-02,  7.44628906e-03,\n",
            "       -1.64062500e-01,  1.58203125e-01,  1.46484375e-01,  1.36718750e-01,\n",
            "       -2.68554688e-02, -1.67968750e-01,  9.71679688e-02, -3.78417969e-02,\n",
            "       -2.38418579e-04,  1.31835938e-01,  6.22558594e-02,  2.61718750e-01,\n",
            "       -1.14257812e-01,  9.52148438e-02, -1.45507812e-01, -2.62451172e-02,\n",
            "       -1.64794922e-02,  2.76184082e-03, -2.80761719e-02, -3.90625000e-03,\n",
            "        7.86132812e-02,  3.66210938e-02,  2.57812500e-01,  5.12695312e-02,\n",
            "       -5.76171875e-02,  4.66308594e-02,  1.53320312e-01, -3.61328125e-02,\n",
            "        1.14257812e-01,  2.02148438e-01,  2.67578125e-01,  8.44726562e-02,\n",
            "       -9.42382812e-02, -3.06640625e-01,  2.79296875e-01, -8.64257812e-02,\n",
            "       -1.75781250e-01, -9.03320312e-02,  7.50732422e-03, -9.71679688e-02,\n",
            "       -2.33398438e-01, -1.83593750e-01,  1.66992188e-01, -6.25000000e-02,\n",
            "       -2.84423828e-02,  1.75781250e-02, -1.77001953e-03,  9.66796875e-02,\n",
            "        3.56445312e-02,  7.95898438e-02,  3.80859375e-02,  1.79687500e-01,\n",
            "        7.61718750e-02,  1.70898438e-01,  5.10253906e-02, -4.05273438e-02,\n",
            "       -2.27539062e-01,  2.69531250e-01,  1.84570312e-01, -1.98242188e-01,\n",
            "       -1.56250000e-01,  8.83789062e-02,  2.28515625e-01, -9.71679688e-02,\n",
            "       -2.36328125e-01, -1.51367188e-01,  2.65625000e-01, -7.17773438e-02,\n",
            "       -2.40478516e-02, -4.16015625e-01, -4.95605469e-02, -8.30078125e-02,\n",
            "        2.73437500e-01, -4.88281250e-02, -5.12695312e-02,  2.65625000e-01,\n",
            "        5.46875000e-02, -1.62109375e-01, -1.43432617e-02,  1.65039062e-01,\n",
            "        2.02148438e-01,  7.04956055e-03,  7.51953125e-02,  1.22558594e-01,\n",
            "       -3.27148438e-02,  2.17773438e-01,  1.40625000e-01, -2.34375000e-01,\n",
            "        1.80664062e-01,  2.45117188e-01, -1.46484375e-01,  3.38745117e-03,\n",
            "       -7.37304688e-02, -7.91015625e-02, -5.49316406e-02,  5.98144531e-03,\n",
            "       -1.31835938e-01,  3.54003906e-02, -8.39843750e-02, -4.19921875e-02,\n",
            "       -2.58789062e-02, -2.33398438e-01, -1.15722656e-01,  1.10351562e-01,\n",
            "        2.96875000e-01, -1.55273438e-01,  7.72094727e-03, -2.34375000e-02,\n",
            "        1.66992188e-01, -2.50000000e-01,  8.10546875e-02,  3.12500000e-02,\n",
            "       -2.67578125e-01,  1.05468750e-01,  8.05664062e-02,  1.66992188e-01,\n",
            "       -5.40161133e-03, -1.45507812e-01,  5.63964844e-02, -3.53515625e-01,\n",
            "        1.33789062e-01, -3.12500000e-02,  1.02050781e-01, -9.03320312e-02,\n",
            "        1.87500000e-01,  1.34765625e-01,  1.26953125e-01,  2.53906250e-01,\n",
            "       -1.93359375e-01,  3.41796875e-01, -2.69531250e-01,  1.43554688e-01,\n",
            "        1.21459961e-02, -4.88281250e-02, -1.75781250e-01,  5.49316406e-02,\n",
            "       -2.63671875e-01, -2.65625000e-01, -1.11328125e-01,  2.24609375e-02,\n",
            "        2.30468750e-01, -2.41088867e-03,  2.25830078e-02,  2.51953125e-01,\n",
            "       -5.54199219e-02,  6.98242188e-02,  2.61230469e-02,  4.85839844e-02,\n",
            "        7.95898438e-02, -8.98437500e-02,  6.15234375e-02,  1.66992188e-01,\n",
            "       -9.47265625e-02, -1.21582031e-01, -2.15820312e-01, -1.62353516e-02,\n",
            "        1.01074219e-01,  1.86523438e-01,  1.53320312e-01,  2.61718750e-01],\n",
            "      dtype=float32), [0, 0, 0, 0, 0, 0, 0, 0, 0, 0, 0, 0, 0, 0, 0, 0, 0, 0, 0, 0, 0, 0, 0, 0, 0, 0, 0, 0, 0, 0, 0, 0, 0, 0, 0, 0, 0, 0, 0, 0, 0, 0, 0, 0, 0, 0, 0, 0, 0, 0, 0, 0, 0, 0, 0, 0, 0, 0, 0, 0, 0, 0, 0, 0, 0, 0, 0, 0, 0, 0, 0, 0, 0, 0, 0, 0, 0, 0, 0, 0, 0, 0, 0, 0, 0, 0, 0, 0, 0, 0, 0, 0, 0, 0, 0, 0, 0, 0, 0, 0, 0, 0, 0, 0, 0, 0, 0, 0, 0, 0, 0, 0, 0, 0, 0, 0, 0, 0, 0, 0, 0, 0, 0, 0, 0, 0, 0, 0, 0, 0, 0, 0, 0, 0, 0, 0, 0, 0, 0, 0, 0, 0, 0, 0, 0, 0, 0, 0, 0, 0, 0, 0, 0, 0, 0, 0, 0, 0, 0, 0, 0, 0, 0, 0, 0, 0, 0, 0, 0, 0, 0, 0, 0, 0, 0, 0, 0, 0, 0, 0, 0, 0, 0, 0, 0, 0, 0, 0, 0, 0, 0, 0, 0, 0, 0, 0, 0, 0, 0, 0, 0, 0, 0, 0, 0, 0, 0, 0, 0, 0, 0, 0, 0, 0, 0, 0, 0, 0, 0, 0, 0, 0, 0, 0, 0, 0, 0, 0, 0, 0, 0, 0, 0, 0, 0, 0, 0, 0, 0, 0, 0, 0, 0, 0, 0, 0, 0, 0, 0, 0, 0, 0, 0, 0, 0, 0, 0, 0, 0, 0, 0, 0, 0, 0, 0, 0, 0, 0, 0, 0, 0, 0, 0, 0, 0, 0, 0, 0, 0, 0, 0, 0, 0, 0, 0, 0, 0, 0, 0, 0, 0, 0, 0, 0, 0, 0, 0, 0, 0, 0], array([-3.90625000e-02, -2.53906250e-01, -9.32617188e-02, -1.42578125e-01,\n",
            "       -2.43164062e-01, -1.16699219e-01, -8.39843750e-02,  7.47070312e-02,\n",
            "       -5.34667969e-02, -2.89306641e-02, -7.17773438e-02,  4.57031250e-01,\n",
            "       -5.98144531e-02,  7.12890625e-02, -1.75781250e-01,  1.98242188e-01,\n",
            "        2.65625000e-01,  8.44726562e-02,  1.98974609e-02, -1.88476562e-01,\n",
            "        3.84765625e-01,  2.59765625e-01,  5.51757812e-02,  5.20019531e-02,\n",
            "       -2.39257812e-02, -1.20117188e-01,  3.46679688e-02,  1.35742188e-01,\n",
            "        4.72656250e-01, -2.73437500e-01,  6.93359375e-02,  9.22851562e-02,\n",
            "       -1.12915039e-02,  3.00781250e-01,  8.49609375e-02, -5.76171875e-02,\n",
            "        2.02148438e-01,  5.71289062e-02, -6.05468750e-02,  2.21679688e-01,\n",
            "       -5.78613281e-02, -2.13867188e-01,  3.69140625e-01, -1.55273438e-01,\n",
            "       -8.69140625e-02, -3.84765625e-01, -2.45117188e-01, -1.67968750e-01,\n",
            "       -1.21582031e-01,  3.90625000e-02, -4.27246094e-02,  1.38671875e-01,\n",
            "        2.21679688e-01,  6.68945312e-02, -3.95507812e-02, -5.49316406e-02,\n",
            "       -1.49414062e-01, -1.05957031e-01,  5.02929688e-02, -1.55273438e-01,\n",
            "       -8.49609375e-02,  1.82617188e-01, -1.32812500e-01, -1.30859375e-01,\n",
            "        3.24218750e-01, -1.66015625e-01,  1.25976562e-01,  2.37304688e-01,\n",
            "        1.50390625e-01,  1.25976562e-01,  7.47070312e-02,  2.42187500e-01,\n",
            "        1.56250000e-01, -6.93359375e-02,  4.61425781e-02, -1.72851562e-01,\n",
            "        2.65625000e-01, -1.27929688e-01,  1.30859375e-01,  4.34570312e-02,\n",
            "       -2.69531250e-01, -2.48046875e-01,  3.71093750e-01, -1.95312500e-01,\n",
            "       -2.42187500e-01, -4.04296875e-01,  5.15136719e-02,  2.27050781e-02,\n",
            "        3.00781250e-01,  5.20019531e-02,  1.14135742e-02, -4.32968140e-04,\n",
            "       -2.00195312e-02, -4.66308594e-02, -1.06933594e-01, -5.78613281e-02,\n",
            "        2.23632812e-01, -1.09252930e-02, -7.81250000e-02,  1.83593750e-01,\n",
            "        1.75781250e-01, -1.85546875e-01, -4.24804688e-02, -2.12402344e-02,\n",
            "        8.59375000e-02, -1.43554688e-01,  1.31835938e-01, -2.44140625e-01,\n",
            "        7.51953125e-02,  1.66992188e-01, -1.78710938e-01, -2.70996094e-02,\n",
            "       -7.20977783e-04,  2.85156250e-01,  3.47656250e-01,  4.02832031e-02,\n",
            "        2.00195312e-01,  5.93261719e-02, -1.04492188e-01,  1.07421875e-01,\n",
            "        3.68652344e-02,  8.59375000e-02,  3.80859375e-02, -1.37695312e-01,\n",
            "       -1.02539062e-01,  1.79687500e-01, -5.56640625e-02, -1.15722656e-01,\n",
            "       -3.00781250e-01, -1.42578125e-01,  2.75390625e-01, -1.90429688e-01,\n",
            "        1.98242188e-01,  1.12792969e-01, -3.12500000e-01, -1.13769531e-01,\n",
            "       -6.07910156e-02,  4.66308594e-02, -4.78515625e-02,  7.61718750e-02,\n",
            "       -1.41601562e-01,  4.73632812e-02, -1.88476562e-01,  4.04296875e-01,\n",
            "        1.98242188e-01, -1.08886719e-01,  3.12500000e-01,  3.93066406e-02,\n",
            "       -2.07519531e-02,  1.15722656e-01,  2.32421875e-01,  3.05175781e-02,\n",
            "        2.81250000e-01, -1.41601562e-01,  4.55078125e-01, -1.09863281e-01,\n",
            "       -2.05078125e-01, -3.73046875e-01,  2.31445312e-01, -1.23046875e-01,\n",
            "       -4.85839844e-02, -1.00585938e-01,  1.67968750e-01,  3.37890625e-01,\n",
            "       -1.17675781e-01,  5.66406250e-02,  9.17968750e-02,  2.06054688e-01,\n",
            "       -5.27343750e-02,  5.15625000e-01,  3.17382812e-02, -6.73828125e-02,\n",
            "        8.69140625e-02, -2.07031250e-01,  9.52148438e-02, -3.83300781e-02,\n",
            "       -1.70898438e-01,  4.44335938e-02,  4.93164062e-02, -1.18408203e-02,\n",
            "        1.28906250e-01, -3.78417969e-02,  1.14746094e-01, -1.00097656e-01,\n",
            "       -1.39648438e-01, -2.37304688e-01,  2.34375000e-01, -4.12597656e-02,\n",
            "       -7.76367188e-02, -1.48437500e-01, -4.98046875e-02,  2.22656250e-01,\n",
            "       -2.00195312e-01,  2.77099609e-02,  2.98828125e-01, -7.03125000e-02,\n",
            "       -1.33789062e-01,  1.01562500e-01,  1.94335938e-01, -7.95898438e-02,\n",
            "       -2.69531250e-01,  1.13281250e-01,  7.56835938e-02,  3.26538086e-03,\n",
            "        2.41210938e-01, -3.14941406e-02,  1.75781250e-01,  1.17675781e-01,\n",
            "       -1.64062500e-01,  2.24609375e-01,  8.59375000e-02, -1.20605469e-01,\n",
            "        5.23437500e-01,  1.67968750e-01,  9.03320312e-03,  6.88476562e-02,\n",
            "       -1.72851562e-01,  1.63574219e-02, -8.66699219e-03,  2.53906250e-01,\n",
            "        1.25000000e-01,  1.38671875e-01,  2.32421875e-01,  2.00195312e-01,\n",
            "        6.93359375e-02, -1.94335938e-01, -1.25000000e-01,  4.33593750e-01,\n",
            "        1.33789062e-01,  8.49609375e-02, -1.37695312e-01,  1.91406250e-01,\n",
            "       -2.85156250e-01,  1.36718750e-02,  2.72216797e-02, -1.94549561e-03,\n",
            "        1.99218750e-01, -6.22558594e-02, -1.23291016e-02, -1.63085938e-01,\n",
            "       -8.64257812e-02,  8.66699219e-03,  1.51367188e-01,  1.03759766e-02,\n",
            "        1.97265625e-01,  3.35693359e-03,  1.08398438e-01,  2.98828125e-01,\n",
            "        1.26953125e-01, -3.44238281e-02, -4.70703125e-01, -2.63671875e-01,\n",
            "       -2.29492188e-02,  1.06445312e-01,  8.93554688e-02, -1.12304688e-01,\n",
            "       -3.02734375e-01,  7.42187500e-02,  5.34667969e-02, -3.98437500e-01,\n",
            "       -1.54296875e-01, -1.72851562e-01,  2.19726562e-01,  2.46093750e-01,\n",
            "       -2.53906250e-02,  5.12695312e-02, -1.37695312e-01, -3.83300781e-02,\n",
            "       -9.27734375e-02,  1.31835938e-01,  1.02539062e-01,  3.80859375e-02,\n",
            "       -7.81250000e-02, -1.47460938e-01, -1.80664062e-01,  8.25195312e-02,\n",
            "        3.36914062e-02, -3.20312500e-01, -3.94531250e-01, -3.19824219e-02,\n",
            "        5.27343750e-02, -2.14843750e-02,  1.33789062e-01, -1.35742188e-01,\n",
            "       -1.61132812e-01, -5.46875000e-02,  2.09960938e-01,  1.68945312e-01,\n",
            "       -3.06640625e-01,  2.87109375e-01, -2.33398438e-01, -1.45507812e-01,\n",
            "       -1.18164062e-01,  1.39160156e-02, -8.74023438e-02, -1.12304688e-01,\n",
            "        1.71875000e-01, -1.59912109e-02, -8.39843750e-02,  2.59765625e-01],\n",
            "      dtype=float32), array([ 0.21484375,  0.08349609,  0.16113281,  0.25      , -0.16015625,\n",
            "       -0.09814453,  0.14550781,  0.0625    ,  0.0291748 ,  0.40820312,\n",
            "       -0.20507812,  0.00601196, -0.08642578,  0.03735352, -0.06225586,\n",
            "        0.00836182, -0.28125   ,  0.13867188,  0.359375  ,  0.02880859,\n",
            "       -0.0112915 ,  0.08740234, -0.03540039,  0.0038147 ,  0.09765625,\n",
            "        0.546875  , -0.26953125,  0.1796875 ,  0.53125   , -0.06494141,\n",
            "       -0.06982422, -0.1484375 , -0.07958984,  0.12304688, -0.21972656,\n",
            "        0.15136719,  0.33398438,  0.11962891, -0.15917969,  0.1640625 ,\n",
            "        0.47460938,  0.4375    , -0.03344727,  0.0625    ,  0.16015625,\n",
            "        0.06225586, -0.2890625 , -0.09667969, -0.28515625,  0.09130859,\n",
            "       -0.07373047, -0.02319336, -0.22265625,  0.27148438, -0.26757812,\n",
            "        0.43554688, -0.04248047,  0.27929688, -0.06787109, -0.29882812,\n",
            "        0.12890625, -0.10302734,  0.05175781,  0.09277344,  0.11865234,\n",
            "        0.01019287, -0.13769531, -0.08691406, -0.01574707, -0.26757812,\n",
            "       -0.28710938,  0.1875    ,  0.06347656,  0.13964844,  0.22558594,\n",
            "       -0.26171875, -0.09960938,  0.10888672,  0.09423828, -0.09423828,\n",
            "       -0.14355469, -0.23144531, -0.1484375 , -0.01104736, -0.13183594,\n",
            "       -0.01348877, -0.27148438,  0.08740234, -0.15917969,  0.27539062,\n",
            "       -0.09326172, -0.28125   , -0.71875   , -0.296875  , -0.13867188,\n",
            "       -0.29296875,  0.06884766,  0.25390625,  0.0201416 , -0.11962891,\n",
            "        0.07275391, -0.01721191, -0.15136719, -0.1484375 , -0.18652344,\n",
            "        0.07080078,  0.03369141, -0.14648438, -0.15429688, -0.15820312,\n",
            "        0.13671875,  0.06640625,  0.03979492, -0.05834961, -0.17480469,\n",
            "       -0.1875    , -0.08642578,  0.29492188,  0.18164062, -0.12792969,\n",
            "       -0.15722656,  0.05493164, -0.34570312,  0.00213623, -0.03808594,\n",
            "       -0.13671875, -0.13769531, -0.01043701, -0.11230469, -0.15527344,\n",
            "        0.00485229,  0.16894531, -0.0612793 ,  0.00778198, -0.09277344,\n",
            "       -0.17773438, -0.09277344, -0.3046875 ,  0.16894531,  0.01721191,\n",
            "        0.14160156, -0.05029297,  0.01708984, -0.14941406,  0.23046875,\n",
            "        0.01721191,  0.14355469,  0.05004883,  0.09033203,  0.14160156,\n",
            "        0.17089844, -0.07128906,  0.06835938, -0.05932617,  0.3671875 ,\n",
            "       -0.30664062, -0.17578125, -0.20605469,  0.27734375,  0.09179688,\n",
            "       -0.234375  ,  0.03039551,  0.05664062, -0.4375    ,  0.04394531,\n",
            "       -0.11132812,  0.14941406,  0.09619141,  0.15136719,  0.08349609,\n",
            "       -0.16992188,  0.03637695, -0.18457031, -0.10546875,  0.26171875,\n",
            "       -0.328125  ,  0.35546875, -0.421875  , -0.06982422, -0.33984375,\n",
            "        0.13574219, -0.13867188, -0.04345703, -0.25195312, -0.02307129,\n",
            "        0.13769531, -0.04516602, -0.19726562,  0.01818848,  0.32421875,\n",
            "        0.05737305, -0.0201416 ,  0.10205078, -0.13085938, -0.34960938,\n",
            "        0.21582031, -0.08984375,  0.05786133,  0.17871094, -0.34179688,\n",
            "        0.00823975, -0.03686523, -0.16308594, -0.25      , -0.05541992,\n",
            "       -0.15625   , -0.0859375 , -0.16308594, -0.02087402,  0.05029297,\n",
            "        0.02941895,  0.14648438, -0.22753906,  0.14160156,  0.02514648,\n",
            "        0.16210938, -0.19433594,  0.11132812,  0.20996094, -0.4140625 ,\n",
            "       -0.10498047, -0.16699219, -0.09423828, -0.00686646, -0.18554688,\n",
            "       -0.18066406,  0.19238281,  0.05493164,  0.2578125 , -0.25585938,\n",
            "       -0.0324707 , -0.22949219,  0.00738525, -0.11572266,  0.09033203,\n",
            "       -0.16308594,  0.12109375, -0.03710938,  0.16503906,  0.02416992,\n",
            "        0.48632812, -0.34375   , -0.03930664,  0.13085938,  0.01068115,\n",
            "        0.06396484,  0.10058594, -0.01031494, -0.26953125, -0.01519775,\n",
            "        0.17578125, -0.18164062, -0.21289062,  0.20117188,  0.24804688,\n",
            "       -0.05444336,  0.00692749, -0.27539062, -0.03735352,  0.25585938,\n",
            "       -0.25585938,  0.06982422, -0.11816406,  0.04492188,  0.17578125,\n",
            "        0.00075531, -0.24414062, -0.58984375,  0.00939941,  0.20898438,\n",
            "       -0.20800781,  0.34765625, -0.38085938,  0.10888672, -0.03613281,\n",
            "        0.04003906,  0.07275391, -0.15234375,  0.0546875 , -0.12792969,\n",
            "        0.24707031, -0.02783203, -0.36328125,  0.16699219,  0.09423828,\n",
            "       -0.08935547, -0.10009766, -0.00325012, -0.03686523, -0.16210938,\n",
            "       -0.09472656, -0.09082031, -0.07861328, -0.08056641, -0.15527344,\n",
            "        0.41015625,  0.09375   ,  0.01373291,  0.07568359,  0.25      ],\n",
            "      dtype=float32), array([ 0.03466797,  0.18554688,  0.23632812,  0.31445312, -0.09130859,\n",
            "       -0.15039062, -0.09130859,  0.14746094,  0.40625   , -0.01147461,\n",
            "       -0.11767578,  0.15820312, -0.14648438,  0.328125  , -0.28515625,\n",
            "       -0.00314331, -0.24707031,  0.03320312,  0.10449219, -0.33007812,\n",
            "        0.203125  ,  0.22460938,  0.04296875,  0.05126953, -0.09619141,\n",
            "        0.08300781,  0.01300049, -0.07128906,  0.43945312, -0.05737305,\n",
            "        0.25195312,  0.17480469, -0.01434326,  0.43554688, -0.03686523,\n",
            "       -0.17578125,  0.03515625,  0.23730469, -0.02819824, -0.0100708 ,\n",
            "        0.33789062, -0.13476562,  0.46289062,  0.08105469, -0.14550781,\n",
            "       -0.13671875, -0.34765625, -0.22460938, -0.12597656, -0.03564453,\n",
            "        0.07128906, -0.03125   , -0.22167969,  0.00115967, -0.14160156,\n",
            "        0.13378906, -0.24023438,  0.04711914, -0.00460815, -0.10595703,\n",
            "       -0.02050781,  0.26171875,  0.00750732, -0.10058594,  0.25585938,\n",
            "        0.32421875,  0.03369141, -0.00354004,  0.2109375 ,  0.04663086,\n",
            "        0.07373047,  0.140625  ,  0.02893066, -0.07617188, -0.10839844,\n",
            "       -0.2890625 ,  0.375     ,  0.12402344,  0.31445312,  0.13183594,\n",
            "        0.078125  ,  0.1328125 ,  0.10742188,  0.16699219, -0.12890625,\n",
            "       -0.34570312, -0.28320312,  0.1640625 , -0.04467773, -0.06030273,\n",
            "       -0.47265625, -0.22851562, -0.12011719, -0.09863281, -0.03088379,\n",
            "        0.19433594,  0.00787354, -0.14648438,  0.09521484, -0.06347656,\n",
            "        0.10302734,  0.07226562, -0.01177979,  0.10058594,  0.18457031,\n",
            "        0.00202942,  0.16503906,  0.203125  ,  0.21582031,  0.01495361,\n",
            "       -0.34765625, -0.21289062, -0.1328125 , -0.09277344, -0.26171875,\n",
            "        0.07128906, -0.2265625 ,  0.03930664,  0.08642578,  0.3203125 ,\n",
            "        0.14453125,  0.04516602, -0.35546875, -0.13476562, -0.19335938,\n",
            "        0.16601562, -0.06445312, -0.06054688, -0.37890625, -0.37304688,\n",
            "        0.3125    ,  0.02001953,  0.2578125 ,  0.24316406, -0.00212097,\n",
            "       -0.03759766,  0.10205078, -0.02807617,  0.12158203,  0.02966309,\n",
            "       -0.19433594,  0.03881836, -0.03125   ,  0.32226562,  0.28125   ,\n",
            "        0.07958984, -0.11376953,  0.25976562, -0.03393555, -0.13378906,\n",
            "        0.359375  , -0.06982422, -0.03320312,  0.24414062,  0.16992188,\n",
            "       -0.02819824, -0.10595703, -0.34179688,  0.30078125, -0.12353516,\n",
            "       -0.16015625, -0.20410156, -0.203125  ,  0.13476562,  0.26757812,\n",
            "        0.02734375,  0.109375  ,  0.23046875, -0.05664062,  0.23242188,\n",
            "       -0.26171875, -0.20410156, -0.02062988, -0.10644531, -0.13085938,\n",
            "        0.00311279, -0.16113281,  0.16992188, -0.08740234, -0.359375  ,\n",
            "       -0.03588867, -0.37304688, -0.20996094, -0.08837891,  0.12451172,\n",
            "        0.1328125 ,  0.140625  , -0.08837891, -0.10644531,  0.2265625 ,\n",
            "       -0.13085938,  0.125     , -0.0402832 , -0.23828125,  0.11035156,\n",
            "       -0.12695312,  0.11230469,  0.55078125,  0.01391602,  0.07519531,\n",
            "       -0.12207031, -0.14941406,  0.0324707 , -0.13183594,  0.20410156,\n",
            "       -0.28320312,  0.33007812, -0.40625   , -0.03540039, -0.19824219,\n",
            "       -0.03100586, -0.29492188,  0.22363281,  0.1953125 , -0.20800781,\n",
            "       -0.21289062, -0.04394531, -0.23730469, -0.07275391, -0.11425781,\n",
            "       -0.1015625 , -0.10351562,  0.14355469,  0.12353516,  0.006073  ,\n",
            "       -0.01721191,  0.10742188,  0.28320312,  0.24902344, -0.08691406,\n",
            "        0.05004883, -0.06835938, -0.375     ,  0.05737305, -0.05517578,\n",
            "        0.15039062,  0.2890625 , -0.16601562,  0.13085938, -0.03491211,\n",
            "        0.26757812, -0.34375   ,  0.08154297,  0.21484375,  0.32617188,\n",
            "        0.12695312,  0.0078125 ,  0.05126953,  0.01092529,  0.25195312,\n",
            "       -0.0201416 , -0.03881836, -0.02087402,  0.48632812,  0.14941406,\n",
            "        0.15332031,  0.01348877,  0.08642578,  0.09619141, -0.13964844,\n",
            "       -0.14453125,  0.1953125 ,  0.07568359, -0.01013184, -0.22949219,\n",
            "        0.10009766,  0.0020752 , -0.0480957 , -0.14648438, -0.14257812,\n",
            "        0.09033203, -0.12890625, -0.10888672,  0.11083984, -0.06835938,\n",
            "        0.05639648,  0.11767578, -0.1484375 , -0.35546875,  0.27148438,\n",
            "       -0.12207031, -0.0246582 , -0.22949219, -0.20410156, -0.15722656,\n",
            "       -0.05932617, -0.27539062,  0.37695312, -0.35351562,  0.15429688,\n",
            "       -0.18652344, -0.09375   , -0.265625  ,  0.00552368, -0.15527344,\n",
            "        0.02368164,  0.19335938,  0.06982422,  0.30664062,  0.36328125],\n",
            "      dtype=float32), array([-9.13085938e-02, -8.69140625e-02, -1.20849609e-02,  5.66406250e-02,\n",
            "       -2.08007812e-01, -1.67968750e-01, -3.44238281e-02, -9.27734375e-02,\n",
            "       -7.51953125e-02,  5.59082031e-02, -1.24023438e-01,  7.37304688e-02,\n",
            "       -3.03955078e-02,  5.32226562e-02, -1.57226562e-01,  9.47265625e-02,\n",
            "        2.89062500e-01,  3.95507812e-02, -4.94384766e-03, -3.06640625e-01,\n",
            "        3.47656250e-01,  1.67968750e-01, -1.54418945e-02, -4.05273438e-02,\n",
            "        1.98242188e-01, -5.71289062e-02, -1.42211914e-02,  1.54296875e-01,\n",
            "        3.57421875e-01, -2.20703125e-01,  2.07031250e-01, -3.68652344e-02,\n",
            "        7.91015625e-02,  3.20312500e-01,  5.34667969e-02, -1.16577148e-02,\n",
            "        1.33789062e-01, -1.38671875e-01,  1.11816406e-01, -9.58251953e-03,\n",
            "        3.95507812e-02, -3.71093750e-01,  4.19921875e-01,  1.89208984e-02,\n",
            "       -9.22851562e-02, -2.91015625e-01, -1.36718750e-01, -1.32812500e-01,\n",
            "       -2.53906250e-01,  1.11816406e-01,  5.17578125e-02,  1.04003906e-01,\n",
            "        1.74804688e-01,  3.08837891e-02,  1.20849609e-02, -2.45361328e-02,\n",
            "        1.04492188e-01, -2.88085938e-02, -5.46875000e-02, -2.23632812e-01,\n",
            "        1.00585938e-01,  2.25585938e-01, -1.18164062e-01, -1.71875000e-01,\n",
            "        1.98974609e-02, -1.79687500e-01, -4.27246094e-02,  1.95312500e-01,\n",
            "        2.05078125e-01,  2.23388672e-02,  1.65039062e-01,  1.86523438e-01,\n",
            "        1.93359375e-01,  1.44042969e-02, -4.73022461e-03, -7.08007812e-02,\n",
            "        2.44140625e-01, -1.15234375e-01,  7.22656250e-02,  6.29882812e-02,\n",
            "       -4.51660156e-02, -2.43164062e-01,  1.98242188e-01, -1.38671875e-01,\n",
            "       -5.85937500e-02, -2.03125000e-01,  9.17968750e-02,  1.02050781e-01,\n",
            "        3.07617188e-02, -3.84521484e-03,  7.08007812e-02, -1.16699219e-01,\n",
            "       -1.12304688e-01, -7.66601562e-02, -1.11816406e-01, -1.26953125e-01,\n",
            "        1.33789062e-01, -1.54296875e-01, -2.62451172e-02,  1.71875000e-01,\n",
            "        1.27929688e-01, -1.84570312e-01, -6.49414062e-02, -5.54199219e-02,\n",
            "       -4.85839844e-02, -1.91406250e-01,  1.25976562e-01,  8.17871094e-03,\n",
            "        2.17773438e-01,  2.18505859e-02, -1.57226562e-01, -9.57031250e-02,\n",
            "       -4.17480469e-02,  4.27246094e-03,  1.53320312e-01,  3.12500000e-02,\n",
            "        1.61132812e-01, -1.66015625e-01, -3.68652344e-02,  2.22656250e-01,\n",
            "        6.64062500e-02,  4.95605469e-02,  4.63867188e-02, -1.33789062e-01,\n",
            "       -1.67236328e-02,  1.05468750e-01,  2.37304688e-01, -1.22070312e-01,\n",
            "       -1.68457031e-02, -2.34375000e-01,  1.44531250e-01, -1.06933594e-01,\n",
            "        1.02050781e-01,  1.52343750e-01, -3.47656250e-01, -2.90527344e-02,\n",
            "       -4.29687500e-02,  1.41601562e-01,  6.29882812e-02, -9.09423828e-03,\n",
            "       -1.93359375e-01, -1.06933594e-01, -2.15820312e-01,  3.16406250e-01,\n",
            "        2.98828125e-01, -3.02734375e-02,  6.10351562e-02, -2.35595703e-02,\n",
            "        2.81982422e-02,  1.46484375e-01,  1.69921875e-01,  1.32812500e-01,\n",
            "        1.76757812e-01, -4.37011719e-02,  2.38281250e-01, -3.00781250e-01,\n",
            "       -3.27148438e-02, -1.73828125e-01,  1.65039062e-01, -3.02734375e-02,\n",
            "       -1.78710938e-01, -6.07299805e-03,  1.38671875e-01,  3.26171875e-01,\n",
            "       -8.69140625e-02,  5.44433594e-02,  3.63769531e-02,  3.32031250e-02,\n",
            "       -2.28271484e-02,  2.17773438e-01, -1.25976562e-01, -7.37304688e-02,\n",
            "        1.33789062e-01, -3.22265625e-01,  7.32421875e-02, -1.25976562e-01,\n",
            "        1.14135742e-02, -8.20312500e-02, -1.35742188e-01,  4.49218750e-02,\n",
            "        6.78710938e-02,  1.52343750e-01,  3.46374512e-03, -2.17773438e-01,\n",
            "        5.64575195e-03,  1.11328125e-01,  1.06445312e-01,  3.80859375e-02,\n",
            "        3.75366211e-03, -1.67968750e-01,  1.00585938e-01,  4.44335938e-02,\n",
            "       -2.01171875e-01, -1.08886719e-01,  7.91015625e-02, -9.82666016e-03,\n",
            "       -9.42382812e-02,  2.81250000e-01,  6.25000000e-02, -8.25195312e-02,\n",
            "       -1.71875000e-01,  1.81884766e-02, -1.09863281e-01, -6.34765625e-02,\n",
            "       -1.29882812e-01,  2.58789062e-02,  2.77343750e-01,  4.44335938e-02,\n",
            "       -6.59179688e-02, -9.27734375e-02,  9.66796875e-02, -6.20117188e-02,\n",
            "        8.20312500e-02,  2.24609375e-02, -1.73828125e-01, -2.64892578e-02,\n",
            "       -1.61132812e-01,  1.20117188e-01, -1.41601562e-01,  3.26171875e-01,\n",
            "       -7.42187500e-02,  5.05371094e-02,  2.96875000e-01,  4.76074219e-02,\n",
            "        1.17187500e-01, -3.97949219e-02, -6.20117188e-02,  3.63281250e-01,\n",
            "        3.51562500e-01,  1.63085938e-01, -4.02832031e-02,  1.60156250e-01,\n",
            "       -3.10546875e-01, -1.41601562e-01,  9.03320312e-02,  5.88378906e-02,\n",
            "        9.61914062e-02, -8.88671875e-02, -1.52343750e-01,  1.19018555e-02,\n",
            "        1.43554688e-01, -9.71679688e-02,  7.76367188e-02,  8.88671875e-02,\n",
            "        1.75781250e-01, -8.77380371e-05,  1.11328125e-01,  5.76171875e-02,\n",
            "        1.33789062e-01, -8.10546875e-02, -3.10546875e-01, -6.44531250e-02,\n",
            "        5.54199219e-02,  3.44238281e-02,  6.10351562e-02, -9.03320312e-02,\n",
            "       -8.78906250e-02,  2.46093750e-01, -3.51562500e-02, -1.71875000e-01,\n",
            "       -3.26171875e-01, -2.53906250e-01,  1.19140625e-01,  2.63671875e-01,\n",
            "       -5.32226562e-02,  1.22558594e-01, -8.05664062e-02,  1.21582031e-01,\n",
            "       -1.34765625e-01, -4.61578369e-04,  2.02148438e-01, -4.85839844e-02,\n",
            "        5.76171875e-02, -3.66210938e-02,  6.59179688e-02, -4.80957031e-02,\n",
            "        1.14257812e-01, -3.28125000e-01, -9.22851562e-02, -6.83593750e-02,\n",
            "       -1.94091797e-02, -1.38671875e-01, -5.37109375e-02, -5.90820312e-02,\n",
            "       -7.91015625e-02, -1.20239258e-02,  7.08007812e-02,  1.08398438e-01,\n",
            "       -1.24511719e-01,  4.71191406e-02, -9.66796875e-02,  2.11181641e-02,\n",
            "       -4.71191406e-02, -2.81982422e-02, -8.98437500e-02, -4.15039062e-02,\n",
            "        9.47265625e-02,  2.83203125e-02, -2.32421875e-01,  1.19628906e-01],\n",
            "      dtype=float32), array([ 1.31835938e-01,  2.68554688e-03, -1.27929688e-01, -1.34765625e-01,\n",
            "       -6.74438477e-03, -1.26953125e-01,  7.78198242e-03, -2.63671875e-01,\n",
            "       -1.82617188e-01,  3.06640625e-01, -2.72216797e-02, -2.08007812e-01,\n",
            "        7.81250000e-03, -6.05468750e-02,  1.81640625e-01,  4.46777344e-02,\n",
            "       -1.04980469e-01,  2.31445312e-01,  6.59179688e-02,  4.46777344e-02,\n",
            "        2.94189453e-02,  1.55273438e-01,  1.87500000e-01, -2.04467773e-03,\n",
            "       -5.00488281e-02,  1.36718750e-01,  5.44433594e-02,  9.13085938e-02,\n",
            "        2.22656250e-01, -2.09960938e-01, -1.47460938e-01, -2.59765625e-01,\n",
            "       -2.08984375e-01,  8.10546875e-02, -1.56250000e-01, -2.53906250e-01,\n",
            "        7.51953125e-02,  5.27343750e-02,  2.22656250e-01,  8.05664062e-02,\n",
            "        7.35473633e-03,  3.19824219e-02,  2.89306641e-02, -1.54296875e-01,\n",
            "        2.11914062e-01,  1.36718750e-01, -5.68847656e-02,  3.18359375e-01,\n",
            "       -1.00585938e-01,  8.39843750e-02, -7.76367188e-02, -5.83496094e-02,\n",
            "       -3.06640625e-01,  3.73535156e-02, -2.24609375e-01,  2.51953125e-01,\n",
            "       -9.17968750e-02,  3.49609375e-01, -1.25976562e-01, -4.73632812e-02,\n",
            "       -1.84570312e-01,  8.39843750e-02,  3.02734375e-01,  7.12890625e-02,\n",
            "       -7.71484375e-02,  5.29785156e-02,  6.88476562e-02, -2.61718750e-01,\n",
            "       -1.24511719e-01, -1.39648438e-01, -1.59179688e-01, -1.72119141e-02,\n",
            "        1.33789062e-01,  7.42187500e-02,  2.08984375e-01, -4.94140625e-01,\n",
            "       -2.67578125e-01, -6.22558594e-02, -2.78320312e-02, -6.78710938e-02,\n",
            "       -4.55078125e-01,  5.93261719e-02,  5.22460938e-02,  2.68554688e-02,\n",
            "       -3.63769531e-02,  5.83496094e-02, -1.05468750e-01,  1.31835938e-01,\n",
            "        1.60156250e-01, -1.31835938e-01, -6.98242188e-02, -2.92968750e-01,\n",
            "       -5.35156250e-01, -2.31445312e-01, -9.47265625e-02, -1.66015625e-01,\n",
            "        4.10156250e-02,  6.22558594e-02, -2.40234375e-01,  2.81250000e-01,\n",
            "       -9.86328125e-02,  9.82666016e-03,  1.12304688e-01, -2.37304688e-01,\n",
            "       -1.75781250e-01, -1.56250000e-01, -1.99218750e-01, -2.75390625e-01,\n",
            "       -5.58593750e-01, -9.33837891e-03, -1.50390625e-01, -4.27246094e-02,\n",
            "       -3.17382812e-02, -3.22265625e-01,  2.23159790e-04, -1.86523438e-01,\n",
            "        3.93066406e-02,  3.73046875e-01,  2.94921875e-01,  1.08886719e-01,\n",
            "        2.25830078e-02,  6.64062500e-02,  1.28906250e-01, -1.68945312e-01,\n",
            "       -7.91015625e-02, -1.54296875e-01, -3.71093750e-01, -2.21679688e-01,\n",
            "       -3.39843750e-01,  1.89453125e-01, -1.20605469e-01, -7.66601562e-02,\n",
            "       -1.19140625e-01, -1.70898438e-01,  8.42285156e-03, -1.66015625e-01,\n",
            "       -4.98046875e-02, -1.35742188e-01,  1.30859375e-01, -3.41796875e-02,\n",
            "       -2.73437500e-02,  1.02539062e-01,  3.63281250e-01, -1.66992188e-01,\n",
            "        2.30468750e-01, -1.95312500e-01,  2.42614746e-03, -5.27343750e-02,\n",
            "        2.10937500e-01,  1.52343750e-01,  2.40234375e-01, -2.53906250e-01,\n",
            "        1.26953125e-01, -9.76562500e-02, -1.69677734e-02, -2.73437500e-01,\n",
            "       -9.22851562e-02,  1.64794922e-02, -6.49414062e-02,  2.36328125e-01,\n",
            "       -3.94531250e-01,  1.55273438e-01,  1.55273438e-01, -1.12792969e-01,\n",
            "        1.76757812e-01, -1.23535156e-01,  1.37939453e-02,  1.07421875e-01,\n",
            "        2.91015625e-01,  1.61132812e-01, -1.14257812e-01,  1.24511719e-01,\n",
            "       -7.61718750e-02, -8.15429688e-02,  1.30859375e-01, -1.10839844e-01,\n",
            "        3.20312500e-01,  4.67300415e-04, -8.39843750e-02, -3.24218750e-01,\n",
            "       -2.25585938e-01,  7.32421875e-03, -1.99218750e-01, -2.17773438e-01,\n",
            "       -7.86132812e-02, -2.07031250e-01,  2.57812500e-01, -8.25195312e-02,\n",
            "       -1.11816406e-01,  2.33398438e-01,  1.10351562e-01,  2.29492188e-01,\n",
            "       -4.44335938e-02, -3.02734375e-01, -2.87109375e-01,  3.14453125e-01,\n",
            "        2.26562500e-01, -5.22460938e-02,  1.75781250e-01, -6.59179688e-02,\n",
            "       -7.93457031e-03, -9.96093750e-02, -1.60156250e-01, -1.34765625e-01,\n",
            "       -9.32617188e-02, -8.64257812e-02,  6.34765625e-02, -2.14843750e-01,\n",
            "        2.01171875e-01,  5.46875000e-02, -6.04248047e-03,  1.20605469e-01,\n",
            "       -8.30078125e-02,  2.14843750e-01,  1.72615051e-04,  1.94091797e-02,\n",
            "       -2.26562500e-01,  4.82177734e-03, -1.01562500e-01, -2.79296875e-01,\n",
            "        6.03027344e-02, -2.53906250e-01,  6.44531250e-02, -9.13085938e-02,\n",
            "       -2.46093750e-01, -1.35742188e-01,  1.16210938e-01,  5.39550781e-02,\n",
            "        3.26171875e-01, -1.08398438e-01,  2.14843750e-02, -6.93359375e-02,\n",
            "       -3.58886719e-02, -1.09375000e-01,  6.25000000e-02, -6.00585938e-02,\n",
            "       -1.38671875e-01, -1.75781250e-01, -3.08837891e-02, -2.20703125e-01,\n",
            "        4.29687500e-01, -1.86523438e-01, -1.31835938e-01,  1.39648438e-01,\n",
            "       -8.39843750e-02,  3.20312500e-01, -1.18652344e-01, -1.84570312e-01,\n",
            "       -1.36718750e-01,  5.71289062e-02, -3.93066406e-02, -2.92968750e-01,\n",
            "       -2.49023438e-01,  7.65991211e-03,  4.39453125e-01, -1.42578125e-01,\n",
            "        3.45703125e-01, -1.65039062e-01,  3.02734375e-01, -3.44238281e-02,\n",
            "        1.94335938e-01,  6.98242188e-02, -4.51660156e-02,  2.89062500e-01,\n",
            "        1.13769531e-01,  1.87500000e-01, -2.36328125e-01, -6.88476562e-02,\n",
            "       -1.88476562e-01, -1.12304688e-01,  9.52148438e-02,  7.37304688e-02,\n",
            "       -1.10351562e-01,  4.63867188e-02,  2.94189453e-02,  5.27343750e-02,\n",
            "        1.91406250e-01, -6.00585938e-02, -2.15820312e-01, -1.64062500e-01,\n",
            "       -1.21093750e-01,  2.28515625e-01,  1.16699219e-01,  1.16699219e-01,\n",
            "        1.25976562e-01, -1.36718750e-01, -1.22558594e-01, -4.56542969e-02,\n",
            "        1.69921875e-01, -6.83593750e-02, -1.59179688e-01,  2.36328125e-01,\n",
            "       -2.35351562e-01, -1.37695312e-01, -2.20703125e-01, -5.56640625e-02,\n",
            "       -2.47070312e-01, -1.26342773e-02, -7.08007812e-02,  9.86328125e-02],\n",
            "      dtype=float32), array([ 6.39648438e-02, -2.55859375e-01, -8.44726562e-02,  1.51367188e-01,\n",
            "       -8.15429688e-02,  3.88183594e-02, -3.63769531e-02, -1.17187500e-01,\n",
            "        4.19921875e-02,  1.59454346e-03, -1.84631348e-03, -7.42187500e-02,\n",
            "        2.53906250e-02,  6.73828125e-02,  4.05273438e-02, -1.86767578e-02,\n",
            "       -1.66015625e-01,  8.69140625e-02, -1.03515625e-01,  1.19140625e-01,\n",
            "        1.69677734e-02, -1.16699219e-01,  4.73632812e-02, -8.25195312e-02,\n",
            "       -3.00781250e-01,  5.61523438e-02, -1.19628906e-01,  1.63574219e-02,\n",
            "        1.34765625e-01,  1.14746094e-01,  1.94091797e-02,  1.40625000e-01,\n",
            "       -2.03125000e-01, -1.22558594e-01,  4.39453125e-02, -1.10351562e-01,\n",
            "        5.83496094e-02, -3.32031250e-02,  1.37695312e-01,  2.51953125e-01,\n",
            "        1.68945312e-01, -2.39257812e-01, -1.33789062e-01,  1.13281250e-01,\n",
            "       -4.37011719e-02,  8.54492188e-02, -4.48608398e-03,  1.89453125e-01,\n",
            "        1.78222656e-02, -3.36914062e-02,  2.85156250e-01,  7.56835938e-03,\n",
            "       -7.17773438e-02, -1.93359375e-01,  1.77001953e-02, -2.34375000e-02,\n",
            "       -5.37109375e-02, -1.03027344e-01,  8.97216797e-03, -1.72851562e-01,\n",
            "       -1.01562500e-01, -9.17968750e-02, -1.25976562e-01, -3.93066406e-02,\n",
            "       -8.10546875e-02,  5.34667969e-02, -5.41992188e-02,  1.04003906e-01,\n",
            "       -1.55029297e-02,  9.21630859e-03,  2.41699219e-02,  1.24511719e-02,\n",
            "        8.74023438e-02, -5.73730469e-02, -2.90527344e-02, -1.26953125e-01,\n",
            "        1.52343750e-01,  1.03027344e-01,  1.40380859e-02, -6.03027344e-02,\n",
            "       -2.61230469e-02, -6.44531250e-02, -3.46679688e-02,  1.57928467e-03,\n",
            "       -3.32031250e-01, -1.17187500e-01, -5.59082031e-02,  7.27539062e-02,\n",
            "        2.20703125e-01,  2.52685547e-02,  2.16796875e-01,  3.41796875e-02,\n",
            "       -2.04101562e-01, -1.27929688e-01, -6.98242188e-02, -2.37304688e-01,\n",
            "        6.39648438e-02,  1.29882812e-01, -2.20947266e-02,  9.22851562e-02,\n",
            "        1.78222656e-02, -1.12792969e-01, -6.68945312e-02,  1.52343750e-01,\n",
            "       -2.05078125e-01, -2.68554688e-02, -7.03125000e-02, -1.60156250e-01,\n",
            "       -3.54003906e-03, -1.78222656e-02,  1.95312500e-01,  1.43554688e-01,\n",
            "        7.12890625e-02,  4.90722656e-02,  1.33789062e-01,  7.17773438e-02,\n",
            "        1.85546875e-02, -3.88183594e-02,  1.89453125e-01,  2.16796875e-01,\n",
            "       -1.33789062e-01,  1.91406250e-01,  1.54113770e-03,  8.74023438e-02,\n",
            "       -7.03125000e-02, -5.51757812e-02,  7.76367188e-02, -3.24707031e-02,\n",
            "       -7.56835938e-02,  8.15429688e-02,  1.98974609e-02, -9.42382812e-02,\n",
            "       -3.07617188e-02, -4.90722656e-02,  2.67333984e-02, -4.37011719e-02,\n",
            "        1.67968750e-01, -1.46484375e-01, -2.17285156e-02,  4.27246094e-02,\n",
            "        9.03320312e-02, -2.36328125e-01,  4.05273438e-02, -2.55126953e-02,\n",
            "        1.89453125e-01, -5.20019531e-02, -1.40625000e-01, -5.02929688e-02,\n",
            "       -2.09960938e-01,  4.83398438e-02, -1.12304688e-01, -1.50390625e-01,\n",
            "       -2.61718750e-01,  1.45263672e-02, -1.01562500e-01,  9.15527344e-03,\n",
            "       -1.06445312e-01,  3.17382812e-02, -1.53320312e-01,  8.59375000e-02,\n",
            "        1.35742188e-01,  1.47460938e-01, -8.39843750e-02,  8.64257812e-02,\n",
            "        8.72802734e-03,  2.29492188e-02,  5.55419922e-03,  8.10546875e-02,\n",
            "        1.23535156e-01,  2.72216797e-02, -2.11914062e-01,  5.39550781e-02,\n",
            "       -3.78417969e-02, -7.66601562e-02, -5.67626953e-03, -1.12304688e-01,\n",
            "       -2.41210938e-01, -5.18798828e-03, -5.59082031e-02, -1.31835938e-01,\n",
            "       -1.96289062e-01, -1.66015625e-02,  4.66308594e-02, -4.24804688e-02,\n",
            "       -9.71679688e-02, -3.83300781e-02, -8.23974609e-03, -5.59082031e-02,\n",
            "        3.85742188e-02,  1.59454346e-03,  3.71093750e-02, -2.06054688e-01,\n",
            "       -1.26953125e-01, -1.67968750e-01, -5.54199219e-02, -1.07910156e-01,\n",
            "       -3.29589844e-02,  1.12792969e-01,  8.97216797e-03, -1.12792969e-01,\n",
            "       -2.04101562e-01,  1.82617188e-01, -1.37695312e-01,  1.56250000e-01,\n",
            "        2.97851562e-02, -1.04003906e-01, -2.92968750e-02, -1.20605469e-01,\n",
            "       -5.00488281e-02,  1.45507812e-01,  1.02539062e-01,  8.64257812e-02,\n",
            "        1.11328125e-01,  2.07031250e-01,  4.76074219e-02,  9.76562500e-02,\n",
            "       -1.50146484e-02,  1.95312500e-01, -1.91406250e-01,  1.18164062e-01,\n",
            "        4.22363281e-02,  2.08740234e-02, -3.07617188e-02, -5.88378906e-02,\n",
            "        2.79296875e-01, -1.13769531e-01,  1.92871094e-02,  8.00781250e-02,\n",
            "        1.09100342e-03,  1.00708008e-02,  7.93457031e-03, -4.12597656e-02,\n",
            "        2.16796875e-01,  5.79833984e-03, -7.71484375e-02, -7.32421875e-02,\n",
            "       -1.51367188e-01, -2.96875000e-01,  7.22656250e-02, -3.11279297e-02,\n",
            "        7.81250000e-02,  5.54199219e-02,  1.16577148e-02, -1.35742188e-01,\n",
            "        9.52148438e-02,  1.50390625e-01,  1.31225586e-02,  2.26562500e-01,\n",
            "       -1.04003906e-01,  5.78613281e-02,  1.21093750e-01,  3.95507812e-02,\n",
            "       -6.83593750e-02,  3.34472656e-02,  1.15356445e-02,  3.39355469e-02,\n",
            "        2.12669373e-04,  6.25000000e-02, -1.35742188e-01,  5.46875000e-02,\n",
            "       -4.44335938e-02,  7.71484375e-02, -2.07031250e-01, -2.33459473e-03,\n",
            "       -8.74023438e-02,  6.64062500e-02, -3.17382812e-02, -8.60595703e-03,\n",
            "       -1.70898438e-01,  9.96093750e-02,  1.49414062e-01,  5.93261719e-02,\n",
            "        1.91406250e-01,  2.81982422e-02,  1.46484375e-01, -6.00585938e-02,\n",
            "       -2.21679688e-01,  3.56445312e-02, -5.92041016e-03,  1.50390625e-01,\n",
            "        9.42382812e-02,  1.77734375e-01,  1.96533203e-02, -4.58984375e-02,\n",
            "       -1.36108398e-02,  1.19628906e-01, -1.11328125e-01, -1.13769531e-01,\n",
            "        1.28906250e-01,  1.62109375e-01,  1.75781250e-02,  9.52148438e-02,\n",
            "        3.93066406e-02,  1.69921875e-01, -1.06445312e-01, -4.90722656e-02,\n",
            "        1.23046875e-01,  2.74658203e-02,  6.49414062e-02,  6.20117188e-02],\n",
            "      dtype=float32), array([-7.66601562e-02, -1.04003906e-01, -1.75476074e-03,  2.09960938e-01,\n",
            "        9.08203125e-02,  1.92871094e-02,  4.44335938e-02, -7.66601562e-02,\n",
            "        1.48437500e-01,  1.60156250e-01, -3.12500000e-02, -1.93359375e-01,\n",
            "        5.39550781e-02,  9.13085938e-02,  1.39648438e-01,  1.35742188e-01,\n",
            "       -1.48437500e-01,  5.32226562e-02, -9.52148438e-03,  1.33789062e-01,\n",
            "       -2.23632812e-01, -2.89306641e-02, -5.12695312e-02, -1.24511719e-01,\n",
            "       -8.39843750e-02,  5.34667969e-02, -2.22656250e-01,  7.32421875e-02,\n",
            "        1.31835938e-01,  1.09863281e-01,  8.05664062e-02,  1.94335938e-01,\n",
            "       -9.57031250e-02, -8.15429688e-02,  3.19824219e-02,  5.83496094e-02,\n",
            "       -7.51953125e-02,  6.12792969e-02,  6.68945312e-02,  1.89453125e-01,\n",
            "        1.40625000e-01, -1.09375000e-01, -1.30859375e-01,  1.15234375e-01,\n",
            "        2.54821777e-03, -8.98437500e-02, -1.03515625e-01,  2.32421875e-01,\n",
            "        1.45263672e-02, -9.37500000e-02,  1.04492188e-01, -4.61425781e-02,\n",
            "       -1.51367188e-02, -1.83593750e-01,  9.76562500e-02,  1.04980469e-01,\n",
            "       -5.20019531e-02, -1.18652344e-01, -1.02050781e-01, -1.80664062e-01,\n",
            "       -5.40161133e-03, -3.68652344e-02, -1.07421875e-01, -1.51367188e-01,\n",
            "       -6.34765625e-02,  1.06933594e-01, -6.17675781e-02,  4.17480469e-02,\n",
            "        1.47705078e-02, -3.41796875e-02,  8.25195312e-02, -3.25012207e-03,\n",
            "        2.19726562e-01,  1.00585938e-01, -8.39843750e-02, -1.58203125e-01,\n",
            "        2.32421875e-01,  9.22851562e-02,  1.52343750e-01, -1.40625000e-01,\n",
            "       -1.19140625e-01, -1.10351562e-01, -1.06201172e-02,  1.81640625e-01,\n",
            "       -3.47656250e-01, -1.17187500e-01, -2.45361328e-02,  8.74023438e-02,\n",
            "        1.28906250e-01,  5.37109375e-02,  1.38671875e-01,  6.59179688e-02,\n",
            "       -1.31835938e-01, -8.98437500e-02, -5.83496094e-02, -1.96289062e-01,\n",
            "        4.78515625e-02,  8.64257812e-02, -4.51660156e-02,  7.51953125e-02,\n",
            "        2.00195312e-02, -2.35351562e-01,  2.35595703e-02,  9.27734375e-02,\n",
            "       -6.10351562e-02, -1.91406250e-01, -8.49609375e-02, -2.38037109e-02,\n",
            "       -2.84423828e-02, -1.12792969e-01,  2.25585938e-01,  9.66796875e-02,\n",
            "        2.88085938e-02,  1.85546875e-01, -2.60009766e-02,  1.43554688e-01,\n",
            "        2.47070312e-01, -9.47265625e-02,  1.31835938e-01,  1.03027344e-01,\n",
            "       -1.64062500e-01,  1.87500000e-01, -1.03027344e-01, -5.29785156e-02,\n",
            "       -9.37500000e-02, -3.58886719e-02,  2.37304688e-01,  5.17578125e-02,\n",
            "        1.34277344e-02,  7.66601562e-02, -4.33349609e-03, -1.07421875e-01,\n",
            "        6.29882812e-02,  3.14941406e-02,  8.15429688e-02, -1.00097656e-01,\n",
            "        3.56445312e-02, -8.39843750e-02, -1.22070312e-01, -6.98242188e-02,\n",
            "       -6.44531250e-02, -2.11914062e-01,  5.76171875e-02, -5.95703125e-02,\n",
            "        2.51953125e-01, -1.37695312e-01, -1.35742188e-01, -9.71679688e-02,\n",
            "       -2.81250000e-01, -6.39648438e-02, -9.08203125e-02, -1.97265625e-01,\n",
            "       -2.41210938e-01,  1.95312500e-02, -2.03125000e-01, -7.08007812e-02,\n",
            "       -1.48437500e-01,  1.21459961e-02, -7.22656250e-02, -1.85546875e-02,\n",
            "        1.25976562e-01,  2.07031250e-01, -1.26342773e-02,  1.39770508e-02,\n",
            "        2.01416016e-02,  7.22656250e-02,  1.17187500e-02,  4.15039062e-02,\n",
            "       -1.83105469e-02,  3.88183594e-02, -2.03125000e-01, -7.08007812e-02,\n",
            "       -9.81445312e-02, -1.50390625e-01, -1.92382812e-01,  9.03320312e-03,\n",
            "       -2.40234375e-01, -1.11328125e-01,  1.75781250e-02, -1.31835938e-01,\n",
            "       -2.91824341e-04, -1.51367188e-01, -8.30078125e-02,  3.34472656e-02,\n",
            "       -3.71093750e-02, -3.36914062e-02, -6.49414062e-02,  1.12915039e-02,\n",
            "        8.05664062e-02, -4.49218750e-02,  1.84570312e-01, -1.74804688e-01,\n",
            "       -1.28906250e-01, -1.28906250e-01, -1.31835938e-01, -3.12500000e-02,\n",
            "       -4.34570312e-02,  1.55029297e-02, -4.90722656e-02, -1.03515625e-01,\n",
            "       -1.96289062e-01,  1.34765625e-01, -1.65039062e-01,  1.12792969e-01,\n",
            "        2.35595703e-02, -1.01562500e-01, -6.17675781e-02, -1.73828125e-01,\n",
            "       -1.67968750e-01, -6.25610352e-04,  1.13281250e-01,  4.61425781e-02,\n",
            "        2.83203125e-02,  1.88476562e-01, -2.71606445e-03, -4.00390625e-02,\n",
            "       -3.85742188e-02,  1.07910156e-01, -1.91650391e-02,  9.66796875e-02,\n",
            "       -4.24804688e-02,  3.49426270e-03,  1.30859375e-01, -5.85937500e-02,\n",
            "        2.87109375e-01, -1.89453125e-01,  2.89306641e-02,  2.55859375e-01,\n",
            "        1.11328125e-01,  8.83789062e-02,  2.18505859e-02, -4.63867188e-02,\n",
            "        2.41210938e-01,  1.05957031e-01,  3.71093750e-02,  8.69140625e-02,\n",
            "       -2.09960938e-01, -3.16406250e-01,  1.37695312e-01, -1.26953125e-01,\n",
            "       -1.01318359e-02,  4.17480469e-02,  2.03125000e-01, -1.95312500e-01,\n",
            "        1.08398438e-01,  1.68945312e-01,  4.34570312e-02,  1.67968750e-01,\n",
            "        6.49414062e-02,  1.42822266e-02,  1.21582031e-01,  2.72216797e-02,\n",
            "       -1.90429688e-01,  8.49609375e-02, -2.18505859e-02,  1.66015625e-02,\n",
            "        3.54003906e-02,  2.14843750e-02, -7.81250000e-03,  1.11694336e-02,\n",
            "       -5.90820312e-02,  5.18798828e-03, -1.95312500e-02,  2.35595703e-02,\n",
            "        3.66210938e-02, -7.87353516e-03,  3.51562500e-02,  3.66210938e-02,\n",
            "       -1.56250000e-02,  8.10546875e-02,  1.61132812e-01, -3.07617188e-02,\n",
            "        1.58203125e-01, -1.29882812e-01,  1.53320312e-01, -8.44726562e-02,\n",
            "       -3.28125000e-01,  1.63085938e-01,  1.68457031e-02, -8.00781250e-02,\n",
            "        4.15039062e-02,  1.00585938e-01, -5.73730469e-02,  5.49316406e-02,\n",
            "        8.34960938e-02,  1.35742188e-01,  3.17382812e-02, -9.81445312e-02,\n",
            "        2.26562500e-01,  9.52148438e-02, -1.06933594e-01,  1.25976562e-01,\n",
            "       -6.39648438e-02,  2.45117188e-01, -4.58984375e-02,  1.04003906e-01,\n",
            "        4.95605469e-02, -1.96533203e-02, -3.44238281e-02,  7.51495361e-04],\n",
            "      dtype=float32), array([-1.26953125e-01,  2.08984375e-01, -1.06445312e-01,  4.71191406e-02,\n",
            "       -5.27343750e-02, -2.21679688e-01,  2.88391113e-03, -2.79296875e-01,\n",
            "        8.39843750e-02,  2.47070312e-01,  1.15722656e-01,  5.66406250e-02,\n",
            "       -7.66601562e-02, -9.81445312e-02, -1.48925781e-02,  1.61132812e-01,\n",
            "        9.57031250e-02,  8.59375000e-02, -1.23535156e-01, -4.21142578e-03,\n",
            "       -1.11816406e-01,  1.03027344e-01,  4.15039062e-02, -2.39257812e-01,\n",
            "       -7.47070312e-02,  7.81250000e-02, -1.11694336e-02, -3.17382812e-02,\n",
            "       -5.20019531e-02, -3.24707031e-02, -2.39257812e-02, -8.44726562e-02,\n",
            "       -1.28906250e-01,  2.55859375e-01,  2.89062500e-01,  8.30078125e-02,\n",
            "       -1.68945312e-01, -2.47070312e-01, -1.93359375e-01,  1.18164062e-01,\n",
            "        1.15234375e-01,  4.66308594e-02, -8.25195312e-02, -2.33398438e-01,\n",
            "        1.45874023e-02, -7.66601562e-02, -2.99072266e-02,  4.17480469e-02,\n",
            "        3.63769531e-02, -1.56250000e-01,  4.78515625e-02, -3.16406250e-01,\n",
            "       -1.96289062e-01, -1.22070312e-01, -5.76171875e-02,  1.02050781e-01,\n",
            "        1.54418945e-02, -1.57226562e-01,  5.22460938e-02, -1.54296875e-01,\n",
            "       -3.85742188e-02,  1.47460938e-01,  4.71191406e-02,  1.65039062e-01,\n",
            "       -2.89306641e-02,  1.65039062e-01,  1.85546875e-01,  7.44628906e-03,\n",
            "       -9.42382812e-02, -1.76757812e-01, -1.41601562e-01,  8.93554688e-02,\n",
            "       -1.13281250e-01,  2.14843750e-01, -1.05957031e-01, -1.27929688e-01,\n",
            "        4.34570312e-02,  1.21093750e-01,  1.55273438e-01,  1.85546875e-01,\n",
            "       -6.73828125e-02, -2.03125000e-01, -5.98144531e-02,  2.16796875e-01,\n",
            "       -2.20703125e-01, -1.29882812e-01, -2.53906250e-01,  4.54101562e-02,\n",
            "        1.25000000e-01,  3.93066406e-02,  2.21679688e-01,  1.21093750e-01,\n",
            "       -2.33398438e-01, -1.63085938e-01, -3.47656250e-01, -1.39648438e-01,\n",
            "        6.78710938e-02, -1.12915039e-02,  1.66015625e-01, -2.55126953e-02,\n",
            "       -2.52685547e-02,  2.53295898e-03, -1.40625000e-01,  1.06445312e-01,\n",
            "       -8.25195312e-02, -2.57812500e-01,  7.26318359e-03,  1.53320312e-01,\n",
            "       -7.32421875e-02,  6.10351562e-02,  2.41699219e-02,  2.11914062e-01,\n",
            "        5.39550781e-02,  7.51953125e-02,  1.44531250e-01,  1.82617188e-01,\n",
            "       -6.93359375e-02, -1.84326172e-02,  6.29882812e-02, -1.53320312e-01,\n",
            "       -8.20312500e-02,  1.98974609e-02,  1.66015625e-02, -8.93554688e-02,\n",
            "       -7.27539062e-02,  3.24707031e-02,  2.81250000e-01,  1.28906250e-01,\n",
            "        7.17773438e-02,  1.74804688e-01, -7.03125000e-02, -1.65039062e-01,\n",
            "       -1.19628906e-01, -1.22070312e-02, -1.59179688e-01,  9.86328125e-02,\n",
            "       -7.71484375e-02, -2.08007812e-01, -8.69140625e-02,  2.04101562e-01,\n",
            "        6.64062500e-02, -1.63085938e-01, -1.74804688e-01,  9.52148438e-02,\n",
            "        8.93554688e-02,  1.42578125e-01, -7.61718750e-02, -5.34057617e-03,\n",
            "       -8.98437500e-02, -1.32812500e-01, -2.46582031e-02, -3.71093750e-02,\n",
            "       -1.60156250e-01,  1.43554688e-01,  4.44335938e-02,  5.81054688e-02,\n",
            "       -1.82617188e-01, -1.70898438e-02, -6.17675781e-02, -1.14257812e-01,\n",
            "        2.22656250e-01,  1.76757812e-01,  6.88476562e-02,  3.61328125e-02,\n",
            "        3.14941406e-02,  1.04492188e-01, -1.38671875e-01, -1.19140625e-01,\n",
            "       -2.99072266e-03, -9.08203125e-02,  1.19628906e-01,  1.08337402e-03,\n",
            "       -6.00585938e-02, -6.59179688e-02,  8.15429688e-02,  2.20947266e-02,\n",
            "       -1.49414062e-01,  8.69140625e-02,  4.22363281e-02,  8.11767578e-03,\n",
            "       -1.48437500e-01, -5.49316406e-02,  8.60595703e-03, -1.31225586e-02,\n",
            "        1.73828125e-01,  5.88378906e-02,  2.16796875e-01, -3.80859375e-02,\n",
            "        1.65039062e-01, -6.73828125e-02,  1.57470703e-02,  1.67083740e-03,\n",
            "        7.71484375e-02, -5.90820312e-02, -1.68945312e-01,  2.47070312e-01,\n",
            "        8.74023438e-02,  8.10546875e-02, -6.34765625e-02,  9.91210938e-02,\n",
            "       -2.94921875e-01,  1.46484375e-01,  2.44140625e-01,  1.89453125e-01,\n",
            "        1.91406250e-01, -1.29882812e-01, -1.00097656e-01, -3.83300781e-02,\n",
            "       -3.66210938e-02, -5.44433594e-02,  1.68945312e-01, -9.81445312e-02,\n",
            "       -1.25976562e-01,  5.78613281e-02, -2.43164062e-01, -4.51660156e-02,\n",
            "       -1.59179688e-01, -4.34570312e-02,  5.59082031e-02,  2.18750000e-01,\n",
            "        9.46044922e-03, -1.55639648e-02,  8.30078125e-02, -9.17968750e-02,\n",
            "        1.82617188e-01, -2.25585938e-01,  1.18652344e-01, -4.39453125e-02,\n",
            "       -1.15722656e-01, -1.63085938e-01, -1.92382812e-01, -2.25585938e-01,\n",
            "        1.32812500e-01, -3.86047363e-03, -1.15722656e-01, -5.90820312e-02,\n",
            "        1.04003906e-01, -1.57470703e-02,  4.63867188e-02, -2.44140625e-01,\n",
            "        6.93359375e-02, -6.29882812e-02, -1.08642578e-02, -2.87109375e-01,\n",
            "       -2.83203125e-01, -1.43554688e-01,  1.54418945e-02,  6.93359375e-02,\n",
            "       -3.54003906e-02,  5.07812500e-02,  2.06054688e-01,  9.66796875e-02,\n",
            "       -6.54296875e-02,  9.91210938e-02,  3.80859375e-02,  1.05957031e-01,\n",
            "       -9.23156738e-04,  1.89453125e-01, -6.44531250e-02, -3.23486328e-03,\n",
            "       -8.83789062e-02, -1.19140625e-01,  1.94335938e-01,  8.39843750e-02,\n",
            "        1.64062500e-01,  3.22265625e-01, -6.25000000e-02,  1.20605469e-01,\n",
            "       -5.96046448e-05, -9.64355469e-03,  1.28906250e-01, -7.03125000e-02,\n",
            "        3.93066406e-02, -7.27539062e-02, -9.81445312e-02, -7.03125000e-02,\n",
            "       -1.59179688e-01, -1.30859375e-01, -2.68554688e-02, -2.75390625e-01,\n",
            "       -3.83300781e-02,  6.15234375e-02,  1.05957031e-01,  1.03027344e-01,\n",
            "       -7.47070312e-02,  1.50756836e-02, -1.16210938e-01,  7.86132812e-02,\n",
            "       -2.02636719e-02,  1.88476562e-01, -9.86328125e-02,  2.05078125e-01,\n",
            "       -2.02148438e-01, -3.00292969e-02,  8.88671875e-02, -2.81250000e-01,\n",
            "       -1.26953125e-01,  1.34765625e-01,  1.87988281e-02, -1.48437500e-01],\n",
            "      dtype=float32)]\n"
          ]
        }
      ]
    },
    {
      "cell_type": "markdown",
      "metadata": {
        "id": "simplified-calibration"
      },
      "source": [
        "### 4. Pad the sentences to the same length\n",
        "\n",
        "The input size of model is fixed. However, the sentence lengths are various.  \n",
        "An intuitive solution is to stuff some dummy values into arrays util they share the same size, and this is called *padding*.  \n",
        "\n",
        "<small>*<a href=\"https://www.tensorflow.org/api_docs/python/tf/keras/preprocessing/sequence/pad_sequences\">tf.keras.preprocessing.sequence.pad_sequences</a></small>"
      ],
      "id": "simplified-calibration"
    },
    {
      "cell_type": "code",
      "metadata": {
        "id": "initial-victoria"
      },
      "source": [
        "# if you prefer numpy\n",
        "import numpy as np\n",
        "# or if you prefer tensorflow\n",
        "from tensorflow.keras.preprocessing.sequence import pad_sequences"
      ],
      "id": "initial-victoria",
      "execution_count": 15,
      "outputs": []
    },
    {
      "cell_type": "code",
      "metadata": {
        "id": "inside-still"
      },
      "source": [
        "def add_padding(embeddings, padding_width = None):\n",
        "    # [ TODO ]\n",
        "    # Pad all embeddings to padding_width, or detect it automatically when it's not given\n",
        "    # ps. tensorflow's `pad_sequences` can detect that for you\n",
        "\n",
        "    padding_width = padding_width if padding_width is not None else max(len(embedding) for embedding in embeddings)\n",
        "    padded_embeddings = []\n",
        "    for embedding in embeddings:\n",
        "        if len(embedding) == padding_width:\n",
        "            padded_embedding = embedding[:]\n",
        "        else:\n",
        "            padded_embedding = [[0 for _ in range(300)] for _ in range(padding_width - len(embedding))] + embedding[:]\n",
        "        padded_embeddings.append(padded_embedding)\n",
        "    padded_embeddings = np.array(padded_embeddings)\n",
        "    return padded_embeddings"
      ],
      "id": "inside-still",
      "execution_count": 16,
      "outputs": []
    },
    {
      "cell_type": "code",
      "metadata": {
        "colab": {
          "base_uri": "https://localhost:8080/"
        },
        "id": "spatial-classic",
        "outputId": "e5a8b2f0-012d-4f36-84fe-d7ac36b23cc2"
      },
      "source": [
        "emb_padded = add_padding(embeddings)\n",
        "print(emb_padded[0])"
      ],
      "id": "spatial-classic",
      "execution_count": 17,
      "outputs": [
        {
          "output_type": "stream",
          "name": "stdout",
          "text": [
            "[[ 0.          0.          0.         ...  0.          0.\n",
            "   0.        ]\n",
            " [ 0.          0.          0.         ...  0.          0.\n",
            "   0.        ]\n",
            " [ 0.          0.          0.         ...  0.          0.\n",
            "   0.        ]\n",
            " ...\n",
            " [ 0.06396484 -0.25585938 -0.08447266 ...  0.02746582  0.06494141\n",
            "   0.06201172]\n",
            " [-0.07666016 -0.10400391 -0.00175476 ... -0.01965332 -0.03442383\n",
            "   0.0007515 ]\n",
            " [-0.12695312  0.20898438 -0.10644531 ...  0.13476562  0.01879883\n",
            "  -0.1484375 ]]\n"
          ]
        }
      ]
    },
    {
      "cell_type": "code",
      "metadata": {
        "colab": {
          "base_uri": "https://localhost:8080/"
        },
        "id": "wanted-brazilian",
        "outputId": "4936a292-a84a-4414-911b-7e7ff55f6d5e"
      },
      "source": [
        "print(len(embeddings[0]), len(embeddings[1]))\n",
        "print(emb_padded[0].shape, emb_padded[1].shape)"
      ],
      "id": "wanted-brazilian",
      "execution_count": 18,
      "outputs": [
        {
          "output_type": "stream",
          "name": "stdout",
          "text": [
            "15 23\n",
            "(23, 300) (23, 300)\n"
          ]
        }
      ]
    },
    {
      "cell_type": "markdown",
      "metadata": {
        "id": "brazilian-talent"
      },
      "source": [
        "You should see the embedding of shorter sentence is padded by empty arrays, and they are at the same length now."
      ],
      "id": "brazilian-talent"
    },
    {
      "cell_type": "code",
      "metadata": {
        "colab": {
          "base_uri": "https://localhost:8080/"
        },
        "id": "boring-building",
        "outputId": "3998c5de-7ca7-43c8-be75-ea8f7ca4cbe3"
      },
      "source": [
        "# record the width for the future use.\n",
        "PADDING_WIDTH = emb_padded[0].shape[0]\n",
        "print(PADDING_WIDTH)"
      ],
      "id": "boring-building",
      "execution_count": 19,
      "outputs": [
        {
          "output_type": "stream",
          "name": "stdout",
          "text": [
            "23\n"
          ]
        }
      ]
    },
    {
      "cell_type": "markdown",
      "metadata": {
        "id": "official-postage"
      },
      "source": [
        "### 5. all-in-one\n",
        "\n",
        "Define a function to setup the pipeline, and transform all sentences into embeddings!  \n",
        "\n",
        "<small>\\*Your embedding shape might not be the same with ours due to our different preprocessing procedure. </small>"
      ],
      "id": "official-postage"
    },
    {
      "cell_type": "code",
      "metadata": {
        "id": "greater-royalty"
      },
      "source": [
        "def process_text(sentences, padding = None):\n",
        "    result = [ preprocess(sentence) for sentence in sentences ]\n",
        "    result = [ to_embedding(sentence) for sentence in result ]\n",
        "    result = add_padding(result, padding)\n",
        "    return result"
      ],
      "id": "greater-royalty",
      "execution_count": 20,
      "outputs": []
    },
    {
      "cell_type": "code",
      "metadata": {
        "id": "ranking-motel"
      },
      "source": [
        "X = process_text(pure_data.values())"
      ],
      "id": "ranking-motel",
      "execution_count": 21,
      "outputs": []
    },
    {
      "cell_type": "code",
      "metadata": {
        "colab": {
          "base_uri": "https://localhost:8080/"
        },
        "id": "equivalent-member",
        "outputId": "253c93c8-5dc9-4a09-9f67-eabc9ced4a06"
      },
      "source": [
        "X[0] # should be an embedding with padding"
      ],
      "id": "equivalent-member",
      "execution_count": 22,
      "outputs": [
        {
          "output_type": "execute_result",
          "data": {
            "text/plain": [
              "array([[ 0.        ,  0.        ,  0.        , ...,  0.        ,\n",
              "         0.        ,  0.        ],\n",
              "       [ 0.        ,  0.        ,  0.        , ...,  0.        ,\n",
              "         0.        ,  0.        ],\n",
              "       [ 0.        ,  0.        ,  0.        , ...,  0.        ,\n",
              "         0.        ,  0.        ],\n",
              "       ...,\n",
              "       [ 0.        ,  0.        ,  0.        , ...,  0.        ,\n",
              "         0.        ,  0.        ],\n",
              "       [-0.22851562, -0.08837891,  0.12792969, ..., -0.21289062,\n",
              "         0.18847656, -0.14550781],\n",
              "       [ 0.21582031, -0.12207031,  0.09765625, ..., -0.06201172,\n",
              "        -0.17089844,  0.02563477]])"
            ]
          },
          "metadata": {},
          "execution_count": 22
        }
      ]
    },
    {
      "cell_type": "code",
      "metadata": {
        "colab": {
          "base_uri": "https://localhost:8080/"
        },
        "id": "gross-kelly",
        "outputId": "23946f74-ad23-4946-85e8-dbed5c30ce4a"
      },
      "source": [
        "X.shape # should be (637, *, 300), * depends on your preprocessing"
      ],
      "id": "gross-kelly",
      "execution_count": 23,
      "outputs": [
        {
          "output_type": "execute_result",
          "data": {
            "text/plain": [
              "(637, 78, 300)"
            ]
          },
          "metadata": {},
          "execution_count": 23
        }
      ]
    },
    {
      "cell_type": "markdown",
      "metadata": {
        "id": "cheap-punishment"
      },
      "source": [
        "Let's use a dictionary to store all embeddings with their sentence_id."
      ],
      "id": "cheap-punishment"
    },
    {
      "cell_type": "code",
      "metadata": {
        "id": "transparent-environment"
      },
      "source": [
        "processed_data = { \n",
        "    sent_id: embedding for sent_id, embedding in zip(pure_data, X) \n",
        "}"
      ],
      "id": "transparent-environment",
      "execution_count": 24,
      "outputs": []
    },
    {
      "cell_type": "code",
      "metadata": {
        "colab": {
          "base_uri": "https://localhost:8080/"
        },
        "id": "boxed-gossip",
        "outputId": "ed73d2da-cabc-43d9-d0f5-1dcbd6e5f787"
      },
      "source": [
        "print(pure_data['1001'])\n",
        "processed_data['1001']"
      ],
      "id": "boxed-gossip",
      "execution_count": 25,
      "outputs": [
        {
          "output_type": "stream",
          "name": "stdout",
          "text": [
            "A naked party, also known as nude party, is a party where the participants are required to be nude.\n"
          ]
        },
        {
          "output_type": "execute_result",
          "data": {
            "text/plain": [
              "array([[ 0.        ,  0.        ,  0.        , ...,  0.        ,\n",
              "         0.        ,  0.        ],\n",
              "       [ 0.        ,  0.        ,  0.        , ...,  0.        ,\n",
              "         0.        ,  0.        ],\n",
              "       [ 0.        ,  0.        ,  0.        , ...,  0.        ,\n",
              "         0.        ,  0.        ],\n",
              "       ...,\n",
              "       [ 0.        ,  0.        ,  0.        , ...,  0.        ,\n",
              "         0.        ,  0.        ],\n",
              "       [-0.22851562, -0.08837891,  0.12792969, ..., -0.21289062,\n",
              "         0.18847656, -0.14550781],\n",
              "       [ 0.21582031, -0.12207031,  0.09765625, ..., -0.06201172,\n",
              "        -0.17089844,  0.02563477]])"
            ]
          },
          "metadata": {},
          "execution_count": 25
        }
      ]
    },
    {
      "cell_type": "markdown",
      "metadata": {
        "id": "directed-vinyl"
      },
      "source": [
        "## II. First stage\n",
        "\n",
        "After preprocessing the training data, now we are going to train our first-stage model!  \n",
        "\n",
        "According to the method described at the beginning, we can train a simple model on a smaller dataset, and this dataset can be generated by rule from seeds.  \n",
        "\n",
        "### Steps\n",
        "\n",
        "1. Prepare the training data\n",
        "2. Encode labels\n",
        "3. Split training and testing dataset\n",
        "4. Build classifier\n",
        "5. Train"
      ],
      "id": "directed-vinyl"
    },
    {
      "cell_type": "markdown",
      "metadata": {
        "id": "solid-consensus"
      },
      "source": [
        "### 1. Prepare the training data\n",
        "\n",
        "Given the seed collocations, you can add a sentence into the training data with label if that sentence contains that collocation.  \n",
        "For example, we can say <i>\"A party is a **social** gathering.\"</i> should be the first sense, because it contains the keyword *social*. Hence, your training data will have this sentence with its label `1`.  \n",
        "\n",
        "Don't worry about the false-positive cases for now.  \n",
        "If the seed is generally good enough, the model will learn to ignore those wrong data by itself. (though yeah, you can get better results if you deal with it beforehand)"
      ],
      "id": "solid-consensus"
    },
    {
      "cell_type": "code",
      "metadata": {
        "id": "magnetic-humidity"
      },
      "source": [
        "SEEDS = {\n",
        "    1: ['social', 'events'],\n",
        "    2: ['system', 'coalition'],\n",
        "    3: ['court', 'law']\n",
        "}"
      ],
      "id": "magnetic-humidity",
      "execution_count": 26,
      "outputs": []
    },
    {
      "cell_type": "markdown",
      "metadata": {
        "id": "sonic-pricing"
      },
      "source": [
        "<font color=\"red\">[TODO]</font> Get the initial training data from the given seeds.  "
      ],
      "id": "sonic-pricing"
    },
    {
      "cell_type": "code",
      "metadata": {
        "id": "hourly-power"
      },
      "source": [
        "# [TODO]\n",
        "indice, first_X, first_Y = [], [], []   # sentence id of selected samples, selected sentences, detected labels\n",
        "for sent_id, sentence in pure_data.items():\n",
        "    for (label, keywords) in SEEDS.items():\n",
        "        if any(keyword in preprocess(sentence) for keyword in keywords):\n",
        "            indice.append(sent_id)\n",
        "            first_X.append(processed_data[sent_id])\n",
        "            first_Y.append(label - 1)"
      ],
      "id": "hourly-power",
      "execution_count": 27,
      "outputs": []
    },
    {
      "cell_type": "markdown",
      "metadata": {
        "id": "universal-matthew"
      },
      "source": [
        "Examine training data.  \n",
        "The labels might not be 100% correct, but it should look reasonable.  "
      ],
      "id": "universal-matthew"
    },
    {
      "cell_type": "code",
      "metadata": {
        "colab": {
          "base_uri": "https://localhost:8080/"
        },
        "id": "practical-transportation",
        "outputId": "128586ef-abcf-4366-b820-7b3ea611b2f6"
      },
      "source": [
        "for i in range(5):\n",
        "    print(pure_data[indice[i]])\n",
        "    print(f' -> {first_Y[i]}: {SENSE[first_Y[i] + 1]}')\n",
        "    print()"
      ],
      "id": "practical-transportation",
      "execution_count": 28,
      "outputs": [
        {
          "output_type": "stream",
          "name": "stdout",
          "text": [
            "From these social conventions derive in turn also the variants worn on related occasions of varying solemnity, such as formal political, diplomatic, and academic events, in addition to certain parties including award ceremonies, balls, fraternal orders, high school proms, etc.\n",
            " -> 0: a social event at which a group of people meet to talk, eat, drink, dance, etc.\n",
            "\n",
            "The Free-minded People's Party () or Radical People's Party was a social liberal party in the German Empire, founded as a result of the split of the German Free-minded Party in 1893.\n",
            " -> 0: a social event at which a group of people meet to talk, eat, drink, dance, etc.\n",
            "\n",
            "Typically, a party has the right to object in court to a line of questioning or at the introduction of a particular piece of evidence.\n",
            " -> 2: a single entity which can be identified as one for the purposes of the law\n",
            "\n",
            "Dizzy bat is commonly played at parties, colleges and universities, bars, and other drinking festivities such as a tailgate party at sporting events and concerts.\n",
            " -> 0: a social event at which a group of people meet to talk, eat, drink, dance, etc.\n",
            "\n",
            "In 2009, a mass rally by a coalition of opposition parties in took place in Georgia against the government of President Mikheil Saakashvili.\n",
            " -> 1: an organization of people with particular political beliefs\n",
            "\n"
          ]
        }
      ]
    },
    {
      "cell_type": "markdown",
      "metadata": {
        "id": "fifteen-channel"
      },
      "source": [
        "Transform X and Y into numpy array for future use."
      ],
      "id": "fifteen-channel"
    },
    {
      "cell_type": "code",
      "metadata": {
        "colab": {
          "base_uri": "https://localhost:8080/"
        },
        "id": "polar-halloween",
        "outputId": "090b1782-51bc-40cf-ab82-8d79430d47d4"
      },
      "source": [
        "first_X = np.array(first_X)\n",
        "first_Y = np.array(first_Y)\n",
        "first_X.shape"
      ],
      "id": "polar-halloween",
      "execution_count": 29,
      "outputs": [
        {
          "output_type": "execute_result",
          "data": {
            "text/plain": [
              "(166, 78, 300)"
            ]
          },
          "metadata": {},
          "execution_count": 29
        }
      ]
    },
    {
      "cell_type": "markdown",
      "metadata": {
        "id": "original-modeling"
      },
      "source": [
        "### 2. Encode labels\n",
        "\n",
        "The labels now are all categorical, which are `1`, `2`, and `3` . However, it's hard to teach a machine this kind of answers.  \n",
        "Most of the time, machine learning generates a *numeric probability*, like `0.329`, rather than a categorical result.  \n",
        "That's why we want to encode the label into a floating point between 0 ~ 1, so that the machine can generate the probability of each answer.  \n",
        "\n",
        "Here we suggest you use the one-hot encoding, which is suitable for categorical classification.  \n",
        "So the label `2` will look like\n",
        "```\n",
        " Sense 1, Sense 2, Sense 3\n",
        "[      0,       1,       0]\n",
        "```\n",
        "\n",
        "*<small><a href=\"https://machinelearningmastery.com/why-one-hot-encode-data-in-machine-learning/\">Why One-Hot Encode Data in Machine Learning?</a></small>"
      ],
      "id": "original-modeling"
    },
    {
      "cell_type": "code",
      "metadata": {
        "id": "turkish-noise"
      },
      "source": [
        "# if you prefer tensorflow\n",
        "from tensorflow import one_hot\n",
        "# or if you don't like tensorflow\n",
        "from sklearn.preprocessing import OneHotEncoder"
      ],
      "id": "turkish-noise",
      "execution_count": 30,
      "outputs": []
    },
    {
      "cell_type": "markdown",
      "metadata": {
        "id": "universal-ivory"
      },
      "source": [
        "<font color=\"red\">[TODO]</font> one-hot encode `first_Y`\n",
        "\n",
        "<small>\n",
        "*<a href=\"https://www.tensorflow.org/api_docs/python/tf/one_hot\">tf.one_hot</a><br/>\n",
        "*<a href=\"https://scikit-learn.org/stable/modules/generated/sklearn.preprocessing.OneHotEncoder.html\">sklearn.preprocessing.OneHotEncoder</a>\n",
        "</small>"
      ],
      "id": "universal-ivory"
    },
    {
      "cell_type": "code",
      "metadata": {
        "id": "caroline-portugal"
      },
      "source": [
        "# [TODO]\n",
        "first_Y = one_hot(first_Y, 3)\n",
        "first_Y = np.array(first_Y, dtype=np.int32)"
      ],
      "id": "caroline-portugal",
      "execution_count": 31,
      "outputs": []
    },
    {
      "cell_type": "code",
      "metadata": {
        "colab": {
          "base_uri": "https://localhost:8080/"
        },
        "id": "executed-alabama",
        "outputId": "37a1d24f-dd7d-45bb-a03c-62aa364068d7"
      },
      "source": [
        "first_Y[:5]"
      ],
      "id": "executed-alabama",
      "execution_count": 32,
      "outputs": [
        {
          "output_type": "execute_result",
          "data": {
            "text/plain": [
              "array([[1, 0, 0],\n",
              "       [1, 0, 0],\n",
              "       [0, 0, 1],\n",
              "       [1, 0, 0],\n",
              "       [0, 1, 0]], dtype=int32)"
            ]
          },
          "metadata": {},
          "execution_count": 32
        }
      ]
    },
    {
      "cell_type": "markdown",
      "metadata": {
        "id": "painted-regulation"
      },
      "source": [
        "### 3. Prepare training and validation set\n",
        "\n",
        "Split the dataset into training set and validation set.  \n",
        "The reason for splitting is because, you may not want the model to see what you'll use to test it when it is still learning.\n",
        "\n",
        "Machine is very smart; sometimes it just *memorizes* the answers, rather than *learns* them. Even that the model has yielded a perfect accuracy in the test, it still might fail miserably when facing the cruel, real world. *(heh)*  \n",
        "That's why we need a validation set. We reserve a partition of data that will never be learnt by the model, and use it to validate whether the model really learns someting.\n",
        "\n",
        "<small>*<a href=\"https://tarangshah.com/blog/2017-12-03/train-validation-and-test-sets/\">Train, Validation and Test Sets</a></small>"
      ],
      "id": "painted-regulation"
    },
    {
      "cell_type": "code",
      "metadata": {
        "id": "buried-protection"
      },
      "source": [
        "# if you prefer sklearn\n",
        "from sklearn.model_selection import train_test_split\n",
        "# or if you don't like sklearn. **Remember to shuffle your data before splitting.**\n",
        "import numpy as np"
      ],
      "id": "buried-protection",
      "execution_count": 33,
      "outputs": []
    },
    {
      "cell_type": "code",
      "metadata": {
        "id": "bridal-banks"
      },
      "source": [
        "X_train, X_val, Y_train, Y_val = train_test_split(\n",
        "    first_X, first_Y,\n",
        "    test_size = 0.2,   # [TODO] How much data you want to used as validation set\n",
        "    shuffle = True\n",
        ")"
      ],
      "id": "bridal-banks",
      "execution_count": 34,
      "outputs": []
    },
    {
      "cell_type": "code",
      "metadata": {
        "colab": {
          "base_uri": "https://localhost:8080/"
        },
        "id": "confidential-merchandise",
        "outputId": "1e98e88c-5a66-4896-be3f-48d3633ea99a"
      },
      "source": [
        "print(X_train.shape, X_val.shape, Y_train.shape, Y_val.shape)"
      ],
      "id": "confidential-merchandise",
      "execution_count": 35,
      "outputs": [
        {
          "output_type": "stream",
          "name": "stdout",
          "text": [
            "(132, 78, 300) (34, 78, 300) (132, 3) (34, 3)\n"
          ]
        }
      ]
    },
    {
      "cell_type": "markdown",
      "metadata": {
        "id": "bronze-qualification"
      },
      "source": [
        "### 4. Build your multi-labeling classifier \n",
        "\n",
        "Now the data is all prepared.  \n",
        "Let's build a model to learn from it!  \n",
        "\n",
        "Note that, different from last week, your output dimension should be the size of all categories, rather than `2` .  \n",
        "\n",
        "\\-\n",
        "\n",
        "<small>\n",
        "*Although tensorflow is used below, you can always change it to any other framework you are familiar with. <br/>\n",
        "*<a href=\"https://www.tensorflow.org/api_docs/python/tf/keras/layers\">tf.keras.layers</a>\n",
        "</small>"
      ],
      "id": "bronze-qualification"
    },
    {
      "cell_type": "code",
      "metadata": {
        "id": "healthy-strength"
      },
      "source": [
        "from tensorflow.keras.models import Sequential\n",
        "from tensorflow.keras.layers import LSTM, Dense, Bidirectional #, and all the other layers you may use"
      ],
      "id": "healthy-strength",
      "execution_count": 36,
      "outputs": []
    },
    {
      "cell_type": "code",
      "metadata": {
        "colab": {
          "base_uri": "https://localhost:8080/"
        },
        "id": "alternative-pasta",
        "outputId": "8dc610ed-5b9a-45c0-8a36-de68bdc4f35c"
      },
      "source": [
        "_, PADDING_WIDTH, EMBEDDING_DIM = X_train.shape\n",
        "OUTPUT_CATEGORY = len(SENSE)\n",
        "\n",
        "print(PADDING_WIDTH, EMBEDDING_DIM, OUTPUT_CATEGORY)"
      ],
      "id": "alternative-pasta",
      "execution_count": 37,
      "outputs": [
        {
          "output_type": "stream",
          "name": "stdout",
          "text": [
            "78 300 3\n"
          ]
        }
      ]
    },
    {
      "cell_type": "markdown",
      "metadata": {
        "id": "universal-captain"
      },
      "source": [
        "<font color=\"red\">[TODO]</font> Build a classifier"
      ],
      "id": "universal-captain"
    },
    {
      "cell_type": "code",
      "metadata": {
        "colab": {
          "base_uri": "https://localhost:8080/"
        },
        "id": "alike-context",
        "outputId": "236280ed-423e-4fa7-ba6a-9d524a45718a"
      },
      "source": [
        "model_1 = Sequential()\n",
        "\n",
        "# [TODO]\n",
        "input_shape = (None, PADDING_WIDTH, EMBEDDING_DIM)\n",
        "\n",
        "model_1.add(Bidirectional(LSTM(64, return_sequences=True)))\n",
        "model_1.add(Bidirectional(LSTM(64)))\n",
        "model_1.add(Dense(OUTPUT_CATEGORY, activation=\"sigmoid\"))\n",
        "model_1.build(input_shape)\n",
        "\n",
        "print(model_1.summary())"
      ],
      "id": "alike-context",
      "execution_count": 38,
      "outputs": [
        {
          "output_type": "stream",
          "name": "stdout",
          "text": [
            "Model: \"sequential\"\n",
            "_________________________________________________________________\n",
            " Layer (type)                Output Shape              Param #   \n",
            "=================================================================\n",
            " bidirectional (Bidirectiona  (None, 78, 128)          186880    \n",
            " l)                                                              \n",
            "                                                                 \n",
            " bidirectional_1 (Bidirectio  (None, 128)              98816     \n",
            " nal)                                                            \n",
            "                                                                 \n",
            " dense (Dense)               (None, 3)                 387       \n",
            "                                                                 \n",
            "=================================================================\n",
            "Total params: 286,083\n",
            "Trainable params: 286,083\n",
            "Non-trainable params: 0\n",
            "_________________________________________________________________\n",
            "None\n"
          ]
        }
      ]
    },
    {
      "cell_type": "markdown",
      "metadata": {
        "id": "severe-dressing"
      },
      "source": [
        "Time to choose the optimizer and loss function.  \n",
        "\n",
        "Loss function is an equation evaluating how wrong your model has answered (the lower the better), while optimizer tells the model how to improve itself.  \n",
        "But seriously, we are not asking you to fine-tune these parameters. That is for Machine Learning class, not for NLP class, so if you are not able to pass the baseline, go check your processing procedure first. Something might go wrong there.  \n",
        "\n",
        "\\-\n",
        "\n",
        "<small>\n",
        "*<a href=\"https://www.tensorflow.org/api_docs/python/tf/keras/Model#compile\">tf.keras.model#compile</a> <br/>\n",
        "*<a href=\"https://www.tensorflow.org/api_docs/python/tf/keras/optimizers\">tf.keras.optimizers</a> <br/>\n",
        "*<a href=\"https://www.tensorflow.org/api_docs/python/tf/keras/losses\">tf.keras.losses</a>\n",
        "</small>"
      ],
      "id": "severe-dressing"
    },
    {
      "cell_type": "markdown",
      "metadata": {
        "id": "affected-palace"
      },
      "source": [
        "<font color=\"red\">[TODO]</font> Compile your model"
      ],
      "id": "affected-palace"
    },
    {
      "cell_type": "code",
      "metadata": {
        "id": "medium-indie"
      },
      "source": [
        "# [TODO]\n",
        "model_1.compile(optimizer=\"adam\", loss=\"binary_crossentropy\", metrics=['accuracy'])"
      ],
      "id": "medium-indie",
      "execution_count": 39,
      "outputs": []
    },
    {
      "cell_type": "markdown",
      "metadata": {
        "id": "overhead-needle"
      },
      "source": [
        "### 5. Train \n",
        "\n",
        "Time to train your model!  \n",
        "\n",
        "You should always prevent the model from overfitting, so take validation accuracy into consideration and choose your epoch number wisely.  \n",
        "\n",
        "<small>*<a href=\"https://www.ibm.com/cloud/learn/overfitting\">What is Overfitting?</a></small>"
      ],
      "id": "overhead-needle"
    },
    {
      "cell_type": "markdown",
      "metadata": {
        "id": "collaborative-wisdom"
      },
      "source": [
        "<font color=\"red\">[TODO]</font> Train and tune your model"
      ],
      "id": "collaborative-wisdom"
    },
    {
      "cell_type": "code",
      "metadata": {
        "colab": {
          "base_uri": "https://localhost:8080/"
        },
        "id": "expensive-anthropology",
        "outputId": "2d25d975-add3-44d7-bb68-59ec2d7cc2d1"
      },
      "source": [
        "history = model_1.fit(\n",
        "    X_train, Y_train, \n",
        "    validation_data=(X_val, Y_val),\n",
        "    epochs = 15,          # [TODO] how many iterations you want to run\n",
        "    # initial_epoch = ?    # set this if you're continuing previous training\n",
        ")"
      ],
      "id": "expensive-anthropology",
      "execution_count": 515,
      "outputs": [
        {
          "output_type": "stream",
          "name": "stdout",
          "text": [
            "Epoch 1/15\n",
            "5/5 [==============================] - 11s 725ms/step - loss: 0.6569 - accuracy: 0.5076 - val_loss: 0.5933 - val_accuracy: 0.4706\n",
            "Epoch 2/15\n",
            "5/5 [==============================] - 1s 241ms/step - loss: 0.5538 - accuracy: 0.5530 - val_loss: 0.5662 - val_accuracy: 0.4706\n",
            "Epoch 3/15\n",
            "5/5 [==============================] - 1s 241ms/step - loss: 0.5118 - accuracy: 0.5530 - val_loss: 0.5100 - val_accuracy: 0.5294\n",
            "Epoch 4/15\n",
            "5/5 [==============================] - 1s 236ms/step - loss: 0.4173 - accuracy: 0.7045 - val_loss: 0.3939 - val_accuracy: 0.7059\n",
            "Epoch 5/15\n",
            "5/5 [==============================] - 1s 237ms/step - loss: 0.3240 - accuracy: 0.8333 - val_loss: 0.3341 - val_accuracy: 0.8235\n",
            "Epoch 6/15\n",
            "5/5 [==============================] - 1s 245ms/step - loss: 0.2376 - accuracy: 0.9318 - val_loss: 0.2697 - val_accuracy: 0.8235\n",
            "Epoch 7/15\n",
            "5/5 [==============================] - 1s 240ms/step - loss: 0.1728 - accuracy: 0.9697 - val_loss: 0.2603 - val_accuracy: 0.8529\n",
            "Epoch 8/15\n",
            "5/5 [==============================] - 1s 239ms/step - loss: 0.1275 - accuracy: 0.9697 - val_loss: 0.1949 - val_accuracy: 0.9118\n",
            "Epoch 9/15\n",
            "5/5 [==============================] - 1s 234ms/step - loss: 0.1182 - accuracy: 0.9545 - val_loss: 0.2442 - val_accuracy: 0.9118\n",
            "Epoch 10/15\n",
            "5/5 [==============================] - 1s 240ms/step - loss: 0.0890 - accuracy: 0.9697 - val_loss: 0.2531 - val_accuracy: 0.9118\n",
            "Epoch 11/15\n",
            "5/5 [==============================] - 1s 235ms/step - loss: 0.0573 - accuracy: 0.9924 - val_loss: 0.2436 - val_accuracy: 0.9118\n",
            "Epoch 12/15\n",
            "5/5 [==============================] - 1s 239ms/step - loss: 0.0535 - accuracy: 0.9848 - val_loss: 0.2503 - val_accuracy: 0.9118\n",
            "Epoch 13/15\n",
            "5/5 [==============================] - 1s 239ms/step - loss: 0.0439 - accuracy: 0.9848 - val_loss: 0.2110 - val_accuracy: 0.9412\n",
            "Epoch 14/15\n",
            "5/5 [==============================] - 1s 256ms/step - loss: 0.0324 - accuracy: 0.9924 - val_loss: 0.2028 - val_accuracy: 0.9412\n",
            "Epoch 15/15\n",
            "5/5 [==============================] - 1s 237ms/step - loss: 0.0255 - accuracy: 0.9924 - val_loss: 0.2463 - val_accuracy: 0.9118\n"
          ]
        }
      ]
    },
    {
      "cell_type": "code",
      "metadata": {
        "id": "under-transportation"
      },
      "source": [
        "# example of continued training\n",
        "\n",
        "# history = model_1.fit(\n",
        "#     X_train, Y_train, \n",
        "#     validation_data=(X_val, Y_val),\n",
        "#     epochs = 10,          # how many iterations you want to run\n",
        "#     initial_epoch = 7     # set this if you're continuing previous training\n",
        "# )"
      ],
      "id": "under-transportation",
      "execution_count": 516,
      "outputs": []
    },
    {
      "cell_type": "markdown",
      "metadata": {
        "id": "raised-economics"
      },
      "source": [
        "### 6. Examine your model\n",
        "\n",
        "Let's see how good your model does.  "
      ],
      "id": "raised-economics"
    },
    {
      "cell_type": "code",
      "metadata": {
        "id": "beginning-range"
      },
      "source": [
        "testcases = [\n",
        "    # 1\n",
        "    'A block party or street party is a party in which many members of a single community congregate, either to observe an event of some importance or simply for mutual enjoyment.',\n",
        "    'A party is a social gathering.',\n",
        "    # 2\n",
        "    'Ukraine has a multi-party system, with numerous parties in which often not a single party has a chance of gaining power alone, and parties must work with each other to form coalition governments.',\n",
        "    'Serbia has a multi-party system, with numerous parties in which no one party often has a chance of gaining power alone, and parties must work with each other to form coalition governments.',\n",
        "    # 3\n",
        "    'In a civil lawsuit, a nominal party is one named as a party on the record of an action, but having no interest in the action.',\n",
        "]"
      ],
      "id": "beginning-range",
      "execution_count": 517,
      "outputs": []
    },
    {
      "cell_type": "code",
      "metadata": {
        "id": "alone-strengthening"
      },
      "source": [
        "# you must specify the padding width here, since the input size of model should always be the same\n",
        "test_X = process_text(testcases, padding = PADDING_WIDTH)"
      ],
      "id": "alone-strengthening",
      "execution_count": 518,
      "outputs": []
    },
    {
      "cell_type": "code",
      "metadata": {
        "id": "relative-month"
      },
      "source": [
        "predictions = model_1.predict(test_X)"
      ],
      "id": "relative-month",
      "execution_count": 519,
      "outputs": []
    },
    {
      "cell_type": "code",
      "metadata": {
        "colab": {
          "base_uri": "https://localhost:8080/"
        },
        "id": "packed-ocean",
        "outputId": "72226a35-d8dd-4fb9-8d0a-bdd8a47d69cc"
      },
      "source": [
        "predictions[0]"
      ],
      "id": "packed-ocean",
      "execution_count": 520,
      "outputs": [
        {
          "output_type": "execute_result",
          "data": {
            "text/plain": [
              "array([0.88962585, 0.07691857, 0.01072928], dtype=float32)"
            ]
          },
          "metadata": {},
          "execution_count": 520
        }
      ]
    },
    {
      "cell_type": "markdown",
      "metadata": {
        "id": "silent-bracelet"
      },
      "source": [
        "#### What does the result mean?\n",
        "\n",
        "As you can see, a list of floats are generated, and since we used one-hot encoding when preparing the training data, each number presents the result of corresponding categories.  \n",
        "```\n",
        " Sense 1, Sense 2, Sense 3\n",
        "[   0.89,    0.12,    0.21]\n",
        "```\n",
        "You can consider these values as the probability of each column, or said category. Hence, the true predicted label should be the one with the highest probability, which is Sense 1 for this sample.  \n",
        "\n",
        "Now let's get all the predicted labels from these probabilities.  "
      ],
      "id": "silent-bracelet"
    },
    {
      "cell_type": "code",
      "metadata": {
        "colab": {
          "base_uri": "https://localhost:8080/"
        },
        "id": "suspended-sending",
        "outputId": "dc7d88c7-2242-47f3-c9e3-2772c26b152d"
      },
      "source": [
        "for idx, result in enumerate(predictions):\n",
        "    predict_id = result.argmax() # select the index of the maximum value\n",
        "    sense_id = predict_id + 1    # sense_id starts from 1\n",
        "    print(testcases[idx])\n",
        "    print(f'-> Sense {sense_id} (prob={result[predict_id]:.2f}): {SENSE[sense_id]}')\n",
        "    print()"
      ],
      "id": "suspended-sending",
      "execution_count": 521,
      "outputs": [
        {
          "output_type": "stream",
          "name": "stdout",
          "text": [
            "A block party or street party is a party in which many members of a single community congregate, either to observe an event of some importance or simply for mutual enjoyment.\n",
            "-> Sense 1 (prob=0.89): a social event at which a group of people meet to talk, eat, drink, dance, etc.\n",
            "\n",
            "A party is a social gathering.\n",
            "-> Sense 1 (prob=0.94): a social event at which a group of people meet to talk, eat, drink, dance, etc.\n",
            "\n",
            "Ukraine has a multi-party system, with numerous parties in which often not a single party has a chance of gaining power alone, and parties must work with each other to form coalition governments.\n",
            "-> Sense 2 (prob=0.99): an organization of people with particular political beliefs\n",
            "\n",
            "Serbia has a multi-party system, with numerous parties in which no one party often has a chance of gaining power alone, and parties must work with each other to form coalition governments.\n",
            "-> Sense 2 (prob=0.99): an organization of people with particular political beliefs\n",
            "\n",
            "In a civil lawsuit, a nominal party is one named as a party on the record of an action, but having no interest in the action.\n",
            "-> Sense 3 (prob=0.95): a single entity which can be identified as one for the purposes of the law\n",
            "\n"
          ]
        }
      ]
    },
    {
      "cell_type": "markdown",
      "metadata": {
        "id": "brave-maldives"
      },
      "source": [
        "Again, the label might not be 100% correct, but it should look reasonable somehow.  "
      ],
      "id": "brave-maldives"
    },
    {
      "cell_type": "markdown",
      "metadata": {
        "id": "residential-license"
      },
      "source": [
        "## III. Second stage\n",
        "\n",
        "The previous model might not be enough for real-world use; another model with better ability is needed.  \n",
        "\n",
        "<small>*Most contents of this section are the same as previous one, so you can make use of your code above.</small>"
      ],
      "id": "residential-license"
    },
    {
      "cell_type": "markdown",
      "metadata": {
        "id": "vocal-success"
      },
      "source": [
        "### 1. Prepare the training data \n",
        "\n",
        "The model from the previous section is weak, yet it still has learned some valuable knowledge.  \n",
        "Let's ask that model to label more training data for us!"
      ],
      "id": "vocal-success"
    },
    {
      "cell_type": "code",
      "metadata": {
        "id": "blank-child"
      },
      "source": [
        "# Get the probability on the whold dataset\n",
        "predictions = model_1.predict(np.array(list(processed_data.values())))"
      ],
      "id": "blank-child",
      "execution_count": 522,
      "outputs": []
    },
    {
      "cell_type": "markdown",
      "metadata": {
        "id": "acoustic-committee"
      },
      "source": [
        "\n",
        "<font color=\"red\">[TODO]</font> Get the labels of all data, and reserve only those labels with high probabilities."
      ],
      "id": "acoustic-committee"
    },
    {
      "cell_type": "code",
      "metadata": {
        "id": "powerful-debut"
      },
      "source": [
        "THRESHOLD = 0.7  # you may want to change this :)\n",
        "indice, second_X, second_Y = [], [], [] # sentence id of selected samples, selected sentences, detected labels\n",
        "\n",
        "for sent_id, result in zip(processed_data, predictions):\n",
        "    predict_id = result.argmax()\n",
        "    probability = result[predict_id]\n",
        "    if probability > THRESHOLD:\n",
        "        indice.append(sent_id)\n",
        "        second_X.append(processed_data[sent_id])\n",
        "        second_Y.append(predict_id)"
      ],
      "id": "powerful-debut",
      "execution_count": 523,
      "outputs": []
    },
    {
      "cell_type": "markdown",
      "metadata": {
        "id": "artificial-python"
      },
      "source": [
        "Observe the selected data size and the quality of labels.  \n",
        "You might want to go back and modify your preprocessing, first model, or the threshold until you get a better training data."
      ],
      "id": "artificial-python"
    },
    {
      "cell_type": "code",
      "metadata": {
        "colab": {
          "base_uri": "https://localhost:8080/"
        },
        "id": "02bb78d4",
        "outputId": "87645d7b-dea8-48d2-cb03-06e848f29072"
      },
      "source": [
        "for i in range(5):\n",
        "    print(pure_data[indice[i]])\n",
        "    print(f' -> {second_Y[i]}: {SENSE[second_Y[i] + 1]}')\n",
        "    print()"
      ],
      "id": "02bb78d4",
      "execution_count": 524,
      "outputs": [
        {
          "output_type": "stream",
          "name": "stdout",
          "text": [
            "A naked party, also known as nude party, is a party where the participants are required to be nude.\n",
            " -> 0: a social event at which a group of people meet to talk, eat, drink, dance, etc.\n",
            "\n",
            "The town center bears the hallmarks of a typical migration-accepting Turkish rural town, with traditional structures coexisting with a collection of concrete apartment blocks providing public housing, as well as amenities such as basic shopping and fast-food restaurants, and essential infrastructure but little in the way of culture except for cinemas and large rooms hired out for wedding parties.\n",
            " -> 0: a social event at which a group of people meet to talk, eat, drink, dance, etc.\n",
            "\n",
            "Elections Alberta oversees the creation of political parties and riding associations, compiles election statistics on ridings, and collects financial statements from party candidates and riding associations.\n",
            " -> 1: an organization of people with particular political beliefs\n",
            "\n",
            "A group of characters can join together to form a party and go on levels together.\n",
            " -> 1: an organization of people with particular political beliefs\n",
            "\n",
            "From these social conventions derive in turn also the variants worn on related occasions of varying solemnity, such as formal political, diplomatic, and academic events, in addition to certain parties including award ceremonies, balls, fraternal orders, high school proms, etc.\n",
            " -> 0: a social event at which a group of people meet to talk, eat, drink, dance, etc.\n",
            "\n"
          ]
        }
      ]
    },
    {
      "cell_type": "code",
      "metadata": {
        "colab": {
          "base_uri": "https://localhost:8080/"
        },
        "id": "thirty-narrative",
        "outputId": "3fb977f3-786d-4eae-ecf4-df6fdd406586"
      },
      "source": [
        "second_X = np.array(second_X)\n",
        "second_Y = np.array(second_Y)\n",
        "second_X.shape"
      ],
      "id": "thirty-narrative",
      "execution_count": 525,
      "outputs": [
        {
          "output_type": "execute_result",
          "data": {
            "text/plain": [
              "(567, 78, 300)"
            ]
          },
          "metadata": {},
          "execution_count": 525
        }
      ]
    },
    {
      "cell_type": "markdown",
      "metadata": {
        "id": "ZEqcWVnOakzi"
      },
      "source": [
        "(220, 59, 300)"
      ],
      "id": "ZEqcWVnOakzi"
    },
    {
      "cell_type": "markdown",
      "metadata": {
        "id": "elect-california"
      },
      "source": [
        "### 2. Encode labels "
      ],
      "id": "elect-california"
    },
    {
      "cell_type": "markdown",
      "metadata": {
        "id": "bright-constant"
      },
      "source": [
        "<font color=\"red\">[TODO]</font> one-hot encode secone_Y"
      ],
      "id": "bright-constant"
    },
    {
      "cell_type": "code",
      "metadata": {
        "id": "transparent-fraction"
      },
      "source": [
        "# [TODO]\n",
        "second_Y = one_hot(second_Y, 3)\n",
        "second_Y = np.array(second_Y, dtype=np.int32)"
      ],
      "id": "transparent-fraction",
      "execution_count": 526,
      "outputs": []
    },
    {
      "cell_type": "code",
      "metadata": {
        "colab": {
          "base_uri": "https://localhost:8080/"
        },
        "id": "champion-calculation",
        "outputId": "370ddbbb-4810-46d9-8d61-38f72e81b93b"
      },
      "source": [
        "second_Y[:3]"
      ],
      "id": "champion-calculation",
      "execution_count": 527,
      "outputs": [
        {
          "output_type": "execute_result",
          "data": {
            "text/plain": [
              "array([[1, 0, 0],\n",
              "       [1, 0, 0],\n",
              "       [0, 1, 0]], dtype=int32)"
            ]
          },
          "metadata": {},
          "execution_count": 527
        }
      ]
    },
    {
      "cell_type": "markdown",
      "metadata": {
        "id": "loose-visiting"
      },
      "source": [
        "### 3. Prepare training and validating dataset"
      ],
      "id": "loose-visiting"
    },
    {
      "cell_type": "code",
      "metadata": {
        "id": "rocky-friendly"
      },
      "source": [
        "X_train, X_val, Y_train, Y_val = train_test_split(\n",
        "    second_X, second_Y,\n",
        "    test_size = 0.2,    # [TODO] How much data you want to used as validation set\n",
        "    shuffle = True\n",
        ")"
      ],
      "id": "rocky-friendly",
      "execution_count": 528,
      "outputs": []
    },
    {
      "cell_type": "code",
      "metadata": {
        "colab": {
          "base_uri": "https://localhost:8080/"
        },
        "id": "collectible-threat",
        "outputId": "3cb3878d-e50b-488e-9051-5244b01b1271"
      },
      "source": [
        "X_train.shape"
      ],
      "id": "collectible-threat",
      "execution_count": 529,
      "outputs": [
        {
          "output_type": "execute_result",
          "data": {
            "text/plain": [
              "(453, 78, 300)"
            ]
          },
          "metadata": {},
          "execution_count": 529
        }
      ]
    },
    {
      "cell_type": "markdown",
      "metadata": {
        "id": "wnlPZMlSa4Ys"
      },
      "source": [
        "(176, 59, 300)"
      ],
      "id": "wnlPZMlSa4Ys"
    },
    {
      "cell_type": "markdown",
      "metadata": {
        "id": "annual-enclosure"
      },
      "source": [
        "### 4. Build model"
      ],
      "id": "annual-enclosure"
    },
    {
      "cell_type": "code",
      "metadata": {
        "colab": {
          "base_uri": "https://localhost:8080/"
        },
        "id": "synthetic-wagon",
        "outputId": "d571053a-d1a0-47c4-a253-cdedcb4db1d1"
      },
      "source": [
        "# the number comes from previous setting\n",
        "print(PADDING_WIDTH, EMBEDDING_DIM, OUTPUT_CATEGORY)"
      ],
      "id": "synthetic-wagon",
      "execution_count": 530,
      "outputs": [
        {
          "output_type": "stream",
          "name": "stdout",
          "text": [
            "78 300 3\n"
          ]
        }
      ]
    },
    {
      "cell_type": "markdown",
      "metadata": {
        "id": "GMV4vX6Wa6Zj"
      },
      "source": [
        "59 300 3"
      ],
      "id": "GMV4vX6Wa6Zj"
    },
    {
      "cell_type": "markdown",
      "metadata": {
        "id": "alone-canadian"
      },
      "source": [
        "<font color=\"red\">[TODO]</font> Build your second model\n",
        "\n",
        "<small>*This model can be different from the previous one.</small>"
      ],
      "id": "alone-canadian"
    },
    {
      "cell_type": "code",
      "metadata": {
        "colab": {
          "base_uri": "https://localhost:8080/"
        },
        "id": "connected-placement",
        "outputId": "e75ed12d-7a14-43c3-b175-611ac2f9f816"
      },
      "source": [
        "model_2 = Sequential()\n",
        "\n",
        "# [TODO]\n",
        "input_shape = (None, PADDING_WIDTH, EMBEDDING_DIM)\n",
        "\n",
        "model_2.add(Bidirectional(LSTM(64, return_sequences=True)))\n",
        "model_2.add(Bidirectional(LSTM(64)))\n",
        "model_2.add(Dense(OUTPUT_CATEGORY, activation=\"sigmoid\"))\n",
        "model_2.build(input_shape)\n",
        "\n",
        "print(model_2.summary())"
      ],
      "id": "connected-placement",
      "execution_count": 531,
      "outputs": [
        {
          "output_type": "stream",
          "name": "stdout",
          "text": [
            "Model: \"sequential_15\"\n",
            "_________________________________________________________________\n",
            " Layer (type)                Output Shape              Param #   \n",
            "=================================================================\n",
            " bidirectional_30 (Bidirecti  (None, 78, 128)          186880    \n",
            " onal)                                                           \n",
            "                                                                 \n",
            " bidirectional_31 (Bidirecti  (None, 128)              98816     \n",
            " onal)                                                           \n",
            "                                                                 \n",
            " dense_15 (Dense)            (None, 3)                 387       \n",
            "                                                                 \n",
            "=================================================================\n",
            "Total params: 286,083\n",
            "Trainable params: 286,083\n",
            "Non-trainable params: 0\n",
            "_________________________________________________________________\n",
            "None\n"
          ]
        }
      ]
    },
    {
      "cell_type": "markdown",
      "metadata": {
        "id": "beneficial-western"
      },
      "source": [
        "<font color=\"red\">[TODO]</font> Compile your model"
      ],
      "id": "beneficial-western"
    },
    {
      "cell_type": "code",
      "metadata": {
        "id": "found-intent"
      },
      "source": [
        "# [TODO]\n",
        "model_2.compile(optimizer=\"adam\", loss=\"binary_crossentropy\", metrics=['accuracy'])"
      ],
      "id": "found-intent",
      "execution_count": 532,
      "outputs": []
    },
    {
      "cell_type": "markdown",
      "metadata": {
        "id": "previous-birth"
      },
      "source": [
        "### 5. Train model\n",
        "\n",
        "<font color=\"red\">[TODO]</font> Train it!"
      ],
      "id": "previous-birth"
    },
    {
      "cell_type": "code",
      "metadata": {
        "colab": {
          "base_uri": "https://localhost:8080/"
        },
        "id": "noticed-import",
        "outputId": "eb04944c-6253-490b-9358-8ffcdfe6acb4"
      },
      "source": [
        "history = model_2.fit(\n",
        "    X_train, Y_train,\n",
        "    validation_data=(X_val, Y_val),\n",
        "    epochs = 15,        # [TODO] how many iterations you want to run\n",
        "    # initial_epoch = ?  # set this if you're continuing previous training\n",
        ")"
      ],
      "id": "noticed-import",
      "execution_count": 533,
      "outputs": [
        {
          "output_type": "stream",
          "name": "stdout",
          "text": [
            "Epoch 1/15\n",
            "15/15 [==============================] - 13s 377ms/step - loss: 0.6132 - accuracy: 0.4459 - val_loss: 0.5164 - val_accuracy: 0.7018\n",
            "Epoch 2/15\n",
            "15/15 [==============================] - 4s 246ms/step - loss: 0.3877 - accuracy: 0.8035 - val_loss: 0.2756 - val_accuracy: 0.8684\n",
            "Epoch 3/15\n",
            "15/15 [==============================] - 4s 239ms/step - loss: 0.2418 - accuracy: 0.8830 - val_loss: 0.2058 - val_accuracy: 0.9035\n",
            "Epoch 4/15\n",
            "15/15 [==============================] - 4s 238ms/step - loss: 0.1558 - accuracy: 0.9338 - val_loss: 0.1628 - val_accuracy: 0.9298\n",
            "Epoch 5/15\n",
            "15/15 [==============================] - 4s 240ms/step - loss: 0.1293 - accuracy: 0.9448 - val_loss: 0.2023 - val_accuracy: 0.8860\n",
            "Epoch 6/15\n",
            "15/15 [==============================] - 4s 236ms/step - loss: 0.0861 - accuracy: 0.9669 - val_loss: 0.2148 - val_accuracy: 0.8860\n",
            "Epoch 7/15\n",
            "15/15 [==============================] - 4s 239ms/step - loss: 0.0980 - accuracy: 0.9536 - val_loss: 0.2548 - val_accuracy: 0.8684\n",
            "Epoch 8/15\n",
            "15/15 [==============================] - 4s 239ms/step - loss: 0.0501 - accuracy: 0.9868 - val_loss: 0.2187 - val_accuracy: 0.8860\n",
            "Epoch 9/15\n",
            "15/15 [==============================] - 4s 234ms/step - loss: 0.0401 - accuracy: 0.9823 - val_loss: 0.1923 - val_accuracy: 0.8947\n",
            "Epoch 10/15\n",
            "15/15 [==============================] - 4s 236ms/step - loss: 0.0226 - accuracy: 0.9978 - val_loss: 0.2262 - val_accuracy: 0.8947\n",
            "Epoch 11/15\n",
            "15/15 [==============================] - 4s 240ms/step - loss: 0.0129 - accuracy: 1.0000 - val_loss: 0.2583 - val_accuracy: 0.8947\n",
            "Epoch 12/15\n",
            "15/15 [==============================] - 4s 245ms/step - loss: 0.0092 - accuracy: 1.0000 - val_loss: 0.2932 - val_accuracy: 0.8772\n",
            "Epoch 13/15\n",
            "15/15 [==============================] - 4s 239ms/step - loss: 0.0072 - accuracy: 1.0000 - val_loss: 0.2944 - val_accuracy: 0.8947\n",
            "Epoch 14/15\n",
            "15/15 [==============================] - 4s 244ms/step - loss: 0.0058 - accuracy: 1.0000 - val_loss: 0.2936 - val_accuracy: 0.9035\n",
            "Epoch 15/15\n",
            "15/15 [==============================] - 4s 237ms/step - loss: 0.0049 - accuracy: 1.0000 - val_loss: 0.2965 - val_accuracy: 0.8860\n"
          ]
        }
      ]
    },
    {
      "cell_type": "markdown",
      "metadata": {
        "id": "southeast-bailey"
      },
      "source": [
        "### 6. Examine the result"
      ],
      "id": "southeast-bailey"
    },
    {
      "cell_type": "code",
      "metadata": {
        "id": "atlantic-spine"
      },
      "source": [
        "testcases = [\n",
        "    # 1\n",
        "    'Green Beer Day (GBD) is a day-long party, where celebrants drink beer dyed green with artificial coloring or natural processes.',\n",
        "    'When the siblings grew up, they held parties and introduced the tradition to friends while in college, and the tradition began to spread.',\n",
        "    # 2\n",
        "    'Politicians from the two main parties tend to win elections when not confronted by strong challengers from their own party (in which cases their traditional opponents tend to win).',\n",
        "    'After the general election on 22 March 1992, five parties (Rassadorn, Justice Unity, Social Action, Thai Citizen, Chart Thai) designated Suchinda as the prime minister.',\n",
        "    # 3\n",
        "    'Typically, a party has the right to object in court to a line of questioning or at the introduction of a particular piece of evidence.',\n",
        "    'In the practice of law, judicial estoppel (also known as estoppel by inconsistent positions) is an estoppel that precludes a party from taking a position in a case that is contrary to a position it has taken in earlier legal proceedings.'\n",
        "]"
      ],
      "id": "atlantic-spine",
      "execution_count": 534,
      "outputs": []
    },
    {
      "cell_type": "code",
      "metadata": {
        "id": "taken-printer"
      },
      "source": [
        "# you must specify the padding width! \n",
        "test_X = process_text(testcases, padding = PADDING_WIDTH)"
      ],
      "id": "taken-printer",
      "execution_count": 535,
      "outputs": []
    },
    {
      "cell_type": "code",
      "metadata": {
        "id": "entitled-brief"
      },
      "source": [
        "predictions = model_2.predict(test_X)"
      ],
      "id": "entitled-brief",
      "execution_count": 536,
      "outputs": []
    },
    {
      "cell_type": "code",
      "metadata": {
        "colab": {
          "base_uri": "https://localhost:8080/"
        },
        "id": "reserved-small",
        "outputId": "6911c6af-202a-4b6e-c5d3-2ac2f6b0694e"
      },
      "source": [
        "for idx, result in enumerate(predictions):\n",
        "    predict_id = result.argmax()\n",
        "    sense_id = predict_id + 1    # sense_id starts from 1\n",
        "    print(testcases[idx])\n",
        "    print(f'-> Sense {sense_id} (prob={result[predict_id]:.2f}): {SENSE[sense_id]}')\n",
        "    print()"
      ],
      "id": "reserved-small",
      "execution_count": 537,
      "outputs": [
        {
          "output_type": "stream",
          "name": "stdout",
          "text": [
            "Green Beer Day (GBD) is a day-long party, where celebrants drink beer dyed green with artificial coloring or natural processes.\n",
            "-> Sense 1 (prob=0.99): a social event at which a group of people meet to talk, eat, drink, dance, etc.\n",
            "\n",
            "When the siblings grew up, they held parties and introduced the tradition to friends while in college, and the tradition began to spread.\n",
            "-> Sense 1 (prob=0.99): a social event at which a group of people meet to talk, eat, drink, dance, etc.\n",
            "\n",
            "Politicians from the two main parties tend to win elections when not confronted by strong challengers from their own party (in which cases their traditional opponents tend to win).\n",
            "-> Sense 2 (prob=1.00): an organization of people with particular political beliefs\n",
            "\n",
            "After the general election on 22 March 1992, five parties (Rassadorn, Justice Unity, Social Action, Thai Citizen, Chart Thai) designated Suchinda as the prime minister.\n",
            "-> Sense 2 (prob=1.00): an organization of people with particular political beliefs\n",
            "\n",
            "Typically, a party has the right to object in court to a line of questioning or at the introduction of a particular piece of evidence.\n",
            "-> Sense 3 (prob=0.99): a single entity which can be identified as one for the purposes of the law\n",
            "\n",
            "In the practice of law, judicial estoppel (also known as estoppel by inconsistent positions) is an estoppel that precludes a party from taking a position in a case that is contrary to a position it has taken in earlier legal proceedings.\n",
            "-> Sense 3 (prob=0.99): a single entity which can be identified as one for the purposes of the law\n",
            "\n"
          ]
        }
      ]
    },
    {
      "cell_type": "markdown",
      "metadata": {
        "id": "gothic-march"
      },
      "source": [
        "Yet again, the label might not be 100% correct, but it still should look reasonable."
      ],
      "id": "gothic-march"
    },
    {
      "cell_type": "markdown",
      "metadata": {
        "id": "armed-ottawa"
      },
      "source": [
        "## IV. Evaluation\n",
        "\n",
        "We have our model built! It's time to see how good it is on the testing dataset.  \n",
        "Get the predictions from the final model and examine the results.  "
      ],
      "id": "armed-ottawa"
    },
    {
      "cell_type": "code",
      "metadata": {
        "id": "exact-anthony"
      },
      "source": [
        "with open(os.path.join('data', 'party.test.txt'), 'r') as f:\n",
        "    data = f.read().strip().split('\\n')\n",
        "\n",
        "# this dict maps sentence_id to the sentence itself\n",
        "test_data = { sent_id: text for sent_id, text in [line.split('\\t', 1) \n",
        "                                                 for line in data] }"
      ],
      "id": "exact-anthony",
      "execution_count": 538,
      "outputs": []
    },
    {
      "cell_type": "code",
      "metadata": {
        "colab": {
          "base_uri": "https://localhost:8080/"
        },
        "id": "brief-credits",
        "outputId": "8af2c9a1-4e13-48e3-f73c-608535a75eb9"
      },
      "source": [
        "for idx, (sent_id, sentence) in enumerate(test_data.items()):\n",
        "    if idx > 3: break\n",
        "        \n",
        "    print(f'{sent_id}: {sentence}')"
      ],
      "id": "brief-credits",
      "execution_count": 539,
      "outputs": [
        {
          "output_type": "stream",
          "name": "stdout",
          "text": [
            "1638: Patent ambiguity is that ambiguity which is apparent on the face of an instrument to any one perusing it, even if unacquainted with the circumstances of the parties.\n",
            "1639: Smith played at parties, juke joints, and fish fries.\n",
            "1640: Turkey has a multi-party system, with two or three strong parties and often a fourth party that is electorally successful.\n",
            "1641: The Christian Liberation Movement ( or simply MCL) is a Cuban dissident party advocating political change in Cuba.\n"
          ]
        }
      ]
    },
    {
      "cell_type": "markdown",
      "metadata": {
        "id": "associate-gambling"
      },
      "source": [
        "<font color=\"red\">[TODO]</font> Get the labels of testing data.  \n",
        "\n",
        "Try to reserve the sentence id, because you will need it while requesting your accuracy.  \n",
        "Recommended format of `final_predictions` : \n",
        "```\n",
        "{ sent_id: sense_id }\n",
        "```"
      ],
      "id": "associate-gambling"
    },
    {
      "cell_type": "code",
      "metadata": {
        "colab": {
          "base_uri": "https://localhost:8080/"
        },
        "id": "extra-acquisition",
        "outputId": "b6c32914-a294-4d00-a6a7-49a04fdafd6f"
      },
      "source": [
        "final_predictions = {}\n",
        "\n",
        "# [TODO]\n",
        "\n",
        "test_X = process_text(test_data.values(), padding = PADDING_WIDTH)\n",
        "predictions = model_2.predict(test_X)\n",
        "\n",
        "for sent_id, prediction in zip(test_data.keys(), predictions):\n",
        "    predict_id = prediction.argmax()\n",
        "    final_predictions[sent_id] = np.asscalar(np.int16(predict_id + 1))"
      ],
      "id": "extra-acquisition",
      "execution_count": 540,
      "outputs": [
        {
          "output_type": "stream",
          "name": "stderr",
          "text": [
            "/usr/local/lib/python3.7/dist-packages/ipykernel_launcher.py:10: DeprecationWarning: np.asscalar(a) is deprecated since NumPy v1.16, use a.item() instead\n",
            "  # Remove the CWD from sys.path while we load stuff.\n"
          ]
        }
      ]
    },
    {
      "cell_type": "code",
      "metadata": {
        "colab": {
          "base_uri": "https://localhost:8080/"
        },
        "id": "painful-creation",
        "outputId": "453ee63f-6d72-45cb-ed06-a9e8671f59cf"
      },
      "source": [
        "for idx, (sent_id, pred) in enumerate(final_predictions.items()):\n",
        "    if idx > 5: break\n",
        "        \n",
        "    print(test_data[sent_id])\n",
        "    print(f'-> Sense {pred}: {SENSE[pred]}')\n",
        "    print()"
      ],
      "id": "painful-creation",
      "execution_count": 541,
      "outputs": [
        {
          "output_type": "stream",
          "name": "stdout",
          "text": [
            "Patent ambiguity is that ambiguity which is apparent on the face of an instrument to any one perusing it, even if unacquainted with the circumstances of the parties.\n",
            "-> Sense 3: a single entity which can be identified as one for the purposes of the law\n",
            "\n",
            "Smith played at parties, juke joints, and fish fries.\n",
            "-> Sense 1: a social event at which a group of people meet to talk, eat, drink, dance, etc.\n",
            "\n",
            "Turkey has a multi-party system, with two or three strong parties and often a fourth party that is electorally successful.\n",
            "-> Sense 2: an organization of people with particular political beliefs\n",
            "\n",
            "The Christian Liberation Movement ( or simply MCL) is a Cuban dissident party advocating political change in Cuba.\n",
            "-> Sense 1: a social event at which a group of people meet to talk, eat, drink, dance, etc.\n",
            "\n",
            "Greens Party () was a green liberal party in Turkey.\n",
            "-> Sense 2: an organization of people with particular political beliefs\n",
            "\n",
            "Under the Constitution of North Korea, all citizens 17 and older, regardless of party affiliation, political views, or religion, are eligible to be elected to the legislature and vote in elections.\n",
            "-> Sense 2: an organization of people with particular political beliefs\n",
            "\n"
          ]
        }
      ]
    },
    {
      "cell_type": "markdown",
      "metadata": {
        "id": "complicated-physics"
      },
      "source": [
        "### Get your accuracy\n",
        "\n",
        "Send your predictions in json format to our server, and we will calculate the accuracy for you.  \n",
        "The format should be \n",
        "```\n",
        "{ sentence_id: sense_id }\n",
        "```\n",
        "Example,\n",
        "```\n",
        "{\n",
        "    1001: 1,\n",
        "    1002: 1,\n",
        "    ...\n",
        "}\n",
        "```"
      ],
      "id": "complicated-physics"
    },
    {
      "cell_type": "code",
      "metadata": {
        "id": "sustainable-medicaid"
      },
      "source": [
        "import json\n",
        "import requests"
      ],
      "id": "sustainable-medicaid",
      "execution_count": 542,
      "outputs": []
    },
    {
      "cell_type": "code",
      "metadata": {
        "id": "shaped-battery"
      },
      "source": [
        "data = json.dumps(final_predictions)\n",
        "ret = requests.post('http://jedi.nlplab.cc:4500/check', \n",
        "                    json = { 'data': data }\n",
        "                   )"
      ],
      "id": "shaped-battery",
      "execution_count": 543,
      "outputs": []
    },
    {
      "cell_type": "code",
      "metadata": {
        "colab": {
          "base_uri": "https://localhost:8080/"
        },
        "id": "impossible-viking",
        "outputId": "38e9708f-4b83-4482-b8b1-661cfc8ac2c6"
      },
      "source": [
        "if not ret.ok:\n",
        "    print('Something wrong :o')\n",
        "print(ret.json())"
      ],
      "id": "impossible-viking",
      "execution_count": 544,
      "outputs": [
        {
          "output_type": "stream",
          "name": "stdout",
          "text": [
            "{'accuracy': 0.7857142857142857, 'comment': ['Well done!']}\n"
          ]
        }
      ]
    },
    {
      "cell_type": "markdown",
      "metadata": {
        "id": "narrative-acrobat"
      },
      "source": [
        "**REQUIREMENT**  \n",
        "**Your accuracy should be <u>higher than 0.70</u> to get the full points.**\n",
        "\n",
        "But do note that your assignment is mostly scored on your implementation, not just on the accuracy.  \n",
        "So even if you brute-forcely attack our server and get 100% accuracy, you still can't get your points if your code doesn't make sense to TA."
      ],
      "id": "narrative-acrobat"
    },
    {
      "cell_type": "markdown",
      "metadata": {
        "id": "vocational-thread"
      },
      "source": [
        "## TA's note\n",
        "\n",
        "Congratuation! You've finished the assignment this week.  \n",
        "Don't forget to <b>[make an appoiment with TA](https://docs.google.com/spreadsheets/d/1QGeYl5dsD9sFO9SYg4DIKk-xr-yGjRDOOLKZqCLDv2E/edit#gid=1902646609) to demo/explain your implementation <u>before <font color=\"red\">11/18 15:30</font></u></b> .  \n",
        "Also make sure you submit your {student_id}.ipynb to [eeclass](https://eeclass.nthu.edu.tw/course/homework/4615).\n",
        "\n",
        "Please note that <font color=\"red\">we will announce our final project on 11/18</font>. Again, **we strongly suggest you join and listen** .  \n",
        "We will have 2 Ph.D. students introduce the selected topics in class and give you some guidelines about how to approach your project.  \n",
        "Also, we will have a team-matching session at the end of the class, in which you may want to participate to find teammates."
      ],
      "id": "vocational-thread"
    }
  ]
}