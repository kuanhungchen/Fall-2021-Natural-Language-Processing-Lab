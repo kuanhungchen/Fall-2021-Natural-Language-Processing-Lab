{
  "nbformat": 4,
  "nbformat_minor": 0,
  "metadata": {
    "kernelspec": {
      "display_name": "Python 3",
      "language": "python",
      "name": "python3"
    },
    "language_info": {
      "codemirror_mode": {
        "name": "ipython",
        "version": 3
      },
      "file_extension": ".py",
      "mimetype": "text/x-python",
      "name": "python",
      "nbconvert_exporter": "python",
      "pygments_lexer": "ipython3",
      "version": "3.8.3"
    },
    "colab": {
      "name": "109061539.ipynb",
      "provenance": [],
      "collapsed_sections": []
    }
  },
  "cells": [
    {
      "cell_type": "markdown",
      "metadata": {
        "id": "fWVK0XhP_-X1"
      },
      "source": [
        "# Week 08: Phrase Classification\n",
        "The assignment this week needs you to distinguish between good and bad phrases of the word \"**earn**\" (e.g., earn money). The method, word2vector, learned today will be used in the process. \n",
        "\n",
        "There're some data for this assignment: \n",
        "* train.tsv: Some phrases with labels to train and validate the classification model. There are only two types of label: 1 means *good*; 0 means *bad*.\n",
        "* test.tsv: Same format as train.tsv. It's used to test your model.\n",
        "* GoogleNews-vectors-negative300.bin.gz: a pre-trained word2vector model trained by Google ([source](https://code.google.com/archive/p/word2vec/))"
      ]
    },
    {
      "cell_type": "code",
      "metadata": {
        "id": "NvzvVl1GDSCW",
        "colab": {
          "base_uri": "https://localhost:8080/"
        },
        "outputId": "038880b4-59ec-4331-b499-b3f0e8c25bde"
      },
      "source": [
        "\"\"\"mount Google Drive to Colab directory\n",
        "\"\"\"\n",
        "from google.colab import drive\n",
        "drive.mount('/content/drive')\n",
        "%cd /content/drive/MyDrive/Colab\\ Notebooks/week08/"
      ],
      "execution_count": 1,
      "outputs": [
        {
          "output_type": "stream",
          "name": "stdout",
          "text": [
            "Mounted at /content/drive\n",
            "/content/drive/MyDrive/Colab Notebooks/week08\n"
          ]
        }
      ]
    },
    {
      "cell_type": "markdown",
      "metadata": {
        "id": "OMDnQlha_-YC"
      },
      "source": [
        "## Requirement\n",
        "* pandas\n",
        "* tensorflow\n",
        "* sklearn"
      ]
    },
    {
      "cell_type": "markdown",
      "metadata": {
        "id": "0piN3LZC_-YC"
      },
      "source": [
        "## Read Data\n",
        "We use dataframe to store data here."
      ]
    },
    {
      "cell_type": "code",
      "metadata": {
        "id": "Y5ws_lfv_-YD",
        "colab": {
          "base_uri": "https://localhost:8080/"
        },
        "outputId": "99209dc3-e960-4e47-d67d-88589249adb7"
      },
      "source": [
        "import pandas as pd\n",
        "\n",
        "def loadData(path):\n",
        "    ngram = []\n",
        "    _class = []\n",
        "    with open(path) as f:\n",
        "        for line in f.readlines():\n",
        "            line = line.strip(\"\\n\").split(\"\\t\")\n",
        "            ngram.append(line[0])\n",
        "            _class.append(int(line[1]))\n",
        "    return pd.DataFrame({\"phrase\": ngram, \"class\": _class})\n",
        "train = loadData(\"train.tsv\")\n",
        "print(train.head())\n",
        "test = loadData(\"test.tsv\")\n",
        "print(test.head())"
      ],
      "execution_count": 20,
      "outputs": [
        {
          "output_type": "stream",
          "name": "stdout",
          "text": [
            "                         phrase  class\n",
            "0      earn a strong reputation      1\n",
            "1  Marty will surely earn every      0\n",
            "2             to earn between $      0\n",
            "3          to earn some college      0\n",
            "4        that earn rave reviews      0\n",
            "                   phrase  class\n",
            "0  degree earn 62 percent      0\n",
            "1     earn maybe 30 or 50      0\n",
            "2  earn the kind of money      1\n",
            "3      earn his 14th save      1\n",
            "4   earn a smaller amount      1\n"
          ]
        }
      ]
    },
    {
      "cell_type": "markdown",
      "metadata": {
        "id": "pEc89Ax9_-YF"
      },
      "source": [
        "## load word2vec model\n",
        "<font color=\"red\">**[ TODO ]**</font> Please load [GoogleNews-vectors-negative300.bin.gz](https://drive.google.com/file/d/0B7XkCwpI5KDYNlNUTTlSS21pQmM/edit?resourcekey=0-wjGZdNAUop6WykTtMip30g) model and check the embedding of the word `language`.\n",
        "\n",
        "* package `gensim` is a good choice"
      ]
    },
    {
      "cell_type": "code",
      "metadata": {
        "id": "EWze3a_H_-YG",
        "colab": {
          "base_uri": "https://localhost:8080/"
        },
        "outputId": "02455d98-5642-4e60-e37b-e971156209bc"
      },
      "source": [
        "import gensim.models.keyedvectors as word2vec\n",
        "\n",
        "#### print \"language\" embedding\n",
        "w2v_model = word2vec.KeyedVectors.load_word2vec_format('GoogleNews-vectors-negative300.bin', binary=True)\n",
        "\n",
        "prediction = w2v_model['language']\n",
        "print(prediction)"
      ],
      "execution_count": 17,
      "outputs": [
        {
          "output_type": "stream",
          "name": "stdout",
          "text": [
            "[ 2.30712891e-02  1.68457031e-02  1.54296875e-01  1.27929688e-01\n",
            " -2.67578125e-01  3.51562500e-02  1.19140625e-01  2.48046875e-01\n",
            "  1.93359375e-01 -7.95898438e-02  1.46484375e-01 -1.43554688e-01\n",
            " -3.04687500e-01  3.46679688e-02 -1.85546875e-02  1.06933594e-01\n",
            " -1.52343750e-01  2.89062500e-01  2.35595703e-02 -3.80859375e-01\n",
            "  1.09863281e-01  4.41406250e-01  3.75976562e-02 -1.22680664e-02\n",
            "  1.62353516e-02 -2.24609375e-01  7.61718750e-02 -3.12500000e-02\n",
            " -2.16064453e-02  1.49414062e-01 -4.02832031e-02 -4.46777344e-02\n",
            " -1.72851562e-01  3.32031250e-02  1.50390625e-01 -5.05371094e-02\n",
            "  2.72216797e-02  3.00781250e-01 -1.33789062e-01 -7.56835938e-02\n",
            "  1.93359375e-01 -1.98242188e-01 -1.27563477e-02  4.19921875e-01\n",
            " -2.19726562e-01  1.44531250e-01 -3.93066406e-02  1.94335938e-01\n",
            " -3.12500000e-01  1.84570312e-01  1.48773193e-04 -1.67968750e-01\n",
            " -7.37304688e-02 -3.12500000e-02  1.57226562e-01  3.30078125e-01\n",
            " -1.42578125e-01 -3.16406250e-01 -7.32421875e-02 -5.76171875e-02\n",
            "  1.02050781e-01 -1.08886719e-01  1.24023438e-01 -2.50244141e-02\n",
            " -2.49023438e-01  1.25976562e-01 -1.79687500e-01  3.32031250e-01\n",
            "  7.14111328e-03  2.51953125e-01  4.34570312e-02 -4.34570312e-02\n",
            " -3.90625000e-01  1.76757812e-01 -1.13525391e-02 -1.97753906e-02\n",
            "  2.79296875e-01  2.36328125e-01  1.19140625e-01  5.59082031e-02\n",
            "  1.73828125e-01 -1.10839844e-01 -4.95605469e-02  2.13867188e-01\n",
            "  6.17675781e-02  1.38671875e-01 -4.45556641e-03  2.55859375e-01\n",
            "  1.80664062e-01  5.88378906e-02 -6.59179688e-02 -2.08007812e-01\n",
            " -1.19140625e-01 -1.57226562e-01  5.02929688e-02 -6.29882812e-02\n",
            "  5.00488281e-02 -7.27539062e-02  1.74560547e-02 -3.56445312e-02\n",
            " -1.93359375e-01  3.93066406e-02 -3.36914062e-02 -1.07421875e-01\n",
            "  5.78613281e-02 -8.20312500e-02  1.74560547e-02 -1.65039062e-01\n",
            "  1.46484375e-01 -3.08837891e-02 -3.86718750e-01  2.49023438e-01\n",
            "  8.74023438e-02 -2.15820312e-01 -4.10156250e-02  1.60156250e-01\n",
            "  1.85546875e-01 -2.27050781e-02 -3.73535156e-02  7.86132812e-02\n",
            " -1.46484375e-01  6.78710938e-02  1.26953125e-01  3.30078125e-01\n",
            "  1.11328125e-01  9.27734375e-02 -3.45703125e-01 -1.41601562e-01\n",
            " -5.29785156e-02 -1.50390625e-01 -7.81250000e-02 -1.27929688e-01\n",
            " -4.02343750e-01 -1.41601562e-01  8.44726562e-02  1.08398438e-01\n",
            " -4.44335938e-02  3.73535156e-02  5.61523438e-02 -1.91406250e-01\n",
            "  1.54296875e-01 -5.12695312e-02 -6.49414062e-02 -8.30078125e-02\n",
            "  7.17773438e-02 -1.33789062e-01  1.05468750e-01  3.33984375e-01\n",
            " -1.08398438e-01  1.91650391e-02  2.14843750e-01  2.15820312e-01\n",
            " -1.05468750e-01 -1.44531250e-01  4.32128906e-02 -2.71484375e-01\n",
            " -3.78906250e-01  1.09863281e-01 -8.15429688e-02 -6.12792969e-02\n",
            " -1.33789062e-01  9.71679688e-02 -1.04370117e-02 -1.21093750e-01\n",
            " -2.44140625e-01  1.02050781e-01  1.10839844e-01 -1.00585938e-01\n",
            "  1.71875000e-01 -3.61328125e-02 -4.39453125e-02  2.83203125e-01\n",
            " -8.93554688e-02 -1.70898438e-01  2.46093750e-01  1.16699219e-01\n",
            "  8.39843750e-02 -1.32812500e-01 -1.61132812e-01 -1.39648438e-01\n",
            " -8.59375000e-02 -1.37695312e-01 -9.32617188e-02 -1.33789062e-01\n",
            "  1.65039062e-01  4.93164062e-02 -1.21093750e-01 -2.11914062e-01\n",
            "  1.61132812e-01 -1.07421875e-01 -3.97949219e-02 -3.51562500e-01\n",
            " -5.02929688e-02  1.46484375e-01 -4.68750000e-02  4.17480469e-02\n",
            " -1.27929688e-01 -9.76562500e-02 -2.46093750e-01  6.78710938e-02\n",
            " -2.30468750e-01  1.80664062e-02  3.54003906e-02  7.32421875e-02\n",
            " -2.23632812e-01 -1.25976562e-01  2.12890625e-01 -3.93066406e-02\n",
            " -2.41699219e-02 -9.61914062e-02  7.51953125e-02 -1.46484375e-01\n",
            " -1.49414062e-01 -8.83789062e-02 -4.88281250e-02  2.32421875e-01\n",
            "  3.30078125e-01  1.59179688e-01 -2.35351562e-01 -1.25976562e-01\n",
            "  2.68554688e-02 -5.29785156e-02 -6.59179688e-02 -2.17773438e-01\n",
            " -6.37817383e-03 -2.53906250e-01  2.28515625e-01  4.93164062e-02\n",
            "  3.54003906e-02  1.66992188e-01 -7.27539062e-02 -2.53906250e-01\n",
            " -1.34765625e-01  3.69140625e-01  1.83593750e-01 -1.64062500e-01\n",
            "  2.26562500e-01 -8.88671875e-02  3.69140625e-01  5.54199219e-02\n",
            " -3.63769531e-02 -1.48437500e-01  9.13085938e-02  2.47955322e-04\n",
            "  2.67578125e-01 -1.63085938e-01  1.19628906e-01  2.77343750e-01\n",
            " -1.49414062e-01  1.33789062e-01 -8.25195312e-02 -1.74804688e-01\n",
            " -1.77734375e-01  2.06054688e-01  5.07812500e-02 -2.08007812e-01\n",
            " -1.74804688e-01  9.66796875e-02  6.98242188e-02 -5.79833984e-04\n",
            "  9.22851562e-02  7.95898438e-02  1.41601562e-01  8.72802734e-03\n",
            " -8.05664062e-02  4.80957031e-02  2.49023438e-01 -1.64062500e-01\n",
            " -4.66308594e-02 -2.81250000e-01 -1.66015625e-01 -2.22656250e-01\n",
            " -2.32421875e-01  1.32812500e-01  4.15039062e-02  1.15234375e-01\n",
            " -7.66601562e-02 -1.10839844e-01 -1.97265625e-01  3.06396484e-02\n",
            " -1.03515625e-01  2.49023438e-02 -2.52685547e-02  3.39355469e-02\n",
            "  4.29687500e-02 -1.44531250e-01  2.12402344e-02  2.28271484e-02\n",
            " -1.88476562e-01  3.22265625e-01 -1.13281250e-01 -7.61718750e-02\n",
            "  2.94921875e-01 -1.33789062e-01 -1.80664062e-02 -6.25610352e-03\n",
            " -1.62353516e-02  5.98144531e-02  1.21582031e-01  4.17480469e-02]\n"
          ]
        }
      ]
    },
    {
      "cell_type": "markdown",
      "metadata": {
        "id": "ce66sdOk_-YG"
      },
      "source": [
        "<font color=\"green\">Expected output: </font>\n",
        "\n",
        ">  <font face='monospace' size=3>\\[&nbsp;2.30712891e-02&nbsp;&nbsp;1.68457031e-02&nbsp;&nbsp;1.54296875e-01&nbsp; 1.27929688e-01<br> </font>\n",
        ">  <font face='monospace' size=3>&nbsp;-2.67578125e-01&nbsp;&nbsp;3.51562500e-02&nbsp;&nbsp;1.19140625e-01&nbsp; 2.48046875e-01<br> </font>\n",
        ">  <font face='monospace' size=3>&nbsp;&nbsp;1.93359375e-01&nbsp;-7.95898438e-02&nbsp;&nbsp;1.46484375e-01&nbsp;-1.43554688e-01<br> </font>\n",
        ">  <font face='monospace' size=3>&nbsp;-3.04687500e-01&nbsp;&nbsp;3.46679688e-02&nbsp;-1.85546875e-02&nbsp; 1.06933594e-01<br> </font>\n",
        ">  <font face='monospace' size=3>&nbsp;-1.52343750e-01&nbsp;&nbsp;2.89062500e-01&nbsp;&nbsp;2.35595703e-02&nbsp;-3.80859375e-01<br> </font>\n",
        ">  <font face='monospace' size=3>&nbsp;&nbsp;1.09863281e-01&nbsp;&nbsp;4.41406250e-01&nbsp;&nbsp;3.75976562e-02&nbsp;-1.22680664e-02<br> </font>\n",
        ">  <font face='monospace' size=3>&nbsp;&nbsp;1.62353516e-02&nbsp;-2.24609375e-01&nbsp;&nbsp;7.61718750e-02&nbsp;-3.12500000e-02<br> </font>\n",
        ">  <font face='monospace' size=3>&nbsp;-2.16064453e-02&nbsp;&nbsp;1.49414062e-01&nbsp;-4.02832031e-02&nbsp;-4.46777344e-02<br> </font>\n",
        ">  <font face='monospace' size=3>&nbsp;-1.72851562e-01&nbsp;&nbsp;3.32031250e-02&nbsp;&nbsp;1.50390625e-01&nbsp;-5.05371094e-02<br> </font>\n",
        ">  <font face='monospace' size=3>&nbsp;&nbsp;2.72216797e-02&nbsp;&nbsp;3.00781250e-01&nbsp;-1.33789062e-01&nbsp;-7.56835938e-02<br> </font>\n",
        ">  <font face='monospace' size=3>&nbsp;&nbsp;1.93359375e-01&nbsp;-1.98242188e-01&nbsp;-1.27563477e-02&nbsp; 4.19921875e-01<br> </font>\n",
        ">  <font face='monospace' size=3>&nbsp;-2.19726562e-01&nbsp;&nbsp;1.44531250e-01&nbsp;-3.93066406e-02&nbsp; 1.94335938e-01<br> </font>\n",
        ">  <font face='monospace' size=3>&nbsp;-3.12500000e-01&nbsp;&nbsp;1.84570312e-01&nbsp;&nbsp;1.48773193e-04&nbsp;-1.67968750e-01<br> </font>\n",
        ">  <font face='monospace' size=3>&nbsp;-7.37304688e-02&nbsp;-3.12500000e-02&nbsp;&nbsp;1.57226562e-01&nbsp; 3.30078125e-01<br> </font>\n",
        ">  <font face='monospace' size=3>&nbsp;-1.42578125e-01&nbsp;-3.16406250e-01&nbsp;-7.32421875e-02&nbsp;-5.76171875e-02<br> </font>\n",
        ">  <font face='monospace' size=3>&nbsp;&nbsp;1.02050781e-01&nbsp;-1.08886719e-01&nbsp;&nbsp;1.24023438e-01&nbsp;-2.50244141e-02<br> </font>\n",
        ">  <font face='monospace' size=3>&nbsp;-2.49023438e-01&nbsp;&nbsp;1.25976562e-01&nbsp;-1.79687500e-01&nbsp; 3.32031250e-01<br> </font>\n",
        ">  <font face='monospace' size=3>&nbsp;&nbsp;7.14111328e-03&nbsp;&nbsp;2.51953125e-01&nbsp;&nbsp;4.34570312e-02&nbsp;-4.34570312e-02<br> </font>\n",
        ">  <font face='monospace' size=3>&nbsp;-3.90625000e-01&nbsp;&nbsp;1.76757812e-01&nbsp;-1.13525391e-02&nbsp;-1.97753906e-02<br> </font>\n",
        ">  <font face='monospace' size=3>&nbsp;&nbsp;2.79296875e-01&nbsp;&nbsp;2.36328125e-01&nbsp;&nbsp;1.19140625e-01&nbsp; 5.59082031e-02<br> </font>\n",
        ">  <font face='monospace' size=3>&nbsp;&nbsp;1.73828125e-01&nbsp;-1.10839844e-01&nbsp;-4.95605469e-02&nbsp; 2.13867188e-01<br> </font>\n",
        ">  <font face='monospace' size=3>&nbsp;&nbsp;6.17675781e-02&nbsp;&nbsp;1.38671875e-01&nbsp;-4.45556641e-03&nbsp; 2.55859375e-01<br> </font>\n",
        ">  <font face='monospace' size=3>&nbsp;&nbsp;1.80664062e-01&nbsp;&nbsp;5.88378906e-02&nbsp;-6.59179688e-02&nbsp;-2.08007812e-01<br> </font>\n",
        ">  <font face='monospace' size=3>&nbsp;-1.19140625e-01&nbsp;-1.57226562e-01&nbsp;&nbsp;5.02929688e-02&nbsp;-6.29882812e-02<br> </font>\n",
        ">  <font face='monospace' size=3>&nbsp;&nbsp;5.00488281e-02&nbsp;-7.27539062e-02&nbsp;&nbsp;1.74560547e-02&nbsp;-3.56445312e-02<br> </font>\n",
        ">  <font face='monospace' size=3>&nbsp;-1.93359375e-01&nbsp;&nbsp;3.93066406e-02&nbsp;-3.36914062e-02&nbsp;-1.07421875e-01<br> </font>\n",
        ">  <font face='monospace' size=3>&nbsp;&nbsp;5.78613281e-02&nbsp;-8.20312500e-02&nbsp;&nbsp;1.74560547e-02&nbsp;-1.65039062e-01<br> </font>\n",
        ">  <font face='monospace' size=3>&nbsp;&nbsp;1.46484375e-01&nbsp;-3.08837891e-02&nbsp;-3.86718750e-01&nbsp; 2.49023438e-01<br> </font>\n",
        ">  <font face='monospace' size=3>&nbsp;&nbsp;8.74023438e-02&nbsp;-2.15820312e-01&nbsp;-4.10156250e-02&nbsp; 1.60156250e-01<br> </font>\n",
        ">  <font face='monospace' size=3>&nbsp;&nbsp;1.85546875e-01&nbsp;-2.27050781e-02&nbsp;-3.73535156e-02&nbsp; 7.86132812e-02<br> </font>\n",
        ">  <font face='monospace' size=3>&nbsp;-1.46484375e-01&nbsp;&nbsp;6.78710938e-02&nbsp;&nbsp;1.26953125e-01&nbsp; 3.30078125e-01<br> </font>\n",
        ">  <font face='monospace' size=3>&nbsp;&nbsp;1.11328125e-01&nbsp;&nbsp;9.27734375e-02&nbsp;-3.45703125e-01&nbsp;-1.41601562e-01<br> </font>\n",
        ">  <font face='monospace' size=3>&nbsp;-5.29785156e-02&nbsp;-1.50390625e-01&nbsp;-7.81250000e-02&nbsp;-1.27929688e-01<br> </font>\n",
        ">  <font face='monospace' size=3>&nbsp;-4.02343750e-01&nbsp;-1.41601562e-01&nbsp;&nbsp;8.44726562e-02&nbsp; 1.08398438e-01<br> </font>\n",
        ">  <font face='monospace' size=3>&nbsp;-4.44335938e-02&nbsp;&nbsp;3.73535156e-02&nbsp;&nbsp;5.61523438e-02&nbsp;-1.91406250e-01<br> </font>\n",
        ">  <font face='monospace' size=3>&nbsp;&nbsp;1.54296875e-01&nbsp;-5.12695312e-02&nbsp;-6.49414062e-02&nbsp;-8.30078125e-02<br> </font>\n",
        ">  <font face='monospace' size=3>&nbsp;&nbsp;7.17773438e-02&nbsp;-1.33789062e-01&nbsp;&nbsp;1.05468750e-01&nbsp; 3.33984375e-01<br> </font>\n",
        ">  <font face='monospace' size=3>&nbsp;-1.08398438e-01&nbsp;&nbsp;1.91650391e-02&nbsp;&nbsp;2.14843750e-01&nbsp; 2.15820312e-01<br> </font>\n",
        ">  <font face='monospace' size=3>&nbsp;-1.05468750e-01&nbsp;-1.44531250e-01&nbsp;&nbsp;4.32128906e-02&nbsp;-2.71484375e-01<br> </font>\n",
        ">  <font face='monospace' size=3>&nbsp;-3.78906250e-01&nbsp;&nbsp;1.09863281e-01&nbsp;-8.15429688e-02&nbsp;-6.12792969e-02<br> </font>\n",
        ">  <font face='monospace' size=3>&nbsp;-1.33789062e-01&nbsp;&nbsp;9.71679688e-02&nbsp;-1.04370117e-02&nbsp;-1.21093750e-01<br> </font>\n",
        ">  <font face='monospace' size=3>&nbsp;-2.44140625e-01&nbsp;&nbsp;1.02050781e-01&nbsp;&nbsp;1.10839844e-01&nbsp;-1.00585938e-01<br> </font>\n",
        ">  <font face='monospace' size=3>&nbsp;&nbsp;1.71875000e-01&nbsp;-3.61328125e-02&nbsp;-4.39453125e-02&nbsp; 2.83203125e-01<br> </font>\n",
        ">  <font face='monospace' size=3>&nbsp;-8.93554688e-02&nbsp;-1.70898438e-01&nbsp;&nbsp;2.46093750e-01&nbsp; 1.16699219e-01<br> </font>\n",
        ">  <font face='monospace' size=3>&nbsp;&nbsp;8.39843750e-02&nbsp;-1.32812500e-01&nbsp;-1.61132812e-01&nbsp;-1.39648438e-01<br> </font>\n",
        ">  <font face='monospace' size=3>&nbsp;-8.59375000e-02&nbsp;-1.37695312e-01&nbsp;-9.32617188e-02&nbsp;-1.33789062e-01<br> </font>\n",
        ">  <font face='monospace' size=3>&nbsp;&nbsp;1.65039062e-01&nbsp;&nbsp;4.93164062e-02&nbsp;-1.21093750e-01&nbsp;-2.11914062e-01<br> </font>\n",
        ">  <font face='monospace' size=3>&nbsp;&nbsp;1.61132812e-01&nbsp;-1.07421875e-01&nbsp;-3.97949219e-02&nbsp;-3.51562500e-01<br> </font>\n",
        ">  <font face='monospace' size=3>&nbsp;-5.02929688e-02&nbsp;&nbsp;1.46484375e-01&nbsp;-4.68750000e-02&nbsp; 4.17480469e-02<br> </font>\n",
        ">  <font face='monospace' size=3>&nbsp;-1.27929688e-01&nbsp;-9.76562500e-02&nbsp;-2.46093750e-01&nbsp; 6.78710938e-02<br> </font>\n",
        ">  <font face='monospace' size=3>&nbsp;-2.30468750e-01&nbsp;&nbsp;1.80664062e-02&nbsp;&nbsp;3.54003906e-02&nbsp; 7.32421875e-02<br> </font>\n",
        ">  <font face='monospace' size=3>&nbsp;-2.23632812e-01&nbsp;-1.25976562e-01&nbsp;&nbsp;2.12890625e-01&nbsp;-3.93066406e-02<br> </font>\n",
        ">  <font face='monospace' size=3>&nbsp;-2.41699219e-02&nbsp;-9.61914062e-02&nbsp;&nbsp;7.51953125e-02&nbsp;-1.46484375e-01<br> </font>\n",
        ">  <font face='monospace' size=3>&nbsp;-1.49414062e-01&nbsp;-8.83789062e-02&nbsp;-4.88281250e-02&nbsp; 2.32421875e-01<br> </font>\n",
        ">  <font face='monospace' size=3>&nbsp;&nbsp;3.30078125e-01&nbsp;&nbsp;1.59179688e-01&nbsp;-2.35351562e-01&nbsp;-1.25976562e-01<br> </font>\n",
        ">  <font face='monospace' size=3>&nbsp;&nbsp;2.68554688e-02&nbsp;-5.29785156e-02&nbsp;-6.59179688e-02&nbsp;-2.17773438e-01<br> </font>\n",
        ">  <font face='monospace' size=3>&nbsp;-6.37817383e-03&nbsp;-2.53906250e-01&nbsp;&nbsp;2.28515625e-01&nbsp; 4.93164062e-02<br> </font>\n",
        ">  <font face='monospace' size=3>&nbsp;&nbsp;3.54003906e-02&nbsp;&nbsp;1.66992188e-01&nbsp;-7.27539062e-02&nbsp;-2.53906250e-01<br> </font>\n",
        ">  <font face='monospace' size=3>&nbsp;-1.34765625e-01&nbsp;&nbsp;3.69140625e-01&nbsp;&nbsp;1.83593750e-01&nbsp;-1.64062500e-01<br> </font>\n",
        ">  <font face='monospace' size=3>&nbsp;&nbsp;2.26562500e-01&nbsp;-8.88671875e-02&nbsp;&nbsp;3.69140625e-01&nbsp; 5.54199219e-02<br> </font>\n",
        ">  <font face='monospace' size=3>&nbsp;-3.63769531e-02&nbsp;-1.48437500e-01&nbsp;&nbsp;9.13085938e-02&nbsp; 2.47955322e-04<br> </font>\n",
        ">  <font face='monospace' size=3>&nbsp;&nbsp;2.67578125e-01&nbsp;-1.63085938e-01&nbsp;&nbsp;1.19628906e-01&nbsp; 2.77343750e-01<br> </font>\n",
        ">  <font face='monospace' size=3>&nbsp;-1.49414062e-01&nbsp;&nbsp;1.33789062e-01&nbsp;-8.25195312e-02&nbsp;-1.74804688e-01<br> </font>\n",
        ">  <font face='monospace' size=3>&nbsp;-1.77734375e-01&nbsp;&nbsp;2.06054688e-01&nbsp;&nbsp;5.07812500e-02&nbsp;-2.08007812e-01<br> </font>\n",
        ">  <font face='monospace' size=3>&nbsp;-1.74804688e-01&nbsp;&nbsp;9.66796875e-02&nbsp;&nbsp;6.98242188e-02&nbsp;-5.79833984e-04<br> </font>\n",
        ">  <font face='monospace' size=3>&nbsp;&nbsp;9.22851562e-02&nbsp;&nbsp;7.95898438e-02&nbsp;&nbsp;1.41601562e-01&nbsp; 8.72802734e-03<br> </font>\n",
        ">  <font face='monospace' size=3>&nbsp;-8.05664062e-02&nbsp;&nbsp;4.80957031e-02&nbsp;&nbsp;2.49023438e-01&nbsp;-1.64062500e-01<br> </font>\n",
        ">  <font face='monospace' size=3>&nbsp;-4.66308594e-02&nbsp;-2.81250000e-01&nbsp;-1.66015625e-01&nbsp;-2.22656250e-01<br> </font>\n",
        ">  <font face='monospace' size=3>&nbsp;-2.32421875e-01&nbsp;&nbsp;1.32812500e-01&nbsp;&nbsp;4.15039062e-02&nbsp; 1.15234375e-01<br> </font>\n",
        ">  <font face='monospace' size=3>&nbsp;-7.66601562e-02&nbsp;-1.10839844e-01&nbsp;-1.97265625e-01&nbsp; 3.06396484e-02<br> </font>\n",
        ">  <font face='monospace' size=3>&nbsp;-1.03515625e-01&nbsp;&nbsp;2.49023438e-02&nbsp;-2.52685547e-02&nbsp; 3.39355469e-02<br> </font>\n",
        ">  <font face='monospace' size=3>&nbsp;&nbsp;4.29687500e-02&nbsp;-1.44531250e-01&nbsp;&nbsp;2.12402344e-02&nbsp; 2.28271484e-02<br> </font>\n",
        ">  <font face='monospace' size=3>&nbsp;-1.88476562e-01&nbsp;&nbsp;3.22265625e-01&nbsp;-1.13281250e-01&nbsp;-7.61718750e-02<br> </font>\n",
        ">  <font face='monospace' size=3>&nbsp;&nbsp;2.94921875e-01&nbsp;-1.33789062e-01&nbsp;-1.80664062e-02&nbsp;-6.25610352e-03<br> </font>\n",
        ">  <font face='monospace' size=3>&nbsp;-1.62353516e-02&nbsp;&nbsp;5.98144531e-02&nbsp;&nbsp;1.21582031e-01&nbsp; 4.17480469e-02\\] </font>"
      ]
    },
    {
      "cell_type": "markdown",
      "metadata": {
        "id": "8bVd6EXi_-YN"
      },
      "source": [
        "## Preprocessing\n",
        "Preprocess two tsv files here."
      ]
    },
    {
      "cell_type": "markdown",
      "metadata": {
        "id": "ZZOuybhh_-YO"
      },
      "source": [
        "#### adjust the ratio of the two classes of training data\n",
        "In training data, the ratio of good phrases to bad phrases is about one to thirty. That will make training classification unsatisfactory, so we need to adjust the ratio. Reducing bad phrases and adding good phrases are both common way.\n",
        "\n",
        "<font color=\"red\">**[ TODO ]**</font> Please adjust the ratio of good phrases to bad phrases in any way which you think is the best and output the number of two class for demo.\n",
        "\n",
        "You need to explain why you choose this ratio and how you do it."
      ]
    },
    {
      "cell_type": "code",
      "metadata": {
        "id": "bvF6dVMC_-YO",
        "colab": {
          "base_uri": "https://localhost:8080/"
        },
        "outputId": "0d92fcf0-182e-4a3c-f019-711c8029b3a5"
      },
      "source": [
        "from random import randint\n",
        "\n",
        "def loadImbalancedData(path):\n",
        "    good_ngrams = []\n",
        "    bad_ngrams = []\n",
        "    with open(path) as f:\n",
        "        for line in f.readlines():\n",
        "            line = line.strip(\"\\n\").split(\"\\t\")\n",
        "            cls = int(line[1])\n",
        "            if cls == 0:\n",
        "                bad_ngrams.append(line[0])\n",
        "            else:\n",
        "                good_ngrams.append(line[0])\n",
        "    \n",
        "    num_good_ngrams = len(good_ngrams)\n",
        "    num_bad_ngrams = len(bad_ngrams)\n",
        "    \n",
        "    # random select N samples from both good and bad phrases\n",
        "    N = 200000\n",
        "    ngram, _class = [], []\n",
        "    for _ in range(N):\n",
        "        ngram.append(good_ngrams[randint(0, num_good_ngrams - 1)])\n",
        "        _class.append(1)\n",
        "        ngram.append(bad_ngrams[randint(0, num_bad_ngrams - 1)])\n",
        "        _class.append(0)\n",
        "\n",
        "    return pd.DataFrame({\"phrase\": ngram, \"class\": _class})\n",
        "\n",
        "#### print the number of training data of two classes\n",
        "\n",
        "train = loadImbalancedData('train.tsv')\n",
        "num_good = num_bad = 0\n",
        "for cls in train['class']:\n",
        "    num_good += (cls == 1)\n",
        "    num_bad += (cls == 0)\n",
        "\n",
        "print(\"Number of good phrases: {}\".format(num_good))\n",
        "print(\"Number of bad phrases: {}\".format(num_bad))"
      ],
      "execution_count": 4,
      "outputs": [
        {
          "output_type": "stream",
          "name": "stdout",
          "text": [
            "Number of good phrases: 200000\n",
            "Number of bad phrases: 200000\n"
          ]
        }
      ]
    },
    {
      "cell_type": "code",
      "metadata": {
        "id": "Q0HH2OPXWiVd",
        "colab": {
          "base_uri": "https://localhost:8080/"
        },
        "outputId": "7b2124c3-fe8d-41c8-fd41-9724deb5c995"
      },
      "source": [
        "print(train['phrase'][:20])"
      ],
      "execution_count": 16,
      "outputs": [
        {
          "output_type": "stream",
          "name": "stdout",
          "text": [
            "0                earn a karma point\n",
            "1               may earn a minor in\n",
            "2            earn a starting salary\n",
            "3           share earn money online\n",
            "4               earn series victory\n",
            "5           daytime only To earn up\n",
            "6     earn the full contract amount\n",
            "7                         earn DRII\n",
            "8                   earn a low wage\n",
            "9               to earn a spot into\n",
            "10        earn a subsistence living\n",
            "11                     earn money u\n",
            "12           earn a wild card berth\n",
            "13              earn his way in the\n",
            "14         earn some college credit\n",
            "15             that women earn less\n",
            "16               earn a living more\n",
            "17          earn Player of the Year\n",
            "18               earn pots of money\n",
            "19                   they earn Gold\n",
            "Name: phrase, dtype: object\n"
          ]
        }
      ]
    },
    {
      "cell_type": "markdown",
      "metadata": {
        "id": "XlavQZEJ_-YO"
      },
      "source": [
        "#### number words\n",
        "Let each word have its unique number."
      ]
    },
    {
      "cell_type": "code",
      "metadata": {
        "id": "kKfk3CtL_-YP"
      },
      "source": [
        "from tensorflow.keras.preprocessing.text import Tokenizer\n",
        "tok = Tokenizer()\n",
        "tok.fit_on_texts(pd.concat([train, test], ignore_index=True)['phrase'])\n",
        "vocab_size = len(tok.word_index) + 1"
      ],
      "execution_count": 5,
      "outputs": []
    },
    {
      "cell_type": "markdown",
      "metadata": {
        "id": "C5KNG5pv_-YP"
      },
      "source": [
        "#### convert phrases into numbers\n",
        "Because model can't read words, so we have to do this transform. \n",
        "\n",
        "The number should be same as the last step."
      ]
    },
    {
      "cell_type": "code",
      "metadata": {
        "id": "THlRir5C_-YP"
      },
      "source": [
        "train_encoded_phrase = tok.texts_to_sequences(train['phrase'])\n",
        "test_encoded_phrase = tok.texts_to_sequences(test['phrase'])"
      ],
      "execution_count": 6,
      "outputs": []
    },
    {
      "cell_type": "markdown",
      "metadata": {
        "id": "qm5OtHSG_-YP"
      },
      "source": [
        "#### padding\n",
        "Make all phrases become same length. The longest phrases in two tsv have five tokens. Hence, we should make the phrases whose lengths less than five become five by adding 0. "
      ]
    },
    {
      "cell_type": "code",
      "metadata": {
        "id": "pSqqHZOn_-YQ",
        "colab": {
          "base_uri": "https://localhost:8080/"
        },
        "outputId": "5521c8d6-57a1-4940-c265-fec57ff77a34"
      },
      "source": [
        "from tensorflow.keras.preprocessing.sequence import pad_sequences\n",
        "max_ngram = 5\n",
        "X_train = pad_sequences(train_encoded_phrase, maxlen=max_ngram, padding='post')\n",
        "X_test = pad_sequences(test_encoded_phrase, maxlen=max_ngram, padding='post')\n",
        "print(X_train[:5])"
      ],
      "execution_count": 7,
      "outputs": [
        {
          "output_type": "stream",
          "name": "stdout",
          "text": [
            "[[   1    3 1076   75    0]\n",
            " [  63    1    3  758   26]\n",
            " [   1    3  384   60    0]\n",
            " [ 418    1    4   86    0]\n",
            " [   1 1021   96    0    0]]\n"
          ]
        }
      ]
    },
    {
      "cell_type": "markdown",
      "metadata": {
        "id": "8u7fEaS6_-YQ"
      },
      "source": [
        "#### one hot encodding label"
      ]
    },
    {
      "cell_type": "code",
      "metadata": {
        "id": "rkY40Vwb_-YQ",
        "colab": {
          "base_uri": "https://localhost:8080/"
        },
        "outputId": "7be7eb97-97b9-435a-8de3-aa42b31bfb36"
      },
      "source": [
        "from tensorflow.keras.utils import to_categorical\n",
        "y_train = to_categorical(train['class'])\n",
        "y_test = to_categorical(test['class'])\n",
        "print(y_train[:5])"
      ],
      "execution_count": 8,
      "outputs": [
        {
          "output_type": "stream",
          "name": "stdout",
          "text": [
            "[[0. 1.]\n",
            " [1. 0.]\n",
            " [0. 1.]\n",
            " [1. 0.]\n",
            " [0. 1.]]\n"
          ]
        }
      ]
    },
    {
      "cell_type": "markdown",
      "metadata": {
        "id": "TIEQJkLS_-YR"
      },
      "source": [
        "\n",
        "#### split training data into train and validation"
      ]
    },
    {
      "cell_type": "code",
      "metadata": {
        "id": "8GX92EFe_-YR"
      },
      "source": [
        "from sklearn.model_selection import train_test_split\n",
        "\n",
        "X_train, X_val, y_train, y_val = train_test_split(X_train, y_train, test_size=0.20, random_state=42)"
      ],
      "execution_count": 9,
      "outputs": []
    },
    {
      "cell_type": "markdown",
      "metadata": {
        "id": "9OSO6uAV_-YS"
      },
      "source": [
        "#### creating the embedding matrix\n",
        "The embedding matrix is used by classification model. It should be a list of list. Each sub-list is an embedding vector of a word and the order of all embedding vectors should be same as *tokenizer*. It is stored in a dictionary. You can check it by `tok.word_index.items()`.\n",
        "\n",
        "<font color=\"red\">**[ TODO ]**</font> Make embedding matrix. If you don't need it for your classification model, you can skip it. We won't check it when demo. "
      ]
    },
    {
      "cell_type": "code",
      "metadata": {
        "id": "C_xTa4Rp_-YS"
      },
      "source": [
        "import numpy as np\n",
        "\n",
        "embedding_matrix = [[] for _ in range(vocab_size)]\n",
        "embedding_matrix[0] = [0 for _ in range(300)]\n",
        "for (word, idx) in tok.word_index.items():\n",
        "    emb = w2v_model[word] if word in w2v_model else [0 for _ in range(300)]\n",
        "    embedding_matrix[idx] = emb\n",
        "\n",
        "embedding_matrix = np.asarray(embedding_matrix)"
      ],
      "execution_count": 10,
      "outputs": []
    },
    {
      "cell_type": "markdown",
      "metadata": {
        "id": "SToKIYbY_-YS"
      },
      "source": [
        "## Classification"
      ]
    },
    {
      "cell_type": "markdown",
      "metadata": {
        "id": "EQY0zFEu_-YS"
      },
      "source": [
        "#### build model\n",
        "<font color=\"red\">**[ TODO ]**</font> Please build your classification model by ***keras*** here. \n",
        "\n",
        "You **must** use the pre-trained word2vec model to represent the words of phrases."
      ]
    },
    {
      "cell_type": "code",
      "metadata": {
        "id": "D-K1soCx_-YS"
      },
      "source": [
        "from tensorflow import keras\n",
        "from tensorflow.keras import layers\n",
        "\n",
        "inputs = keras.Input(shape=(5,), dtype=\"int32\")\n",
        "x = layers.Embedding(vocab_size, 300, weights=[embedding_matrix], input_length=5, trainable=False)(inputs)\n",
        "x = layers.Bidirectional(layers.LSTM(64, return_sequences=True))(x)\n",
        "x = layers.Bidirectional(layers.LSTM(64))(x)\n",
        "\n",
        "outputs = layers.Dense(2, activation=\"sigmoid\")(x)\n",
        "model = keras.Model(inputs, outputs)"
      ],
      "execution_count": 11,
      "outputs": []
    },
    {
      "cell_type": "code",
      "metadata": {
        "id": "rQaiHbxF_-YT",
        "colab": {
          "base_uri": "https://localhost:8080/"
        },
        "outputId": "9f026ee6-9632-4f7b-a24a-e9288ce1fbfe"
      },
      "source": [
        "print(model.summary())"
      ],
      "execution_count": 12,
      "outputs": [
        {
          "output_type": "stream",
          "name": "stdout",
          "text": [
            "Model: \"model\"\n",
            "_________________________________________________________________\n",
            " Layer (type)                Output Shape              Param #   \n",
            "=================================================================\n",
            " input_1 (InputLayer)        [(None, 5)]               0         \n",
            "                                                                 \n",
            " embedding (Embedding)       (None, 5, 300)            2534400   \n",
            "                                                                 \n",
            " bidirectional (Bidirectiona  (None, 5, 128)           186880    \n",
            " l)                                                              \n",
            "                                                                 \n",
            " bidirectional_1 (Bidirectio  (None, 128)              98816     \n",
            " nal)                                                            \n",
            "                                                                 \n",
            " dense (Dense)               (None, 2)                 258       \n",
            "                                                                 \n",
            "=================================================================\n",
            "Total params: 2,820,354\n",
            "Trainable params: 285,954\n",
            "Non-trainable params: 2,534,400\n",
            "_________________________________________________________________\n",
            "None\n"
          ]
        }
      ]
    },
    {
      "cell_type": "markdown",
      "metadata": {
        "id": "vP2htFoN_-YT"
      },
      "source": [
        "#### train\n",
        "Train classification model here.\n",
        "\n",
        "<font color=\"red\">**[ TODO ]**</font> Adjust the hyperparameter to optimize the validation accuracy and validation loss.\n",
        "\n",
        "* The higher the accuracy, the better; the lower the validation, the better.\n",
        "* **number of epoch** and **batch size** are the most important"
      ]
    },
    {
      "cell_type": "code",
      "metadata": {
        "id": "vhbWl3SX_-YT",
        "colab": {
          "base_uri": "https://localhost:8080/"
        },
        "outputId": "88fe3b64-3d01-40de-d996-084200ec9500"
      },
      "source": [
        "model.compile(optimizer=\"adam\", loss=\"binary_crossentropy\", metrics=['accuracy'])\n",
        "model.fit(X_train, y_train, batch_size=32, epochs=2, validation_data=(X_val, y_val))"
      ],
      "execution_count": 13,
      "outputs": [
        {
          "output_type": "stream",
          "name": "stdout",
          "text": [
            "Epoch 1/2\n",
            "10000/10000 [==============================] - 216s 21ms/step - loss: 0.0671 - accuracy: 0.9807 - val_loss: 0.0489 - val_accuracy: 0.9879\n",
            "Epoch 2/2\n",
            "10000/10000 [==============================] - 209s 21ms/step - loss: 0.0465 - accuracy: 0.9882 - val_loss: 0.0528 - val_accuracy: 0.9861\n"
          ]
        },
        {
          "output_type": "execute_result",
          "data": {
            "text/plain": [
              "<keras.callbacks.History at 0x7f7dc4453c90>"
            ]
          },
          "metadata": {},
          "execution_count": 13
        }
      ]
    },
    {
      "cell_type": "markdown",
      "metadata": {
        "id": "Ab5_l1Vg_-YT"
      },
      "source": [
        "#### test\n",
        "\n",
        "<font color=\"red\">**[ TODO ]**</font> Test your model by test.tsv and output the accuracy. Your accuracy need to beat baseline: **0.97**."
      ]
    },
    {
      "cell_type": "code",
      "metadata": {
        "id": "cECmfMVa_-YU",
        "colab": {
          "base_uri": "https://localhost:8080/"
        },
        "outputId": "50e7c621-413b-4c7b-9633-cdd3d7e9af2d"
      },
      "source": [
        "accuracy = model.evaluate(X_test, y_test)\n",
        "print(accuracy[1])"
      ],
      "execution_count": 14,
      "outputs": [
        {
          "output_type": "stream",
          "name": "stdout",
          "text": [
            "63/63 [==============================] - 2s 8ms/step - loss: 0.0535 - accuracy: 0.9885\n",
            "0.9884999990463257\n"
          ]
        }
      ]
    },
    {
      "cell_type": "markdown",
      "metadata": {
        "id": "byMWsmrW_-YU"
      },
      "source": [
        "## Show wrong prediction results\n",
        "Observing wrong prediction result may help you improve your prediction.\n",
        "\n",
        "<font color=\"red\">**[ TODO ]**</font> show the wrong prediction results like this: \n",
        "\n",
        "<img src=\"https://imgur.com/BOTMyZH.jpg\" width=30%><br>"
      ]
    },
    {
      "cell_type": "code",
      "metadata": {
        "id": "ualmYOAO_-YU",
        "colab": {
          "base_uri": "https://localhost:8080/"
        },
        "outputId": "f91fdbc1-b82a-4cf9-dc05-496920309c65"
      },
      "source": [
        "print('ngram\\t\\t\\t\\tlabel\\tpredict')\n",
        "\n",
        "idx_to_word = {idx: word for (word, idx) in tok.word_index.items()}\n",
        "\n",
        "for i, (x, y) in enumerate(zip(X_test, y_test)):\n",
        "    logits = model.predict(x.reshape(1, 5))\n",
        "    prediction = np.argmax(logits)\n",
        "    label = list(y).index(1)\n",
        "    if prediction != label:\n",
        "        ngram = \" \".join([idx_to_word[idx] for idx in x if idx != 0])\n",
        "        s = \"{}{}{}\".format(ngram.ljust(32, ' '), str(label).ljust(8, ' '), str(prediction).ljust(8, ' '))\n",
        "        print(s)\n",
        "\n",
        "# The error cases contain no punctuations, however, TA's example do.\n",
        "# I have no idea..."
      ],
      "execution_count": 21,
      "outputs": [
        {
          "output_type": "stream",
          "name": "stdout",
          "text": [
            "ngram\t\t\t\tlabel\tpredict\n",
            "earn your degree or diploma     1       0       \n",
            "earn money                      0       1       \n",
            "earn the money                  0       1       \n",
            "earn your masters degree        0       1       \n",
            "earn their money                0       1       \n",
            "earn a degree or diploma        1       0       \n",
            "earn your commission            0       1       \n",
            "earn affiliate income           0       1       \n",
            "more you earn                   0       1       \n",
            "earn money                      0       1       \n",
            "earn this diploma               1       0       \n",
            "earn a standard diploma         1       0       \n",
            "what they can earn              0       1       \n",
            "earn on average                 0       1       \n",
            "family meeting can earn         1       0       \n",
            "earn or get money               0       1       \n",
            "what i earn                     0       1       \n",
            "earn a salary to                0       1       \n",
            "earn free gear with bonus       0       1       \n",
            "earn his high school diploma    1       0       \n",
            "earn the most                   1       0       \n",
            "earn them                       0       1       \n",
            "money earn                      0       1       \n"
          ]
        }
      ]
    },
    {
      "cell_type": "markdown",
      "metadata": {
        "id": "Sj7IbjWq_-YU"
      },
      "source": [
        "## TA's Notes\n",
        "\n",
        "If you complete the Assignment, please use [this link](https://docs.google.com/spreadsheets/d/1QGeYl5dsD9sFO9SYg4DIKk-xr-yGjRDOOLKZqCLDv2E/edit#gid=807282025) to reserve demo time.  \n",
        "The score is only given after TAs review your implementation, so <u>**make sure you make a appointment with a TA before you miss the deadline**</u> .  <br>After demo, please upload your assignment to eeclass. You just need to hand in this ipynb file and rename it as XXXXXXXXX(Your student ID).ipynb.\n",
        "<br>Note that **late submission will not be allowed**."
      ]
    },
    {
      "cell_type": "markdown",
      "metadata": {
        "id": "agtLp3Go_-YU"
      },
      "source": [
        "## Learning Resource\n",
        "[Deep Learning with Python](https://tanthiamhuat.files.wordpress.com/2018/03/deeplearningwithpython.pdf)\n",
        "\n",
        "[Classification on IMDB](https://keras.io/examples/nlp/bidirectional_lstm_imdb/)"
      ]
    }
  ]
}