{
  "nbformat": 4,
  "nbformat_minor": 0,
  "metadata": {
    "kernelspec": {
      "display_name": "Python 3",
      "language": "python",
      "name": "python3"
    },
    "language_info": {
      "codemirror_mode": {
        "name": "ipython",
        "version": 3
      },
      "file_extension": ".py",
      "mimetype": "text/x-python",
      "name": "python",
      "nbconvert_exporter": "python",
      "pygments_lexer": "ipython3",
      "version": "3.8.3"
    },
    "colab": {
      "name": "109061539.ipynb",
      "provenance": [],
      "collapsed_sections": []
    }
  },
  "cells": [
    {
      "cell_type": "markdown",
      "metadata": {
        "id": "skPDgNS58rFf"
      },
      "source": [
        "# Week 13: Example Sentences Classification\n",
        "In the last two assignment, we use deep learning method to do classification task. We can get good result by deep learning, but we can hardly explain the classification result(i.e., we don't know why the phrase is classified as \"good\" phrase). Hence, in this assignment, we want you do classification again, but do it by traditional machine learning method. In this way, you can know *why* more. We want you implement this on example sentences(e.g., \"This song has a brilliant piano intro.\" for word \"brilliant\").\n",
        "\n",
        "[Here](https://drive.google.com/drive/folders/1ij20ecLlI1Zh5CdMAa91SXQzmpKfdBdJ?usp=sharing) are two files needed for this task: **train.jsonl** & **test.jsonl**. In these files, each line records one example sentence with its label. There're two types of labels: ***positive*** means it's *good* example sentence;  ***negative*** means it's *bad* example sentence."
      ]
    },
    {
      "cell_type": "code",
      "source": [
        "\"\"\"mount Google Drive to Colab directory\n",
        "\"\"\"\n",
        "from google.colab import drive\n",
        "drive.mount('/content/drive')\n",
        "%cd /content/drive/MyDrive/Colab\\ Notebooks/week13/"
      ],
      "metadata": {
        "colab": {
          "base_uri": "https://localhost:8080/"
        },
        "id": "rpj0oCFd_df2",
        "outputId": "00725658-14b5-4f7c-b3b4-5e4fd0d4ede9"
      },
      "execution_count": null,
      "outputs": [
        {
          "output_type": "stream",
          "name": "stdout",
          "text": [
            "Mounted at /content/drive\n",
            "/content/drive/MyDrive/Colab Notebooks/week13\n"
          ]
        }
      ]
    },
    {
      "cell_type": "markdown",
      "metadata": {
        "id": "e3jvUPRw8rFi"
      },
      "source": [
        "## Read Data\n",
        "We use dataframe to keep data in this assignment."
      ]
    },
    {
      "cell_type": "code",
      "metadata": {
        "id": "dtHcqH788rFj"
      },
      "source": [
        "import json\n",
        "import pandas as pd"
      ],
      "execution_count": null,
      "outputs": []
    },
    {
      "cell_type": "code",
      "metadata": {
        "id": "IMYSnsTm8rFk"
      },
      "source": [
        "def read_data_to_df(path):\n",
        "    labels = []\n",
        "    sentences = []\n",
        "    with open(path, 'r') as f:\n",
        "        for line in f.readlines():\n",
        "            line = json.loads(line)\n",
        "            sentences.append(line['text'])\n",
        "            labels.append(line['label'])\n",
        "    return pd.DataFrame({'sent': sentences,'label': labels})  "
      ],
      "execution_count": null,
      "outputs": []
    },
    {
      "cell_type": "code",
      "metadata": {
        "id": "fiO7gnYN8rFl",
        "outputId": "f7a9af2b-ccb3-4154-a4d5-96db04ba78c0",
        "colab": {
          "base_uri": "https://localhost:8080/"
        }
      },
      "source": [
        "train = read_data_to_df('data/train.jsonl')\n",
        "print(train.head())\n",
        "test = read_data_to_df('data/test.jsonl')\n",
        "print(test.head())"
      ],
      "execution_count": null,
      "outputs": [
        {
          "output_type": "stream",
          "name": "stdout",
          "text": [
            "                                                sent     label\n",
            "0         My children threw a birthday party for me.  positive\n",
            "1  Marketing on social networking sites is a fast...  positive\n",
            "2                You pillock, look what you've done!  positive\n",
            "3      He scored three touchdowns early in the game.  positive\n",
            "4          His abrupt manner makes me uncomfortable.  positive\n",
            "                                                sent     label\n",
            "0  I've just spotted Mark - he's over there, near...  positive\n",
            "1  After repricing, the bonds yield a much higher...  positive\n",
            "2             I admire her staunchness and fidelity.  positive\n",
            "3  The party's leader is in favour of the treaty ...  positive\n",
            "4  About 20 companies are working on treatments f...  positive\n"
          ]
        }
      ]
    },
    {
      "cell_type": "markdown",
      "metadata": {
        "id": "fYwKypbh8rFm"
      },
      "source": [
        "## Extract Features\n",
        "Traditional machine learning need data scientists to observe data and find out some useful information. \n",
        "\n",
        "Here is an example:"
      ]
    },
    {
      "cell_type": "code",
      "metadata": {
        "id": "8KEgpP2J8rFm",
        "outputId": "5a4e6b53-2d6b-4108-c358-d6c674c474ad",
        "colab": {
          "base_uri": "https://localhost:8080/"
        }
      },
      "source": [
        "import re\n",
        "# for positive\n",
        "spec = 0\n",
        "count = 0\n",
        "for s in train[train['label'] == \"positive\"][\"sent\"]:\n",
        "    if len(re.sub('[\\w\\s]', '', s)) > 3:\n",
        "        spec += 1\n",
        "    count += 1\n",
        "print(spec / count)"
      ],
      "execution_count": null,
      "outputs": [
        {
          "output_type": "stream",
          "name": "stdout",
          "text": [
            "0.058014915590512126\n"
          ]
        }
      ]
    },
    {
      "cell_type": "code",
      "metadata": {
        "id": "EF-utx8V8rFn",
        "outputId": "e8d4f2bc-0aee-420f-c04d-c57be4a854a7",
        "colab": {
          "base_uri": "https://localhost:8080/"
        }
      },
      "source": [
        "spec = 0\n",
        "count = 0\n",
        "for s in train[train['label'] == \"negative\"][\"sent\"]:\n",
        "    if len(re.sub('[\\w\\s]', '', s)) > 3:\n",
        "        spec += 1\n",
        "    count += 1\n",
        "print(spec / count)"
      ],
      "execution_count": null,
      "outputs": [
        {
          "output_type": "stream",
          "name": "stdout",
          "text": [
            "0.3834226149596325\n"
          ]
        }
      ]
    },
    {
      "cell_type": "markdown",
      "metadata": {
        "id": "hjjEz-ft8rFo"
      },
      "source": [
        "After some experiment, we found 38% of bad example sentences have more than 3 punctuations. In contrast, only 5.8% of good example sentences have more than 3 punctuations. Hence, it seems that it is a nice feature to distinguish good and bad example sentences, so we add this feature."
      ]
    },
    {
      "cell_type": "code",
      "metadata": {
        "id": "Xui1SJQH8rFo"
      },
      "source": [
        "train[\"more than three punc\"] = [1 if len(re.sub('[\\w\\s]', '', s)) > 3 else 0 for s in train[\"sent\"]]\n",
        "test[\"more than three punc\"] = [1 if len(re.sub('[\\w\\s]', '', s)) > 3 else 0 for s in test[\"sent\"]]"
      ],
      "execution_count": null,
      "outputs": []
    },
    {
      "cell_type": "code",
      "metadata": {
        "id": "NRWFCH6g8rFo",
        "outputId": "06649875-5a90-4f3e-b451-11b32a642f48",
        "colab": {
          "base_uri": "https://localhost:8080/",
          "height": 204
        }
      },
      "source": [
        "train.head()"
      ],
      "execution_count": 43,
      "outputs": [
        {
          "output_type": "execute_result",
          "data": {
            "text/html": [
              "<div>\n",
              "<style scoped>\n",
              "    .dataframe tbody tr th:only-of-type {\n",
              "        vertical-align: middle;\n",
              "    }\n",
              "\n",
              "    .dataframe tbody tr th {\n",
              "        vertical-align: top;\n",
              "    }\n",
              "\n",
              "    .dataframe thead th {\n",
              "        text-align: right;\n",
              "    }\n",
              "</style>\n",
              "<table border=\"1\" class=\"dataframe\">\n",
              "  <thead>\n",
              "    <tr style=\"text-align: right;\">\n",
              "      <th></th>\n",
              "      <th>sent</th>\n",
              "      <th>label</th>\n",
              "      <th>normally capitalized</th>\n",
              "      <th>no special symbols</th>\n",
              "      <th>more than three words</th>\n",
              "      <th>length of sentence</th>\n",
              "    </tr>\n",
              "  </thead>\n",
              "  <tbody>\n",
              "    <tr>\n",
              "      <th>0</th>\n",
              "      <td>My children threw a birthday party for me.</td>\n",
              "      <td>positive</td>\n",
              "      <td>1</td>\n",
              "      <td>1</td>\n",
              "      <td>1</td>\n",
              "      <td>1</td>\n",
              "    </tr>\n",
              "    <tr>\n",
              "      <th>1</th>\n",
              "      <td>Marketing on social networking sites is a fast...</td>\n",
              "      <td>positive</td>\n",
              "      <td>1</td>\n",
              "      <td>1</td>\n",
              "      <td>1</td>\n",
              "      <td>1</td>\n",
              "    </tr>\n",
              "    <tr>\n",
              "      <th>2</th>\n",
              "      <td>You pillock, look what you've done!</td>\n",
              "      <td>positive</td>\n",
              "      <td>1</td>\n",
              "      <td>1</td>\n",
              "      <td>1</td>\n",
              "      <td>1</td>\n",
              "    </tr>\n",
              "    <tr>\n",
              "      <th>3</th>\n",
              "      <td>He scored three touchdowns early in the game.</td>\n",
              "      <td>positive</td>\n",
              "      <td>1</td>\n",
              "      <td>1</td>\n",
              "      <td>1</td>\n",
              "      <td>1</td>\n",
              "    </tr>\n",
              "    <tr>\n",
              "      <th>4</th>\n",
              "      <td>His abrupt manner makes me uncomfortable.</td>\n",
              "      <td>positive</td>\n",
              "      <td>1</td>\n",
              "      <td>1</td>\n",
              "      <td>1</td>\n",
              "      <td>1</td>\n",
              "    </tr>\n",
              "  </tbody>\n",
              "</table>\n",
              "</div>"
            ],
            "text/plain": [
              "                                                sent  ... length of sentence\n",
              "0         My children threw a birthday party for me.  ...                  1\n",
              "1  Marketing on social networking sites is a fast...  ...                  1\n",
              "2                You pillock, look what you've done!  ...                  1\n",
              "3      He scored three touchdowns early in the game.  ...                  1\n",
              "4          His abrupt manner makes me uncomfortable.  ...                  1\n",
              "\n",
              "[5 rows x 6 columns]"
            ]
          },
          "metadata": {},
          "execution_count": 43
        }
      ]
    },
    {
      "cell_type": "markdown",
      "metadata": {
        "id": "DqcP3Ddv8rFp"
      },
      "source": [
        "<font color=\"red\">**[ TODO ]**</font> Please observe the data and extract at least three features and add them to the dataframe."
      ]
    },
    {
      "cell_type": "code",
      "metadata": {
        "id": "s3Gfv_Je8rFp"
      },
      "source": [
        "# first character is capitalized, others aren't (except for 'I')\n",
        "train[\"normally capitalized\"] = [1 if s[0].isupper() and all(c.islower() or c == 'I' for c in s[1:] if c.isalpha()) else 0 for s in train[\"sent\"]]\n",
        "test[\"normally capitalized\"] = [1 if s[0].isupper() and all(c.islower() or c == 'I' for c in s[1:] if c.isalpha()) else 0 for s in test[\"sent\"]]\n",
        "\n",
        "# should not use any weird symbol or different country's language\n",
        "train[\"no special symbols\"] = [1 if all(c.isalnum() or c in \"€£–',. -%$/?!’\" for c in s) else 0 for s in train[\"sent\"]]\n",
        "test[\"no special symbols\"] = [1 if all(c.isalnum() or c in \"€£–',. -%$/?!’\" for c in s) else 0 for s in test[\"sent\"]]\n",
        "\n",
        "# length of sentence is important\n",
        "train[\"length of sentence\"] = [1 if len(s) >= 20 else 0 for s in train[\"sent\"]]\n",
        "test[\"length of sentence\"] = [1 if len(s) >= 20 else 0 for s in test[\"sent\"]]\n",
        "\n",
        "# words in the sentence should be large enough\n",
        "train[\"more than three words\"] = [1 if len(s.split()) > 3 else 0 for s in train[\"sent\"]]\n",
        "test[\"more than three words\"] = [1 if len(s.split()) > 3 else 0 for s in test[\"sent\"]]"
      ],
      "execution_count": 42,
      "outputs": []
    },
    {
      "cell_type": "markdown",
      "metadata": {
        "id": "JjzzDXsV8rFp"
      },
      "source": [
        "## Train\n",
        "Now, it's time to evaluate whether the features just selected is useful to classify. We use [Bernoulli Naive Bayes model](https://scikit-learn.org/stable/modules/naive_bayes.html#bernoulli-naive-bayes) to train training data. "
      ]
    },
    {
      "cell_type": "code",
      "metadata": {
        "id": "gGec8PDW8rFq"
      },
      "source": [
        "from sklearn.naive_bayes import BernoulliNB\n",
        "bnb = BernoulliNB()"
      ],
      "execution_count": null,
      "outputs": []
    },
    {
      "cell_type": "markdown",
      "metadata": {
        "id": "IffCrLvf8rFq"
      },
      "source": [
        "<font color=\"red\">**[ TODO ]**</font> Please adjust the `selected_features` list and train the model.\n",
        "\n",
        "***Don't*** use other model in this assignment."
      ]
    },
    {
      "cell_type": "code",
      "metadata": {
        "id": "UBazhh0x8rFq"
      },
      "source": [
        "selected_features = [\"normally capitalized\", \"no special symbols\", \"length of sentence\", \"more than three words\"]"
      ],
      "execution_count": 44,
      "outputs": []
    },
    {
      "cell_type": "code",
      "metadata": {
        "id": "FWeeyHj38rFq"
      },
      "source": [
        "y_pred = bnb.fit(train[selected_features], train['label']).predict(test[selected_features])"
      ],
      "execution_count": 45,
      "outputs": []
    },
    {
      "cell_type": "markdown",
      "metadata": {
        "id": "43FpNagS8rFr"
      },
      "source": [
        "## Test\n",
        "Test the model and get the accuracy of the prediction on testing data. \n",
        "\n",
        "There're four baselines for this task:\n",
        "```\n",
        "1. simple baseline: 0.65\n",
        "2. medium baseline: 0.72\n",
        "3. strong baseline: 0.8\n",
        "4. boss baseline: 0.85\n",
        "```\n",
        "The more the baseline you pass, the more higher the grade you can get.\n",
        "\n",
        "*hint: If the result isn't ideal, you can print the wrong prediction data and re-observe but only focus on wrong data to extract other features."
      ]
    },
    {
      "cell_type": "code",
      "metadata": {
        "id": "FYOHrFtk8rFr",
        "outputId": "4baff827-6250-4bd0-f9df-75ae05fde27d",
        "colab": {
          "base_uri": "https://localhost:8080/"
        }
      },
      "source": [
        "print((test['label'] == y_pred).sum()/len(test))  # 0.8006553079947575"
      ],
      "execution_count": 46,
      "outputs": [
        {
          "output_type": "stream",
          "name": "stdout",
          "text": [
            "0.8006553079947575\n"
          ]
        }
      ]
    },
    {
      "cell_type": "markdown",
      "metadata": {
        "id": "pLkF-92v8rFr"
      },
      "source": [
        "## TA's Notes\n",
        "\n",
        "If you complete the Assignment, please use [this link](https://docs.google.com/spreadsheets/d/1QGeYl5dsD9sFO9SYg4DIKk-xr-yGjRDOOLKZqCLDv2E/edit#gid=1031097651) to reserve demo time.  \n",
        "The score is only given after TAs review your implementation, so <u>**make sure you make a appointment with a TA before you miss the deadline**</u> .  <br>After demo, please upload your assignment to eeclass. You just need to hand in this ipynb file and rename it as XXXXXXXXX(Your student ID).ipynb.\n",
        "<br>Note that **late submission will not be allowed**."
      ]
    }
  ]
}